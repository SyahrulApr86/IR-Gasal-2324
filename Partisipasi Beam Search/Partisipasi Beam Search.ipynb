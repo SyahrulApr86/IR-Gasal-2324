{
 "cells": [
  {
   "cell_type": "raw",
   "source": [
    "### Nama: Syahrul Apriansyah\n",
    "### NPM: 2106708311\n",
    "\n",
    "# Partisipasi Beam Search"
   ],
   "metadata": {
    "collapsed": false
   },
   "id": "7339b5fbe715cf5d"
  },
  {
   "cell_type": "code",
   "execution_count": 12,
   "outputs": [],
   "source": [
    "from numpy import array\n",
    "from numpy import argmax\n",
    "\n",
    "def greedy_decoder(data):\n",
    "    # index for largest probability each row\n",
    "    return [argmax(s) for s in data]"
   ],
   "metadata": {
    "collapsed": false,
    "ExecuteTime": {
     "end_time": "2023-11-26T08:31:42.213267600Z",
     "start_time": "2023-11-26T08:31:42.200260100Z"
    }
   },
   "id": "2bf7ef44562aaa37"
  },
  {
   "cell_type": "code",
   "execution_count": 13,
   "outputs": [],
   "source": [
    "from math import log\n",
    "\n",
    "def beam_search_decoder(data, num_beams):\n",
    "    epsilon = 1e-9\n",
    "    sequences = [[list(), 0.0]]  # Mulai dengan sekuens kosong dan skor 0\n",
    "    for row in data:  # Iterasi melalui setiap baris data\n",
    "        all_candidates = list()  # List untuk menyimpan semua kandidat\n",
    "        for i in range(len(sequences)):  # Iterasi melalui semua sekuens yang ada\n",
    "            seq, score = sequences[i]  # Ambil sekuens dan skor saat ini\n",
    "            for j in range(len(row)):  # Iterasi melalui probabilitas di baris saat ini\n",
    "                candidate = [seq + [j], score - log(row[j] + epsilon)]  # Buat kandidat baru\n",
    "                all_candidates.append(candidate)  # Tambahkan ke list kandidat\n",
    "        # Urutkan semua kandidat berdasarkan skor mereka\n",
    "        ordered = sorted(all_candidates, key=lambda tup: tup[1])\n",
    "        # Pilih num_beams kandidat terbaik\n",
    "        sequences = ordered[:num_beams]\n",
    "    return sequences\n"
   ],
   "metadata": {
    "collapsed": false,
    "ExecuteTime": {
     "end_time": "2023-11-26T08:31:42.990757Z",
     "start_time": "2023-11-26T08:31:42.974745700Z"
    }
   },
   "id": "4db1d946ca268bf8"
  },
  {
   "cell_type": "code",
   "execution_count": 16,
   "outputs": [],
   "source": [
    "# define a sequence of 10 words over a vocab of 5 words\n",
    "data = [[0.1, 0.2, 0.3, 0.4, 0.5],\n",
    "        [0.5, 0.4, 0.3, 0.2, 0.1],\n",
    "        [0.1, 0.2, 0.3, 0.4, 0.5],\n",
    "        [0.5, 0.4, 0.3, 0.2, 0.1],\n",
    "        [0.1, 0.2, 0.3, 0.4, 0.5],\n",
    "        [0.5, 0.4, 0.3, 0.2, 0.1],\n",
    "        [0.1, 0.2, 0.3, 0.4, 0.5],\n",
    "        [0.5, 0.4, 0.3, 0.2, 0.1],\n",
    "        [0.1, 0.2, 0.3, 0.4, 0.5],\n",
    "        [0.5, 0.4, 0.3, 0.2, 0.1]]\n",
    "data = array(data)"
   ],
   "metadata": {
    "collapsed": false,
    "ExecuteTime": {
     "end_time": "2023-11-26T08:32:05.718856700Z",
     "start_time": "2023-11-26T08:32:05.703991200Z"
    }
   },
   "id": "23e35795df647e54"
  },
  {
   "cell_type": "markdown",
   "source": [
    "## Hasil Greedy Decoder"
   ],
   "metadata": {
    "collapsed": false
   },
   "id": "9e3f0197a60cc791"
  },
  {
   "cell_type": "code",
   "execution_count": 17,
   "outputs": [
    {
     "name": "stdout",
     "output_type": "stream",
     "text": [
      "[4, 0, 4, 0, 4, 0, 4, 0, 4, 0]\n"
     ]
    }
   ],
   "source": [
    "result = greedy_decoder(data)\n",
    "print(result)"
   ],
   "metadata": {
    "collapsed": false,
    "ExecuteTime": {
     "end_time": "2023-11-26T08:32:06.559728200Z",
     "start_time": "2023-11-26T08:32:06.543701700Z"
    }
   },
   "id": "f75d80ddce1ea371"
  },
  {
   "cell_type": "markdown",
   "source": [
    "## Hasil Beam Search Decoder"
   ],
   "metadata": {
    "collapsed": false
   },
   "id": "59ba4c02c128432e"
  },
  {
   "cell_type": "code",
   "execution_count": 14,
   "id": "initial_id",
   "metadata": {
    "collapsed": true,
    "ExecuteTime": {
     "end_time": "2023-11-26T08:31:43.977861400Z",
     "start_time": "2023-11-26T08:31:43.969706900Z"
    }
   },
   "outputs": [
    {
     "name": "stdout",
     "output_type": "stream",
     "text": [
      "[[4, 0, 4, 0, 4, 0, 4, 0, 4, 0], 6.931471785599453]\n",
      "[[4, 0, 3, 0, 4, 0, 4, 0, 4, 0], 7.154615336413662]\n",
      "[[4, 1, 4, 0, 4, 0, 4, 0, 4, 0], 7.154615336413662]\n"
     ]
    }
   ],
   "source": [
    "# Jumlah beam yang diinginkan\n",
    "num_beams = 3\n",
    "\n",
    "# Melakukan beam search decoding\n",
    "decoded_sequences = beam_search_decoder(data, num_beams)\n",
    "\n",
    "# Cetak hasilnya\n",
    "for sequence in decoded_sequences:\n",
    "    print(sequence)"
   ]
  },
  {
   "cell_type": "code",
   "execution_count": null,
   "outputs": [],
   "source": [],
   "metadata": {
    "collapsed": false
   },
   "id": "767ea5d0e3fafe98"
  }
 ],
 "metadata": {
  "kernelspec": {
   "display_name": "Python 3",
   "language": "python",
   "name": "python3"
  },
  "language_info": {
   "codemirror_mode": {
    "name": "ipython",
    "version": 2
   },
   "file_extension": ".py",
   "mimetype": "text/x-python",
   "name": "python",
   "nbconvert_exporter": "python",
   "pygments_lexer": "ipython2",
   "version": "2.7.6"
  }
 },
 "nbformat": 4,
 "nbformat_minor": 5
}

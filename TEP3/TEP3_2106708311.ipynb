{
 "cells": [
  {
   "cell_type": "markdown",
   "metadata": {
    "id": "CSznz49Z3KcT"
   },
   "source": [
    "# Tugas Eksplorasi Pemrograman 3"
   ]
  },
  {
   "cell_type": "markdown",
   "metadata": {
    "id": "1osDSOSsiogc"
   },
   "source": [
    "Pada TEP 3 ini, Anda akan mengeksplorasi *index partitioning* dengan IndexIVFFlat dan *random projection* dengan IndexLSH dari FAISS.\n",
    "Silakan lakukan eksperimen dan laporkan hasil analisis Anda dengan menambahkan `text `langsung pada notebook yang akan Anda kumpulkan.\n",
    "Anda dibebaskan untuk mengubah dan menambahkan parameter, melakukan *fine tune* model, atau mencoba teknik *vector indexing* yang lain dari FAISS.\n",
    "\n",
    "Selamat bereksperimen dan semoga bermanfaat!"
   ]
  },
  {
   "cell_type": "markdown",
   "metadata": {},
   "source": [
    "Syahrul Apriansyah\n",
    "2106708311"
   ]
  },
  {
   "cell_type": "markdown",
   "source": [
    "## Pendahuluan\n",
    "\n",
    "### Tujuan\n",
    "Tugas Eksplorasi Pemrograman 3 ini bertujuan untuk memberikan pemahaman mendalam tentang FAISS (Facebook AI Similarity Search), sebuah library yang efisien untuk pencarian kesamaan vektor pada skala besar. Kita akan menjalankan dan menganalisis kode yang telah disediakan dalam Google Colab notebook, dengan fokus pada dua teknik utama: Index Partitioning menggunakan `IndexIVFFlat` dan Random Projection menggunakan `IndexLSH`.\n"
   ],
   "metadata": {
    "collapsed": false
   }
  },
  {
   "cell_type": "markdown",
   "metadata": {
    "id": "yY9wKnCgxN6Y"
   },
   "source": [
    "# Reference"
   ]
  },
  {
   "cell_type": "markdown",
   "metadata": {
    "id": "FyIB68jhDqzC"
   },
   "source": [
    "Berikut adalah sumber yang dapat Anda pelajari."
   ]
  },
  {
   "cell_type": "markdown",
   "metadata": {
    "id": "TWipb4AIxR8_"
   },
   "source": [
    "- https://www.pinecone.io/learn/series/faiss/faiss-tutorial/\n",
    "- https://www.pinecone.io/learn/series/faiss/locality-sensitive-hashing-random-projection/\n",
    "- https://www.kaggle.com/code/dailysergey/howtodata-use-faiss-for-similarity-search-cpu"
   ]
  },
  {
   "cell_type": "markdown",
   "metadata": {
    "id": "I0D5usueisio"
   },
   "source": [
    "# Setup"
   ]
  },
  {
   "cell_type": "code",
   "execution_count": 4,
   "metadata": {
    "ExecuteTime": {
     "end_time": "2023-12-10T14:51:09.489269500Z",
     "start_time": "2023-12-10T14:51:06.210989500Z"
    },
    "id": "g4-o5xhUQg2-"
   },
   "outputs": [],
   "source": [
    "import faiss\n",
    "from sentence_transformers import SentenceTransformer\n",
    "import pandas as pd\n",
    "import numpy as np"
   ]
  },
  {
   "cell_type": "code",
   "execution_count": 5,
   "metadata": {
    "ExecuteTime": {
     "end_time": "2023-12-10T14:51:11.864696200Z",
     "start_time": "2023-12-10T14:51:09.490424800Z"
    },
    "colab": {
     "base_uri": "https://localhost:8080/",
     "height": 423
    },
    "id": "lly1fGmfAKdf",
    "outputId": "54ebf737-85b2-43a5-e1e5-732683a5a2fc"
   },
   "outputs": [
    {
     "data": {
      "text/html": [
       "<div>\n",
       "<style scoped>\n",
       "    .dataframe tbody tr th:only-of-type {\n",
       "        vertical-align: middle;\n",
       "    }\n",
       "\n",
       "    .dataframe tbody tr th {\n",
       "        vertical-align: top;\n",
       "    }\n",
       "\n",
       "    .dataframe thead th {\n",
       "        text-align: right;\n",
       "    }\n",
       "</style>\n",
       "<table border=\"1\" class=\"dataframe\">\n",
       "  <thead>\n",
       "    <tr style=\"text-align: right;\">\n",
       "      <th></th>\n",
       "      <th>query</th>\n",
       "      <th>title</th>\n",
       "      <th>label</th>\n",
       "    </tr>\n",
       "  </thead>\n",
       "  <tbody>\n",
       "    <tr>\n",
       "      <th>0</th>\n",
       "      <td>coronavirus origin</td>\n",
       "      <td>Monophyletic Relationship between Severe Acute...</td>\n",
       "      <td>1</td>\n",
       "    </tr>\n",
       "    <tr>\n",
       "      <th>1</th>\n",
       "      <td>coronavirus origin</td>\n",
       "      <td>Comprehensive overview of COVID-19 based on cu...</td>\n",
       "      <td>1</td>\n",
       "    </tr>\n",
       "    <tr>\n",
       "      <th>2</th>\n",
       "      <td>coronavirus origin</td>\n",
       "      <td>The SARS, MERS and novel coronavirus (COVID-19...</td>\n",
       "      <td>1</td>\n",
       "    </tr>\n",
       "    <tr>\n",
       "      <th>3</th>\n",
       "      <td>coronavirus origin</td>\n",
       "      <td>Evidence for zoonotic origins of Middle East r...</td>\n",
       "      <td>1</td>\n",
       "    </tr>\n",
       "    <tr>\n",
       "      <th>4</th>\n",
       "      <td>coronavirus origin</td>\n",
       "      <td>Deadly virus effortlessly hops species</td>\n",
       "      <td>1</td>\n",
       "    </tr>\n",
       "    <tr>\n",
       "      <th>...</th>\n",
       "      <td>...</td>\n",
       "      <td>...</td>\n",
       "      <td>...</td>\n",
       "    </tr>\n",
       "    <tr>\n",
       "      <th>51387</th>\n",
       "      <td>mRNA vaccine coronavirus</td>\n",
       "      <td>Current Insight into the Novel Coronavirus Dis...</td>\n",
       "      <td>0</td>\n",
       "    </tr>\n",
       "    <tr>\n",
       "      <th>51388</th>\n",
       "      <td>mRNA vaccine coronavirus</td>\n",
       "      <td>Emerging Technologies for Use in the Study, Di...</td>\n",
       "      <td>1</td>\n",
       "    </tr>\n",
       "    <tr>\n",
       "      <th>51389</th>\n",
       "      <td>mRNA vaccine coronavirus</td>\n",
       "      <td>Another Set of Coronavirus Vaccine Candidates</td>\n",
       "      <td>1</td>\n",
       "    </tr>\n",
       "    <tr>\n",
       "      <th>51390</th>\n",
       "      <td>mRNA vaccine coronavirus</td>\n",
       "      <td>A single-dose live-attenuated YF17D-vectored S...</td>\n",
       "      <td>0</td>\n",
       "    </tr>\n",
       "    <tr>\n",
       "      <th>51391</th>\n",
       "      <td>mRNA vaccine coronavirus</td>\n",
       "      <td>Four vaccine manufacturers have been asked by ...</td>\n",
       "      <td>1</td>\n",
       "    </tr>\n",
       "  </tbody>\n",
       "</table>\n",
       "<p>51392 rows × 3 columns</p>\n",
       "</div>"
      ],
      "text/plain": [
       "                          query  \\\n",
       "0            coronavirus origin   \n",
       "1            coronavirus origin   \n",
       "2            coronavirus origin   \n",
       "3            coronavirus origin   \n",
       "4            coronavirus origin   \n",
       "...                         ...   \n",
       "51387  mRNA vaccine coronavirus   \n",
       "51388  mRNA vaccine coronavirus   \n",
       "51389  mRNA vaccine coronavirus   \n",
       "51390  mRNA vaccine coronavirus   \n",
       "51391  mRNA vaccine coronavirus   \n",
       "\n",
       "                                                   title  label  \n",
       "0      Monophyletic Relationship between Severe Acute...      1  \n",
       "1      Comprehensive overview of COVID-19 based on cu...      1  \n",
       "2      The SARS, MERS and novel coronavirus (COVID-19...      1  \n",
       "3      Evidence for zoonotic origins of Middle East r...      1  \n",
       "4                 Deadly virus effortlessly hops species      1  \n",
       "...                                                  ...    ...  \n",
       "51387  Current Insight into the Novel Coronavirus Dis...      0  \n",
       "51388  Emerging Technologies for Use in the Study, Di...      1  \n",
       "51389      Another Set of Coronavirus Vaccine Candidates      1  \n",
       "51390  A single-dose live-attenuated YF17D-vectored S...      0  \n",
       "51391  Four vaccine manufacturers have been asked by ...      1  \n",
       "\n",
       "[51392 rows x 3 columns]"
      ]
     },
     "execution_count": 5,
     "metadata": {},
     "output_type": "execute_result"
    }
   ],
   "source": [
    "training_data = pd.read_csv(\"https://thigm85.github.io/data/cord19/cord19-query-title-label.csv\")\n",
    "training_data"
   ]
  },
  {
   "cell_type": "code",
   "execution_count": 6,
   "metadata": {
    "ExecuteTime": {
     "end_time": "2023-12-10T14:51:12.019301300Z",
     "start_time": "2023-12-10T14:51:11.866720400Z"
    },
    "colab": {
     "base_uri": "https://localhost:8080/"
    },
    "id": "THcMq2d8AUoX",
    "outputId": "a21e3f93-1bb6-4aa7-e5b4-b52e6c26d3ca"
   },
   "outputs": [
    {
     "name": "stderr",
     "output_type": "stream",
     "text": [
      "C:\\Users\\USER\\AppData\\Local\\Temp\\ipykernel_26164\\971220726.py:6: UserWarning: Boolean Series key will be reindexed to match DataFrame index.\n",
      "  df = pd.concat([training_data[training_data[\"query\"]==quer][training_data[\"label\"]==1].head(num_of_query_with_rels), training_data[training_data[\"query\"]==quer][training_data[\"label\"]!=1].head(3)], ignore_index = True)\n",
      "C:\\Users\\USER\\AppData\\Local\\Temp\\ipykernel_26164\\971220726.py:6: UserWarning: Boolean Series key will be reindexed to match DataFrame index.\n",
      "  df = pd.concat([training_data[training_data[\"query\"]==quer][training_data[\"label\"]==1].head(num_of_query_with_rels), training_data[training_data[\"query\"]==quer][training_data[\"label\"]!=1].head(3)], ignore_index = True)\n",
      "C:\\Users\\USER\\AppData\\Local\\Temp\\ipykernel_26164\\971220726.py:8: UserWarning: Boolean Series key will be reindexed to match DataFrame index.\n",
      "  temp_df = pd.concat([training_data[training_data[\"query\"]==quer][training_data[\"label\"]==1].head(num_of_query_with_rels), training_data[training_data[\"query\"]==quer][training_data[\"label\"]!=1].head(3)], ignore_index = True)\n",
      "C:\\Users\\USER\\AppData\\Local\\Temp\\ipykernel_26164\\971220726.py:8: UserWarning: Boolean Series key will be reindexed to match DataFrame index.\n",
      "  temp_df = pd.concat([training_data[training_data[\"query\"]==quer][training_data[\"label\"]==1].head(num_of_query_with_rels), training_data[training_data[\"query\"]==quer][training_data[\"label\"]!=1].head(3)], ignore_index = True)\n",
      "C:\\Users\\USER\\AppData\\Local\\Temp\\ipykernel_26164\\971220726.py:8: UserWarning: Boolean Series key will be reindexed to match DataFrame index.\n",
      "  temp_df = pd.concat([training_data[training_data[\"query\"]==quer][training_data[\"label\"]==1].head(num_of_query_with_rels), training_data[training_data[\"query\"]==quer][training_data[\"label\"]!=1].head(3)], ignore_index = True)\n",
      "C:\\Users\\USER\\AppData\\Local\\Temp\\ipykernel_26164\\971220726.py:8: UserWarning: Boolean Series key will be reindexed to match DataFrame index.\n",
      "  temp_df = pd.concat([training_data[training_data[\"query\"]==quer][training_data[\"label\"]==1].head(num_of_query_with_rels), training_data[training_data[\"query\"]==quer][training_data[\"label\"]!=1].head(3)], ignore_index = True)\n"
     ]
    }
   ],
   "source": [
    "num_query  = 3\n",
    "num_of_query_with_rels = 3\n",
    "df = \"\"\n",
    "for quer in list(training_data[\"query\"].unique())[:num_query]:\n",
    "    if len(df)==0:\n",
    "        df = pd.concat([training_data[training_data[\"query\"]==quer][training_data[\"label\"]==1].head(num_of_query_with_rels), training_data[training_data[\"query\"]==quer][training_data[\"label\"]!=1].head(3)], ignore_index = True)\n",
    "    else:\n",
    "        temp_df = pd.concat([training_data[training_data[\"query\"]==quer][training_data[\"label\"]==1].head(num_of_query_with_rels), training_data[training_data[\"query\"]==quer][training_data[\"label\"]!=1].head(3)], ignore_index = True)\n",
    "        df = pd.concat([df,temp_df], ignore_index = True)"
   ]
  },
  {
   "cell_type": "markdown",
   "source": [
    "Pada bagian kode di atas data diproses untuk mengumpulkan judul artikel yang relevan dan tidak relevan berdasarkan query. Pendekatan ini menciptakan keseimbangan antara hasil positif dan negatif, penting untuk evaluasi model pencarian. Dengan cara ini, dapat dilakukan analisis atau pelatihan model yang lebih akurat, khususnya dalam konteks sistem rekomendasi atau pencarian berbasis teks."
   ],
   "metadata": {
    "collapsed": false
   }
  },
  {
   "cell_type": "code",
   "execution_count": 7,
   "metadata": {
    "ExecuteTime": {
     "end_time": "2023-12-10T14:51:12.020300500Z",
     "start_time": "2023-12-10T14:51:11.907103200Z"
    },
    "colab": {
     "base_uri": "https://localhost:8080/"
    },
    "id": "RJJb7CgeCXYb",
    "outputId": "2b261104-a725-4c40-9400-649a8909539f"
   },
   "outputs": [
    {
     "data": {
      "text/plain": [
       "(18, 3)"
      ]
     },
     "execution_count": 7,
     "metadata": {},
     "output_type": "execute_result"
    }
   ],
   "source": [
    "df = df.sample(frac=1)\n",
    "df.shape"
   ]
  },
  {
   "cell_type": "code",
   "execution_count": 8,
   "metadata": {
    "ExecuteTime": {
     "end_time": "2023-12-10T14:51:12.020300500Z",
     "start_time": "2023-12-10T14:51:11.924880Z"
    },
    "id": "IRKJpyvouJbn"
   },
   "outputs": [],
   "source": [
    "sentences = list(df[\"title\"].unique())\n",
    "indonesia_doc = [\"Pentingnya olahraga untuk kesehatan mental juga tidak boleh diabaikan. Aktivitas fisik dapat mengurangi tingkat stres dan kecemasan dengan melepaskan endorfin, hormon bahagia, yang dapat meningkatkan suasana hati. Selain itu, olahraga teratur juga dapat meningkatkan kognisi dan fungsi otak, membantu mencegah penurunan kognitif terkait usia. Dengan manfaat ini, olahraga menjadi elemen integral dalam menjaga keseimbangan holistik antara kesehatan fisik dan mental.\",\n",
    "                 \"Selain penerapan kecerdasan buatan, teknologi terbaru juga mencakup pengembangan terapi gen, yang memiliki potensi untuk menyembuhkan penyakit genetik dan kanker. Terapi gen menggunakan manipulasi genetik untuk mengubah atau memperbaiki sel-sel tubuh manusia. Di samping itu, penggunaan robotika dalam pembedahan semakin meningkat, memungkinkan presisi yang lebih tinggi dan pemulihan yang lebih cepat. Dengan terus berkembangnya teknologi di bidang kesehatan, harapannya adalah peningkatan efektivitas pengobatan dan peningkatan kualitas hidup pasien.\",\n",
    "                 \"Perubahan iklim juga memberikan dampak signifikan pada keanekaragaman hayati. Pergeseran suhu dan pola hujan mempengaruhi habitat alami, menyebabkan migrasi spesies dan bahkan kepunahan. Selain itu, terjadi acidifikasi laut akibat peningkatan kadar karbon dioksida, yang berdampak buruk pada organisme laut dengan cangkang kalsium, seperti karang dan moluska. Dengan menyadari konsekuensi ini, penting untuk mempromosikan praktik berkelanjutan dan upaya konservasi untuk melindungi keanekaragaman hayati dan memitigasi dampak perubahan iklim di seluruh dunia.\",\n",
    "                 \"Tidak hanya bermanfaat untuk kesehatan fisik dan mental, olahraga juga dapat memperkuat hubungan sosial. Melalui partisipasi dalam kegiatan olahraga bersama, individu dapat membangun jejaring sosial, memperluas lingkaran pertemanan, dan meningkatkan keterlibatan dalam komunitas. Terlibat dalam tim olahraga atau kegiatan kelompok lainnya tidak hanya meningkatkan rasa solidaritas tetapi juga memberikan kesempatan untuk belajar nilai-nilai seperti kerjasama, kepemimpinan, dan toleransi, yang dapat membentuk karakter positif.\",\n",
    "                 \"Teknologi kesehatan terbaru tidak hanya berkaitan dengan pengembangan perangkat keras, tetapi juga mengenai perangkat lunak dan aplikasi yang mendukung manajemen kesehatan pribadi. Aplikasi kesehatan digital dan platform telemedicine semakin memudahkan pengguna untuk memantau kondisi kesehatan mereka, menjadikan pencegahan sebagai fokus utama. Selain itu, penggunaan teknologi blockchain mulai diintegrasikan dalam sistem rekam medis elektronik, meningkatkan keamanan dan aksesibilitas data pasien dengan memberikan kontrol lebih besar kepada individu terkait informasi kesehatan mereka.\",\n",
    "                 \"Dampak perubahan iklim tidak hanya terbatas pada ekosistem darat dan laut, tetapi juga berpengaruh signifikan pada sektor ekonomi dan keberlanjutan. Pertanian, misalnya, menghadapi tantangan seperti penurunan hasil pertanian karena perubahan pola hujan yang tidak stabil. Selain itu, sektor pariwisata juga terdampak oleh kerusakan lingkungan, seperti bleaching karang akibat suhu laut yang meningkat. Upaya untuk mengatasi perubahan iklim tidak hanya penting untuk melindungi lingkungan alam, tetapi juga untuk menjaga ketahanan ekonomi dan kehidupan manusia di berbagai sektor.\",\n",
    "                 \"Olahraga memiliki manfaat besar bagi kesehatan tubuh manusia. Seiring gaya hidup modern yang cenderung kurang aktif, melakukan olahraga secara teratur dapat membantu menjaga berat badan yang sehat dan mengurangi risiko obesitas. Selain itu, olahraga juga dapat meningkatkan kesehatan jantung dengan memperkuat otot-otot jantung dan meningkatkan peredaran darah. Manfaat lainnya termasuk peningkatan stamina, peningkatan kualitas tidur, dan peningkatan mood melalui pelepasan endorfin selama aktivitas fisik.\",\n",
    "                 \"Inovasi teknologi terbaru telah mengubah landscape bidang kesehatan secara signifikan. Salah satu perkembangan penting adalah penerapan kecerdasan buatan (AI) dalam diagnosis medis. Teknologi ini memungkinkan analisis data yang cepat dan akurat untuk membantu dokter dalam mendiagnosis penyakit. Selain itu, telemedicine juga semakin populer, memungkinkan konsultasi medis jarak jauh melalui platform digital. Pengembangan teknologi wearable seperti smartwatch juga memungkinkan pengguna untuk memantau kondisi kesehatan mereka secara real-time.\",\n",
    "                 \"Perubahan iklim memiliki dampak serius terhadap lingkungan dan kehidupan manusia. Peningkatan suhu global telah menyebabkan perubahan ekosistem dan distribusi spesies. Kenaikan permukaan air laut akibat schmelting es polar mengancam puluhan ribu pulau dan kota pesisir. Perubahan pola cuaca ekstrem, seperti banjir dan kekeringan, juga semakin sering terjadi, mengancam keamanan pangan dan keberlanjutan pertanian. Dengan memahami dampak ini, upaya global untuk mengurangi emisi gas rumah kaca menjadi krusial untuk menjaga kelestarian bumi bagi generasi mendatang.\"]\n",
    "sentences.extend(indonesia_doc)"
   ]
  },
  {
   "cell_type": "code",
   "execution_count": 9,
   "metadata": {
    "ExecuteTime": {
     "end_time": "2023-12-10T14:51:12.082302200Z",
     "start_time": "2023-12-10T14:51:11.937127200Z"
    },
    "id": "iqJLSdsNuplG"
   },
   "outputs": [],
   "source": [
    "indonesia_queries = [\n",
    "    \"Manfaat olahraga bagi kesehatan\",\n",
    "    \"Teknologi terbaru di bidang kesehatan\",\n",
    "    \"Pengaruh perubahan iklim terhadap lingkungan\"\n",
    "]"
   ]
  },
  {
   "cell_type": "code",
   "execution_count": 10,
   "metadata": {
    "ExecuteTime": {
     "end_time": "2023-12-10T15:00:58.316289900Z",
     "start_time": "2023-12-10T14:51:11.954307300Z"
    },
    "colab": {
     "base_uri": "https://localhost:8080/",
     "height": 691,
     "referenced_widgets": [
      "3ba2965dd00f4c028f74a1c570b7bf6c",
      "0f5b8b0fd1dc4a7184258556931d892b",
      "32c0514ee07d452e9e0cc15d5b38fbf1",
      "cb01d0dfca6342eb89f624e5448c03b0",
      "fb17d95eeee84d1b822684d337449b12",
      "19d7adc475ef4e02a4897b447879b789",
      "43a26a4853524418bb984aa1a4e701ac",
      "3a88a2e22aa34336a127474153a28ce8",
      "a934d578e1ca46a8b37309fd7d385e79",
      "4c8104015e744397aa307a24ea9c3d9d",
      "fab307f32af645dfa909abdb7f9b237a",
      "dd6ac68594a74a229954df0507eee9a4",
      "aeeb65ff000f4fb1a38668b853337ef6",
      "a019e0e9cd00404fbec6faa5658a1b68",
      "56001edf431f48e59b73a2c21689fbec",
      "276dc3f03413470f91842f85d6d935c4",
      "d9cc8f398cbb4504b77f7a6a08237d61",
      "b87b215b98fd486284b068b341498fad",
      "e620cec3df894a15905c494940b54c80",
      "a1332d24d25f4a39abf46ad4d2b4846e",
      "1b4415990d54485cbd06426271cf24b2",
      "8ac3ab46828143a59bf0eb43f184e314",
      "7aabdd9dcb234629a07351c80e4047f3",
      "fba504a372e24e0782cc883f6b4163fc",
      "50c89f77c7ec42e88feec6aa620edae5",
      "33e67c0b2d2342a492aa5f998ab13f7c",
      "5cb09bc41f454000b06ec39db331b244",
      "a682d86c3a2542a3bc0d3a7dbd9edc1c",
      "78e123de2ac94e048cf612121f04425e",
      "b7df3703cf7e4f02a364667c05e32084",
      "b12975b1c7d4486a835b2b4234f52607",
      "1e6cc7ca89504fcd95afe7481dce1fa7",
      "7a11b42786a44629a9f560bf60d9fb40",
      "bf5d447a6ad8429fa464ecb255fb6814",
      "9920923ce4f64d0083798f8f879e469b",
      "85ef9ff57ed34bb18c7be2e443996937",
      "caa069d0ab2f439b95278dda6d35ea16",
      "9b81b04fafeb41cda8c80884f1c72d02",
      "cd0fb4dd05e644cda7139a7874780b71",
      "ef77018625f8473fa24152424dce7786",
      "0e270c8521b746d1a2571db1b91a81d5",
      "3f1b0224eb2d41eda5db6b05e2346e52",
      "21c162eef78a4d50bc514268fb2125b9",
      "1ca760151e4e4fd9835e81c0ab28e50a",
      "aab54630dd854d4988126f7b8cd5afe0",
      "698ec659f881451e921bfcdf7b0377e9",
      "e0dcc547c6a44de38519fd3ff275b2d8",
      "2e0a2750df7c42cead34eade0fd18cfc",
      "680d029834ca43abad482cdd14e86888",
      "b35d0ded3e644844bc479e3908c106d9",
      "16118cb52a484c97a1f20e0ee9043022",
      "f80a02ba65b241e4a7c0a9d4bac226b8",
      "fdd02c5f6bcb4a0ab235b834fad4d453",
      "6791efc7929f4c55b81889f40af3e2b1",
      "f9630bca2e7143be9ec0babd4d438a7f",
      "6091b664778b489789e61b82115e8707",
      "85bc8df89d2c45faab8c12160e08c470",
      "7dfc9e83783743ae98cab3718df5b9f0",
      "62d27aef7ac64bd6a25e5862385502f4",
      "5cbc3f4b3ba041d58628c52db03a5498",
      "8e182c2d301c4fc28fda6abd34e00af6",
      "1eafd89ac04849c8abdc9b8eadd8759b",
      "43c02390211e4b058a001f0671cce6c1",
      "ef9e36e0d0d74556a7ff3ff03bb3b4ff",
      "20892061ef2545c4a7ed1ea5de773dbf",
      "ec438dd936b74616af482053dc59f153",
      "53629474defc48e1b1c5ce7425ada658",
      "6647a0a5eb6f4ad5823aa0c11de8b94f",
      "8b4a769344804093b291d00392af3143",
      "629990e48f0b4f4abffcb8d6ea2e4e1f",
      "f5c348ace47d486f9d407cfe7c34e6a5",
      "ecec42def5344b40b43c33d9b453f1e4",
      "18cf5415ab4a464faea7ff5dce402238",
      "37796c7b8f954366bd07f10047cd13f9",
      "a394772bf5cc48428f2fb7bfe1d59ac8",
      "b6df52acdf1447f5a5c5ca2261e3992e",
      "f13a573b68364c8bb54b4ff572369cb8",
      "0de6162096d94dcdaf9175ae2884b353",
      "90a74fb7db2648b3aea60fd4d79e7832",
      "b6404095db6543229d3558604af4a148",
      "3b171379ebbc4203b58bcec981ad4507",
      "43a2048b5f9b411199fb3d767a42eb0e",
      "cb7747b16e7546a1b33526007c7b2494",
      "9bcab7d188d54f5c8ee3133e38a83f06",
      "de1c278efe7f4480b8bf335f271b2477",
      "8b305a0147a7492d90d6ac6067b804fa",
      "518cbfdf6efa47be88fd254f1ac2508e",
      "d4c2a9c9cc1e4494995c66f84bcf10ab",
      "c9ac3057d5514b4b9a04b64f030b75df",
      "be61be60927140f0a20acf48def546ae",
      "8b42ccd2f94e4d4c816b754152bcf831",
      "36ac918cec3843e3907cbafb72acc59d",
      "5bb0eaf09c5344a28b72e1dc7298e20a",
      "4b0b22b960654ce88810a2829a9bca16",
      "db606defe7fb4e5f93ee1817dd7482d3",
      "d202d09d5d6d48d7b19f2d3cee3668bb",
      "6daf69006851453c8a7a432755a54506",
      "61be77664bdb447081fed6351ac388d6",
      "d3303725f39e4e5b801d377fb8ee6b63",
      "ebc2f057f3b342b487c8c758329c5d2e",
      "2daaf4c517cb4b96b41ab4f19045fa1a",
      "edac328b6dd24eaeab78ea6fb2e2b995",
      "6f68e4f8cf4e4a2c9a7109ab2d37b6ec",
      "c4dbe5415cda4a6f96af44b179695081",
      "d33f7ff6f21e40469d48e82dc5968f1c",
      "cd07ae312489459c9d1d1ce2bb253918",
      "74d8f3ab92144c9dbfa0be301fa1c880",
      "54471685cbde4c07b158de7a657a7fd9",
      "ac12785cb69e4aaba74b2d547cdc0185",
      "8198833a5dd047b4bfb3451f814535c7",
      "98e0942fcaab49b3802cfae02a071827",
      "409f5e1e4bae4409aea054af9dd8cb50",
      "928888f7c88e4a77817ab18894b8beb7",
      "9aab95b929be4c8b9c091471091d01ab",
      "3450fe80ebbb440ca176b0636b8a8ac7",
      "256ac98ea2004dd79012f08d08452cc1",
      "02fc9b1fdeb74bd8b7accbeed08e4048",
      "8bace130ff244b14a4017cd18442a9e8",
      "4523ff4bbcd84a898c392d4cc072e135",
      "8f1aad4e64bb4cc58918c2dc797b323d",
      "4e78c398164245d28c602ae2c0a61455",
      "28161caa9f3b4e199e8475717feb7740",
      "a333c53c6bff45cd8488356ca969ff40",
      "215ddd952d5047119ae498236afab5f0",
      "03208937190441ec8dac095ffa7ca4bd",
      "70d67a39b8c349018d5b38d359038481",
      "24c72bbcde3e4e7d9d1e6c826765c535",
      "899a60004c4747c49685af3194f13dc9",
      "a247a0e8c94c4acda273fdae51d1d480",
      "d775ce42e3ca4fccbf02b2b8eb0f5960",
      "af5d735a6b964b62998978c841ee6cc3",
      "08d71fa0dd8f4c7d85a2673dd57ae1e0",
      "26d5467ea30749db9f1bd55ba18db758",
      "39b64dd97608440c9746d3d26a965e32",
      "edce1f06104146bb98b62cfd7c88e4d5",
      "198db20f137a49d7bc2c85110a37d48b",
      "68821ef8fc934bcf97bcfa48d374dc1f",
      "53b7491cf0ba453691489708d0bf5404",
      "ca01ffcc658040c99b6cc583be5b443e",
      "b88c6784a31a4e9cb43812ef13d90e97",
      "171188a5fbdd4ec395c9205e6758f55e",
      "95fe2d7c37f749e5bc47e59b7a5c9f49",
      "27a94b5729a24641b9a4d79da0093b3a",
      "67c63a6af7e24cdd87171fa3cfc4f2af",
      "03d8985dc1c540d891af267b4279f9f6",
      "e578f9d3e4744c5286c7a98e1089364b",
      "79699485c7f84787ad01ffa9c4ac90b0",
      "4f366a225c9741abbc5ed5845423e2b0",
      "c6686aaaf85d44ebbd189800db8cfd1d",
      "7b0bba66f8d54d0c8169d93126e8a991",
      "56e67c2b4d224eaca14e42d5c3934adb",
      "ed2becbb83674b4f9a336292833b3e47",
      "a9944d1355db4bc5824724bca32d443c",
      "68d432195d814360b0ec3fa7b111e823"
     ]
    },
    "id": "g6aeBML_PX1o",
    "outputId": "b6afddfc-079a-41ef-ff46-a7f6fd6dacb2"
   },
   "outputs": [
    {
     "data": {
      "application/vnd.jupyter.widget-view+json": {
       "model_id": "c67bb442bc7e4679a14b9e678cf7d5d0",
       "version_major": 2,
       "version_minor": 0
      },
      "text/plain": [
       "Downloading .gitattributes:   0%|          | 0.00/391 [00:00<?, ?B/s]"
      ]
     },
     "metadata": {},
     "output_type": "display_data"
    },
    {
     "data": {
      "application/vnd.jupyter.widget-view+json": {
       "model_id": "691c7c360d54498fa6069a6888058936",
       "version_major": 2,
       "version_minor": 0
      },
      "text/plain": [
       "Downloading 1_Pooling/config.json:   0%|          | 0.00/190 [00:00<?, ?B/s]"
      ]
     },
     "metadata": {},
     "output_type": "display_data"
    },
    {
     "data": {
      "application/vnd.jupyter.widget-view+json": {
       "model_id": "fa98963990014f29b24d08836b3122cc",
       "version_major": 2,
       "version_minor": 0
      },
      "text/plain": [
       "Downloading 2_Dense/config.json:   0%|          | 0.00/114 [00:00<?, ?B/s]"
      ]
     },
     "metadata": {},
     "output_type": "display_data"
    },
    {
     "data": {
      "application/vnd.jupyter.widget-view+json": {
       "model_id": "81dbf4cd0740457a9bf94e41f98abca4",
       "version_major": 2,
       "version_minor": 0
      },
      "text/plain": [
       "Downloading pytorch_model.bin:   0%|          | 0.00/2.36M [00:00<?, ?B/s]"
      ]
     },
     "metadata": {},
     "output_type": "display_data"
    },
    {
     "data": {
      "application/vnd.jupyter.widget-view+json": {
       "model_id": "ffe059802f664374910e1e7ad6623db4",
       "version_major": 2,
       "version_minor": 0
      },
      "text/plain": [
       "Downloading README.md:   0%|          | 0.00/2.19k [00:00<?, ?B/s]"
      ]
     },
     "metadata": {},
     "output_type": "display_data"
    },
    {
     "data": {
      "application/vnd.jupyter.widget-view+json": {
       "model_id": "8c0ed305855a4d898df8bf0e5ecc8860",
       "version_major": 2,
       "version_minor": 0
      },
      "text/plain": [
       "Downloading config.json:   0%|          | 0.00/804 [00:00<?, ?B/s]"
      ]
     },
     "metadata": {},
     "output_type": "display_data"
    },
    {
     "data": {
      "application/vnd.jupyter.widget-view+json": {
       "model_id": "7e0585250b6e4fddbf505a1cc5279b61",
       "version_major": 2,
       "version_minor": 0
      },
      "text/plain": [
       "Downloading (…)ce_transformers.json:   0%|          | 0.00/122 [00:00<?, ?B/s]"
      ]
     },
     "metadata": {},
     "output_type": "display_data"
    },
    {
     "data": {
      "application/vnd.jupyter.widget-view+json": {
       "model_id": "0c566f2ebb0245da95add7bac522b3e0",
       "version_major": 2,
       "version_minor": 0
      },
      "text/plain": [
       "Downloading pytorch_model.bin:   0%|          | 0.00/1.88G [00:00<?, ?B/s]"
      ]
     },
     "metadata": {},
     "output_type": "display_data"
    },
    {
     "data": {
      "application/vnd.jupyter.widget-view+json": {
       "model_id": "b184ad4fae974db29969edff9cf56bc0",
       "version_major": 2,
       "version_minor": 0
      },
      "text/plain": [
       "Downloading (…)nce_bert_config.json:   0%|          | 0.00/53.0 [00:00<?, ?B/s]"
      ]
     },
     "metadata": {},
     "output_type": "display_data"
    },
    {
     "data": {
      "application/vnd.jupyter.widget-view+json": {
       "model_id": "c3fbb3477e3942c49d1ea00a972f3ab0",
       "version_major": 2,
       "version_minor": 0
      },
      "text/plain": [
       "Downloading (…)cial_tokens_map.json:   0%|          | 0.00/112 [00:00<?, ?B/s]"
      ]
     },
     "metadata": {},
     "output_type": "display_data"
    },
    {
     "data": {
      "application/vnd.jupyter.widget-view+json": {
       "model_id": "27eb3ae59dd8471a8797ddb7653a6f9e",
       "version_major": 2,
       "version_minor": 0
      },
      "text/plain": [
       "Downloading tokenizer.json:   0%|          | 0.00/9.62M [00:00<?, ?B/s]"
      ]
     },
     "metadata": {},
     "output_type": "display_data"
    },
    {
     "data": {
      "application/vnd.jupyter.widget-view+json": {
       "model_id": "01afc97bbd5346c5bc34f2d99235fce2",
       "version_major": 2,
       "version_minor": 0
      },
      "text/plain": [
       "Downloading tokenizer_config.json:   0%|          | 0.00/411 [00:00<?, ?B/s]"
      ]
     },
     "metadata": {},
     "output_type": "display_data"
    },
    {
     "data": {
      "application/vnd.jupyter.widget-view+json": {
       "model_id": "f8908d6a776141c88a00800b9557054c",
       "version_major": 2,
       "version_minor": 0
      },
      "text/plain": [
       "Downloading vocab.txt:   0%|          | 0.00/5.22M [00:00<?, ?B/s]"
      ]
     },
     "metadata": {},
     "output_type": "display_data"
    },
    {
     "data": {
      "application/vnd.jupyter.widget-view+json": {
       "model_id": "389e796f6b9d46a6ac8dd94c0cdf1418",
       "version_major": 2,
       "version_minor": 0
      },
      "text/plain": [
       "Downloading modules.json:   0%|          | 0.00/461 [00:00<?, ?B/s]"
      ]
     },
     "metadata": {},
     "output_type": "display_data"
    },
    {
     "name": "stdout",
     "output_type": "stream",
     "text": [
      "[[ 0.02416993 -0.01509913  0.01173402 ... -0.00607438 -0.00010206\n",
      "   0.00514793]\n",
      " [ 0.02498717 -0.06530681 -0.00934507 ... -0.0139977  -0.0591126\n",
      "   0.01069342]\n",
      " [-0.02549892 -0.04476077 -0.0045252  ...  0.02719675 -0.03129315\n",
      "   0.01236853]\n",
      " ...\n",
      " [-0.05606006  0.04707864 -0.03916391 ...  0.03355038 -0.05798845\n",
      "  -0.06005105]\n",
      " [ 0.04067453 -0.01359548  0.04488348 ...  0.05443221 -0.03191138\n",
      "  -0.05487609]\n",
      " [-0.03776889 -0.0442142  -0.05109699 ...  0.02286782 -0.06238412\n",
      "  -0.06133436]]\n"
     ]
    }
   ],
   "source": [
    "model = SentenceTransformer('LaBSE')\n",
    "sentence_embeddings = model.encode(sentences)\n",
    "print(sentence_embeddings)"
   ]
  },
  {
   "cell_type": "code",
   "execution_count": 11,
   "metadata": {
    "ExecuteTime": {
     "end_time": "2023-12-10T15:00:58.387053800Z",
     "start_time": "2023-12-10T15:00:58.312292300Z"
    },
    "colab": {
     "base_uri": "https://localhost:8080/"
    },
    "id": "Lu3GlBYAQO5w",
    "outputId": "5b74b752-b11d-4a8e-c95c-b5258d1d01b9"
   },
   "outputs": [
    {
     "data": {
      "text/plain": [
       "(27, 768)"
      ]
     },
     "execution_count": 11,
     "metadata": {},
     "output_type": "execute_result"
    }
   ],
   "source": [
    "sentence_embeddings.shape"
   ]
  },
  {
   "cell_type": "code",
   "execution_count": 12,
   "metadata": {
    "ExecuteTime": {
     "end_time": "2023-12-10T15:00:58.402190700Z",
     "start_time": "2023-12-10T15:00:58.327300600Z"
    },
    "id": "bZVUUYknkBg2"
   },
   "outputs": [],
   "source": [
    "d = sentence_embeddings.shape[1]"
   ]
  },
  {
   "cell_type": "code",
   "execution_count": 13,
   "metadata": {
    "ExecuteTime": {
     "end_time": "2023-12-10T15:00:58.403646300Z",
     "start_time": "2023-12-10T15:00:58.346395800Z"
    },
    "colab": {
     "base_uri": "https://localhost:8080/"
    },
    "id": "i89T5s3lQedA",
    "outputId": "805864bd-8303-4922-c49c-f2bb205bf717"
   },
   "outputs": [
    {
     "name": "stdout",
     "output_type": "stream",
     "text": [
      "coronavirus response to weather changes\n"
     ]
    }
   ],
   "source": [
    "query1 = str(df[\"query\"].iloc[0])\n",
    "print(query1)"
   ]
  },
  {
   "cell_type": "code",
   "execution_count": 14,
   "metadata": {
    "ExecuteTime": {
     "end_time": "2023-12-10T15:00:58.496279Z",
     "start_time": "2023-12-10T15:00:58.359366200Z"
    },
    "colab": {
     "base_uri": "https://localhost:8080/"
    },
    "id": "VX0BDc92ewLF",
    "outputId": "3df695d4-66d9-4e72-9a34-6c86b1107348"
   },
   "outputs": [
    {
     "data": {
      "text/plain": [
       "(1, 768)"
      ]
     },
     "execution_count": 14,
     "metadata": {},
     "output_type": "execute_result"
    }
   ],
   "source": [
    "xq = model.encode(query1)\n",
    "xq = xq[np.newaxis, :]\n",
    "xq.shape"
   ]
  },
  {
   "cell_type": "markdown",
   "source": [
    "Kode di atas bertujuan untuk melakukan proses embedding pada teks menggunakan model 'LaBSE' dari SentenceTransformer. Berikut adalah analisis  dari proses dan tujuan kode tersebut:\n",
    "\n",
    "### Tujuan Utama\n",
    "- Tujuan utama dari kode ini adalah untuk mengubah teks menjadi vektor embedding yang kemudian dapat digunakan dalam algoritma pencarian vektor seperti FAISS. Embedding ini membawa informasi semantik dari teks, yang sangat penting untuk pencarian dan analisis yang berbasis pada makna teks, bukan hanya kata-kata tertentu.\n",
    "\n",
    "### Proses Embedding\n",
    "- Kode pertama mengumpulkan judul-judul unik dari sebuah dataset (`df`) dan menambahkannya dengan dokumen tambahan dalam bahasa Indonesia. Ini menciptakan dataset teks yang kaya dan multibahasa.\n",
    "- `SentenceTransformer('LaBSE')` digunakan untuk mengubah teks ini menjadi embeddings. 'LaBSE' adalah model yang efisien untuk pemahaman bahasa lintas bahasa, memungkinkan embedding yang dibuat mampu menangkap makna dalam berbagai bahasa.\n",
    "- Setiap teks diubah menjadi vektor 768 dimensi, memberikan representasi numerik yang kaya dari teks asli.\n",
    "\n",
    "### Multibahasa dan Multitopik\n",
    "- Integrasi teks dari topik yang beragam (seperti kesehatan, olahraga, perubahan iklim) dan dalam bahasa yang berbeda (bahasa Inggris dan Indonesia) menunjukkan upaya untuk membuat model yang mampu menangani beragam jenis query dalam berbagai bahasa. Ini penting untuk aplikasi pencarian dalam skenario dunia nyata yang sering menghadapi variasi bahasa dan topik.\n"
   ],
   "metadata": {
    "collapsed": false
   }
  },
  {
   "cell_type": "code",
   "execution_count": 15,
   "metadata": {
    "ExecuteTime": {
     "end_time": "2023-12-10T15:00:58.511278600Z",
     "start_time": "2023-12-10T15:00:58.421416100Z"
    },
    "id": "egJJVieg4uQx"
   },
   "outputs": [],
   "source": [
    "def encoding_query(query):\n",
    "    xquery = model.encode(query)\n",
    "    xquery = xquery[np.newaxis, :]\n",
    "    return xquery"
   ]
  },
  {
   "cell_type": "code",
   "execution_count": 16,
   "metadata": {
    "ExecuteTime": {
     "end_time": "2023-12-10T15:00:58.512278300Z",
     "start_time": "2023-12-10T15:00:58.445102200Z"
    },
    "id": "nEv7LDpg5HJy"
   },
   "outputs": [],
   "source": [
    "def display_query_result(Isearch):\n",
    "    counter = 0\n",
    "    for i in Isearch[0]:\n",
    "        counter+=1\n",
    "        res = sentences[i]\n",
    "        print(counter,\".\",res)"
   ]
  },
  {
   "cell_type": "markdown",
   "metadata": {
    "id": "uZ8UpRXftjGm"
   },
   "source": [
    "# Partition Index with IndexIVFFlat"
   ]
  },
  {
   "cell_type": "code",
   "execution_count": 17,
   "metadata": {
    "ExecuteTime": {
     "end_time": "2023-12-10T15:00:58.512278300Z",
     "start_time": "2023-12-10T15:00:58.453300900Z"
    },
    "id": "qEDZNM99QWsx"
   },
   "outputs": [],
   "source": [
    "# Set the number of cells\n",
    "nlist = 8\n",
    "# Partitions the data into cells, where each cell is associated with a separate index structure\n",
    "quantizer = faiss.IndexFlatL2(d)"
   ]
  },
  {
   "cell_type": "code",
   "execution_count": 18,
   "metadata": {
    "ExecuteTime": {
     "end_time": "2023-12-10T15:00:58.528281200Z",
     "start_time": "2023-12-10T15:00:58.468797800Z"
    },
    "id": "uopBi71qou45"
   },
   "outputs": [],
   "source": [
    "# Using this method, we will take a query vector, identify the Voronoi cells it belongs to, and then use IndexFlatL2 (or another metric)\n",
    "# to search between the query vector and all other vectors that fall into that specific cell, so we reduced the scope of our search.\n",
    "indexIVFFlat = faiss.IndexIVFFlat(quantizer, d, nlist)\n",
    "indexIVFFlat.train(sentence_embeddings)\n",
    "indexIVFFlat.add(sentence_embeddings)"
   ]
  },
  {
   "cell_type": "code",
   "execution_count": 19,
   "metadata": {
    "ExecuteTime": {
     "end_time": "2023-12-10T15:00:58.563282300Z",
     "start_time": "2023-12-10T15:00:58.500281400Z"
    },
    "colab": {
     "base_uri": "https://localhost:8080/"
    },
    "id": "vkpanEUTozXl",
    "outputId": "f7d998fa-a65d-4ce1-f071-287ecd25eb9d"
   },
   "outputs": [
    {
     "data": {
      "text/plain": [
       "27"
      ]
     },
     "execution_count": 19,
     "metadata": {},
     "output_type": "execute_result"
    }
   ],
   "source": [
    "# Number of embeddings indexed\n",
    "indexIVFFlat.ntotal"
   ]
  },
  {
   "cell_type": "code",
   "execution_count": 20,
   "metadata": {
    "ExecuteTime": {
     "end_time": "2023-12-10T15:00:58.654504900Z",
     "start_time": "2023-12-10T15:00:58.517280300Z"
    },
    "id": "aPSuzjoao74E"
   },
   "outputs": [],
   "source": [
    "# Set the number of nearby cells to search\n",
    "indexIVFFlat.nprobe = 10"
   ]
  },
  {
   "cell_type": "code",
   "execution_count": 21,
   "metadata": {
    "ExecuteTime": {
     "end_time": "2023-12-10T15:00:58.684512Z",
     "start_time": "2023-12-10T15:00:58.531279700Z"
    },
    "colab": {
     "base_uri": "https://localhost:8080/"
    },
    "id": "r0KnskHJStM2",
    "outputId": "955c8ec6-d5d5-4f99-8ff8-0dfe0d809b57"
   },
   "outputs": [
    {
     "name": "stdout",
     "output_type": "stream",
     "text": [
      "Index positions I: [[10 13  4 12 14  6  2 20 26 15]]\n",
      "Distances D: [[0.7985459 1.063704  1.0947502 1.1140382 1.1389596 1.1574091 1.1719561\n",
      "  1.1956993 1.2213402 1.2458675]]\n",
      "CPU times: total: 15.6 ms\n",
      "Wall time: 2 ms\n"
     ]
    }
   ],
   "source": [
    "%%time\n",
    "# Outputs the index positions I of our k best matches\n",
    "# and the distances D between those best matches and our query vector\n",
    "D, I = indexIVFFlat.search(xq, k=10)\n",
    "print(f\"Index positions I: {I}\")\n",
    "print(f\"Distances D: {D}\")"
   ]
  },
  {
   "cell_type": "code",
   "execution_count": 22,
   "metadata": {
    "ExecuteTime": {
     "end_time": "2023-12-10T15:00:58.685513700Z",
     "start_time": "2023-12-10T15:00:58.547280100Z"
    },
    "colab": {
     "base_uri": "https://localhost:8080/"
    },
    "id": "B5z1qRg-f8O2",
    "outputId": "0755242d-7643-4b25-db28-ce7b02f33b1e"
   },
   "outputs": [
    {
     "data": {
      "text/plain": [
       "['10: Association between climate variables and global transmission oF SARS-CoV-2',\n",
       " '13: Recommendations for coronavirus infection in rheumatic diseases treated with biologic therapy',\n",
       " '4: Cross-immunity between respiratory coronaviruses may limit COVID-19 fatalities',\n",
       " '12: An outbreak of COVID‐19 caused by a new coronavirus: what we know so far',\n",
       " '14: Temperature Decreases Spread Parameters of the New Covid-19 Case Dynamics',\n",
       " '6: Comparative analysis of innate immune responses following infection of newborn calves with bovine rotavirus and bovine coronavirus.',\n",
       " '2: Effect of Environmental Conditions on SARS-CoV-2 Stability in Human Nasal Mucus and Sputum',\n",
       " '20: Perubahan iklim juga memberikan dampak signifikan pada keanekaragaman hayati. Pergeseran suhu dan pola hujan mempengaruhi habitat alami, menyebabkan migrasi spesies dan bahkan kepunahan. Selain itu, terjadi acidifikasi laut akibat peningkatan kadar karbon dioksida, yang berdampak buruk pada organisme laut dengan cangkang kalsium, seperti karang dan moluska. Dengan menyadari konsekuensi ini, penting untuk mempromosikan praktik berkelanjutan dan upaya konservasi untuk melindungi keanekaragaman hayati dan memitigasi dampak perubahan iklim di seluruh dunia.',\n",
       " '26: Perubahan iklim memiliki dampak serius terhadap lingkungan dan kehidupan manusia. Peningkatan suhu global telah menyebabkan perubahan ekosistem dan distribusi spesies. Kenaikan permukaan air laut akibat schmelting es polar mengancam puluhan ribu pulau dan kota pesisir. Perubahan pola cuaca ekstrem, seperti banjir dan kekeringan, juga semakin sering terjadi, mengancam keamanan pangan dan keberlanjutan pertanian. Dengan memahami dampak ini, upaya global untuk mengurangi emisi gas rumah kaca menjadi krusial untuk menjaga kelestarian bumi bagi generasi mendatang.',\n",
       " '15: Prevention and treatment of COVID-19 disease by controlled modulation of innate immunity']"
      ]
     },
     "execution_count": 22,
     "metadata": {},
     "output_type": "execute_result"
    }
   ],
   "source": [
    "[f'{i}: {sentences[i]}' for i in I[0]]"
   ]
  },
  {
   "cell_type": "code",
   "execution_count": 23,
   "metadata": {
    "ExecuteTime": {
     "end_time": "2023-12-10T15:00:58.707531Z",
     "start_time": "2023-12-10T15:00:58.562282100Z"
    },
    "colab": {
     "base_uri": "https://localhost:8080/",
     "height": 178
    },
    "id": "n3V47mUdgCd0",
    "outputId": "b58492db-95de-4dd9-b2c2-7273e7b3b08c"
   },
   "outputs": [
    {
     "name": "stderr",
     "output_type": "stream",
     "text": [
      "C:\\Users\\USER\\AppData\\Local\\Temp\\ipykernel_26164\\2185750697.py:1: UserWarning: Boolean Series key will be reindexed to match DataFrame index.\n",
      "  df[df[\"query\"]==query1][df[\"label\"]==1]\n"
     ]
    },
    {
     "data": {
      "text/html": [
       "<div>\n",
       "<style scoped>\n",
       "    .dataframe tbody tr th:only-of-type {\n",
       "        vertical-align: middle;\n",
       "    }\n",
       "\n",
       "    .dataframe tbody tr th {\n",
       "        vertical-align: top;\n",
       "    }\n",
       "\n",
       "    .dataframe thead th {\n",
       "        text-align: right;\n",
       "    }\n",
       "</style>\n",
       "<table border=\"1\" class=\"dataframe\">\n",
       "  <thead>\n",
       "    <tr style=\"text-align: right;\">\n",
       "      <th></th>\n",
       "      <th>query</th>\n",
       "      <th>title</th>\n",
       "      <th>label</th>\n",
       "    </tr>\n",
       "  </thead>\n",
       "  <tbody>\n",
       "    <tr>\n",
       "      <th>8</th>\n",
       "      <td>coronavirus response to weather changes</td>\n",
       "      <td>Effect of Environmental Conditions on SARS-CoV...</td>\n",
       "      <td>1</td>\n",
       "    </tr>\n",
       "    <tr>\n",
       "      <th>6</th>\n",
       "      <td>coronavirus response to weather changes</td>\n",
       "      <td>Association between climate variables and glob...</td>\n",
       "      <td>1</td>\n",
       "    </tr>\n",
       "    <tr>\n",
       "      <th>7</th>\n",
       "      <td>coronavirus response to weather changes</td>\n",
       "      <td>Temperature Decreases Spread Parameters of the...</td>\n",
       "      <td>1</td>\n",
       "    </tr>\n",
       "  </tbody>\n",
       "</table>\n",
       "</div>"
      ],
      "text/plain": [
       "                                     query  \\\n",
       "8  coronavirus response to weather changes   \n",
       "6  coronavirus response to weather changes   \n",
       "7  coronavirus response to weather changes   \n",
       "\n",
       "                                               title  label  \n",
       "8  Effect of Environmental Conditions on SARS-CoV...      1  \n",
       "6  Association between climate variables and glob...      1  \n",
       "7  Temperature Decreases Spread Parameters of the...      1  "
      ]
     },
     "execution_count": 23,
     "metadata": {},
     "output_type": "execute_result"
    }
   ],
   "source": [
    "df[df[\"query\"]==query1][df[\"label\"]==1]"
   ]
  },
  {
   "cell_type": "markdown",
   "source": [
    "Kode yang di atas adalah implementasi dari sistem pencarian vektor menggunakan FAISS, khususnya menggunakan metode IndexIVFFlat.Berikut adalah analisis dari proses dan tujuan kode tersebut:\n",
    "\n",
    "### Strategi dan Implementasi FAISS IndexIVFFlat\n",
    "\n",
    "1. **Pengaturan IndexIVFFlat**: \n",
    "    - Dengan menggunakan IndexIVFFlat, yang merupakan metode FAISS untuk partisi data vektor, sistem menciptakan struktur yang memungkinkan pencarian yang lebih cepat dan efisien.\n",
    "    - `nlist = 8` menentukan jumlah cell atau region yang index akan buat. Ini mempengaruhi cara data disimpan dan dicari dalam index.\n",
    "\n",
    "2. **Pembuatan Quantizer**:\n",
    "    - `quantizer = faiss.IndexFlatL2(d)` digunakan untuk menginisialisasi quantizer yang diperlukan oleh IndexIVFFlat. Quantizer ini bertindak sebagai struktur dasar untuk mempartisi ruang vektor.\n",
    "\n",
    "3. **Training dan Menambahkan Data**:\n",
    "    - `indexIVFFlat.train(sentence_embeddings)` dan `indexIVFFlat.add(sentence_embeddings)` adalah langkah-langkah penting untuk melatih index dengan embeddings yang dihasilkan dan kemudian menambahkan embeddings tersebut ke dalam index.\n",
    "\n",
    "4. **Penetapan nprobe**:\n",
    "    - `indexIVFFlat.nprobe = 10` menetapkan jumlah cell terdekat yang akan dicari dalam proses pencarian. Ini adalah faktor kunci yang mempengaruhi keseimbangan antara kecepatan pencarian dan akurasi.\n",
    "\n",
    "### Evaluasi dan Analisis Hasil\n",
    "\n",
    "1. **Proses Pencarian**:\n",
    "    - Melalui `D, I = indexIVFFlat.search(xq, k=10)`, sistem mencari 10 vektor terdekat dengan vektor query. Hasilnya adalah indeks dan jarak dari vektor terdekat.\n",
    "\n",
    "2. **Analisis Hasil Pencarian**:\n",
    "    - Output menunjukkan indeks dan jarak vektor terdekat. Indeks ini merujuk pada posisi embeddings dalam dataset yang diberikan, dan jarak menunjukkan seberapa dekat vektor query dengan vektor di index.\n",
    "\n",
    "3. **Konteks dalam Pencarian**:\n",
    "    - Melalui `df[df[\"query\"]==query1][df[\"label\"]==1]`, bisa dilihat judul artikel yang dianggap relevan dengan query yang diberikan. Ini memberikan konteks untuk memahami seberapa efektif sistem dalam menemukan konten yang relevan.\n"
   ],
   "metadata": {
    "collapsed": false
   }
  },
  {
   "cell_type": "code",
   "execution_count": 24,
   "metadata": {
    "ExecuteTime": {
     "end_time": "2023-12-10T15:00:58.708509400Z",
     "start_time": "2023-12-10T15:00:58.580280500Z"
    },
    "id": "qt6n58RF6U1j"
   },
   "outputs": [],
   "source": [
    "def search_with_indexIVFFlat(query,number_of_result=5):\n",
    "    x_query = encoding_query(query)\n",
    "    nlist = 8\n",
    "    quantizer = faiss.IndexFlatL2(d)\n",
    "\n",
    "    indexIVFFlat = faiss.IndexIVFFlat(quantizer, d, nlist)\n",
    "    indexIVFFlat.train(sentence_embeddings)\n",
    "    indexIVFFlat.add(sentence_embeddings)\n",
    "\n",
    "    indexIVFFlat.nprobe = 10\n",
    "\n",
    "    Dsearch, Isearch = indexIVFFlat.search(x_query, k=number_of_result)\n",
    "    display_query_result(Isearch)"
   ]
  },
  {
   "cell_type": "markdown",
   "source": [
    "\n",
    "### Integrasi FAISS dalam Pencarian Semantik\n",
    "- Fungsi `search_with_indexIVFFlat` menggambarkan penerapan FAISS untuk mencari vektor yang paling cocok dengan query yang diberikan. Proses ini dimulai dengan meng-encode query menjadi vektor menggunakan model SentenceTransformer yang sama yang digunakan untuk meng-encode judul artikel.\n",
    "\n",
    "### Konfigurasi FAISS IndexIVFFlat\n",
    "- Dalam konfigurasi IndexIVFFlat, `nlist` diatur menjadi 8, yang mendefinisikan bagaimana data dibagi menjadi cell atau cluster. Ini penting untuk mengoptimalkan pencarian dengan membatasi ruang pencarian.\n",
    "- `nprobe` diatur ke 10, yang menentukan berapa banyak cell terdekat yang akan dipertimbangkan dalam pencarian. Ini menyeimbangkan antara kecepatan pencarian dan kemungkinan menemukan hasil yang paling relevan.\n"
   ],
   "metadata": {
    "collapsed": false
   }
  },
  {
   "cell_type": "markdown",
   "metadata": {
    "id": "yq8bJU5fBWrH"
   },
   "source": [
    "## Free text Query IndexIVFFlat\n",
    "Anda dapat mencoba query free text pada pencarian menggunakan teknik index IndexIVFFlat dengan mengganti teks pada parameter dibawah"
   ]
  },
  {
   "cell_type": "code",
   "execution_count": 25,
   "metadata": {
    "ExecuteTime": {
     "end_time": "2023-12-10T15:00:58.725505600Z",
     "start_time": "2023-12-10T15:00:58.595373400Z"
    },
    "colab": {
     "base_uri": "https://localhost:8080/"
    },
    "id": "8KEwDy9u7QlZ",
    "outputId": "fe415f8f-1048-4cee-f307-84bb31deb95f"
   },
   "outputs": [
    {
     "name": "stdout",
     "output_type": "stream",
     "text": [
      "1 . Olahraga memiliki manfaat besar bagi kesehatan tubuh manusia. Seiring gaya hidup modern yang cenderung kurang aktif, melakukan olahraga secara teratur dapat membantu menjaga berat badan yang sehat dan mengurangi risiko obesitas. Selain itu, olahraga juga dapat meningkatkan kesehatan jantung dengan memperkuat otot-otot jantung dan meningkatkan peredaran darah. Manfaat lainnya termasuk peningkatan stamina, peningkatan kualitas tidur, dan peningkatan mood melalui pelepasan endorfin selama aktivitas fisik.\n",
      "2 . Pentingnya olahraga untuk kesehatan mental juga tidak boleh diabaikan. Aktivitas fisik dapat mengurangi tingkat stres dan kecemasan dengan melepaskan endorfin, hormon bahagia, yang dapat meningkatkan suasana hati. Selain itu, olahraga teratur juga dapat meningkatkan kognisi dan fungsi otak, membantu mencegah penurunan kognitif terkait usia. Dengan manfaat ini, olahraga menjadi elemen integral dalam menjaga keseimbangan holistik antara kesehatan fisik dan mental.\n",
      "3 . Tidak hanya bermanfaat untuk kesehatan fisik dan mental, olahraga juga dapat memperkuat hubungan sosial. Melalui partisipasi dalam kegiatan olahraga bersama, individu dapat membangun jejaring sosial, memperluas lingkaran pertemanan, dan meningkatkan keterlibatan dalam komunitas. Terlibat dalam tim olahraga atau kegiatan kelompok lainnya tidak hanya meningkatkan rasa solidaritas tetapi juga memberikan kesempatan untuk belajar nilai-nilai seperti kerjasama, kepemimpinan, dan toleransi, yang dapat membentuk karakter positif.\n",
      "4 . Teknologi kesehatan terbaru tidak hanya berkaitan dengan pengembangan perangkat keras, tetapi juga mengenai perangkat lunak dan aplikasi yang mendukung manajemen kesehatan pribadi. Aplikasi kesehatan digital dan platform telemedicine semakin memudahkan pengguna untuk memantau kondisi kesehatan mereka, menjadikan pencegahan sebagai fokus utama. Selain itu, penggunaan teknologi blockchain mulai diintegrasikan dalam sistem rekam medis elektronik, meningkatkan keamanan dan aksesibilitas data pasien dengan memberikan kontrol lebih besar kepada individu terkait informasi kesehatan mereka.\n",
      "5 . Inovasi teknologi terbaru telah mengubah landscape bidang kesehatan secara signifikan. Salah satu perkembangan penting adalah penerapan kecerdasan buatan (AI) dalam diagnosis medis. Teknologi ini memungkinkan analisis data yang cepat dan akurat untuk membantu dokter dalam mendiagnosis penyakit. Selain itu, telemedicine juga semakin populer, memungkinkan konsultasi medis jarak jauh melalui platform digital. Pengembangan teknologi wearable seperti smartwatch juga memungkinkan pengguna untuk memantau kondisi kesehatan mereka secara real-time.\n"
     ]
    }
   ],
   "source": [
    "search_with_indexIVFFlat(\"fungsi olahraga bagi kesehatan\")"
   ]
  },
  {
   "cell_type": "code",
   "execution_count": 26,
   "metadata": {
    "ExecuteTime": {
     "end_time": "2023-12-10T15:00:59.037625300Z",
     "start_time": "2023-12-10T15:00:58.656506900Z"
    },
    "colab": {
     "base_uri": "https://localhost:8080/"
    },
    "id": "wHwK9RYS8R2S",
    "outputId": "0f87156b-83d9-425b-d6f6-f85c2109be94"
   },
   "outputs": [
    {
     "name": "stdout",
     "output_type": "stream",
     "text": [
      "1 . Perubahan iklim memiliki dampak serius terhadap lingkungan dan kehidupan manusia. Peningkatan suhu global telah menyebabkan perubahan ekosistem dan distribusi spesies. Kenaikan permukaan air laut akibat schmelting es polar mengancam puluhan ribu pulau dan kota pesisir. Perubahan pola cuaca ekstrem, seperti banjir dan kekeringan, juga semakin sering terjadi, mengancam keamanan pangan dan keberlanjutan pertanian. Dengan memahami dampak ini, upaya global untuk mengurangi emisi gas rumah kaca menjadi krusial untuk menjaga kelestarian bumi bagi generasi mendatang.\n",
      "2 . Perubahan iklim juga memberikan dampak signifikan pada keanekaragaman hayati. Pergeseran suhu dan pola hujan mempengaruhi habitat alami, menyebabkan migrasi spesies dan bahkan kepunahan. Selain itu, terjadi acidifikasi laut akibat peningkatan kadar karbon dioksida, yang berdampak buruk pada organisme laut dengan cangkang kalsium, seperti karang dan moluska. Dengan menyadari konsekuensi ini, penting untuk mempromosikan praktik berkelanjutan dan upaya konservasi untuk melindungi keanekaragaman hayati dan memitigasi dampak perubahan iklim di seluruh dunia.\n",
      "3 . Dampak perubahan iklim tidak hanya terbatas pada ekosistem darat dan laut, tetapi juga berpengaruh signifikan pada sektor ekonomi dan keberlanjutan. Pertanian, misalnya, menghadapi tantangan seperti penurunan hasil pertanian karena perubahan pola hujan yang tidak stabil. Selain itu, sektor pariwisata juga terdampak oleh kerusakan lingkungan, seperti bleaching karang akibat suhu laut yang meningkat. Upaya untuk mengatasi perubahan iklim tidak hanya penting untuk melindungi lingkungan alam, tetapi juga untuk menjaga ketahanan ekonomi dan kehidupan manusia di berbagai sektor.\n",
      "4 . Association between climate variables and global transmission oF SARS-CoV-2\n",
      "5 . Effect of Environmental Conditions on SARS-CoV-2 Stability in Human Nasal Mucus and Sputum\n"
     ]
    }
   ],
   "source": [
    "search_with_indexIVFFlat(\"Pengaruh perubahan iklim terhadap lingkungan\")"
   ]
  },
  {
   "cell_type": "markdown",
   "source": [
    "- Dua contoh pencarian, satu terkait \"olahraga\" dan yang lainnya tentang \"perubahan iklim\", menunjukkan bagaimana sistem mencari artikel yang relevan dari dataset.\n",
    "- Hasil yang dihasilkan menunjukkan keberhasilan sistem dalam mengidentifikasi artikel yang relevan dari dataset berdasarkan query yang diberikan. Ini menunjukkan efektivitas embeddings dan algoritma pencarian dalam mengenali dan menyajikan konten yang relevan.\n",
    "- Implementasi ini menunjukkan kemajuan signifikan dalam membangun sistem pencarian teks yang cerdas dan adaptif. Dengan mengintegrasikan teknologi embeddings semantik dan FAISS, sistem ini mampu memproses dan merespons query pencarian dengan cara yang lebih intuitif dan kontekstual.\n",
    "- Kinerja sistem dalam menangani query dalam bahasa yang berbeda juga menunjukkan kemampuannya dalam lingkungan multibahasa, menambahkan lapisan kegunaan yang penting untuk aplikasi global."
   ],
   "metadata": {
    "collapsed": false
   }
  },
  {
   "cell_type": "markdown",
   "source": [],
   "metadata": {
    "collapsed": false
   }
  },
  {
   "cell_type": "markdown",
   "metadata": {
    "id": "wN8KYMsdtdFm"
   },
   "source": [
    "# Random Projection for LSH"
   ]
  },
  {
   "cell_type": "code",
   "execution_count": 27,
   "metadata": {
    "ExecuteTime": {
     "end_time": "2023-12-10T15:00:59.041624Z",
     "start_time": "2023-12-10T15:00:58.721506700Z"
    },
    "id": "oo5fTxsI2evx"
   },
   "outputs": [],
   "source": [
    "# Set the number of hyperplanes and binary vals to produce\n",
    "nbits = 128"
   ]
  },
  {
   "cell_type": "code",
   "execution_count": 28,
   "metadata": {
    "ExecuteTime": {
     "end_time": "2023-12-10T15:00:59.042626Z",
     "start_time": "2023-12-10T15:00:58.734505500Z"
    },
    "id": "sz_2uZlHkoO2"
   },
   "outputs": [],
   "source": [
    "# At its core, it is a hashing function that allows us to group similar items into the same hash buckets.\n",
    "# Using the random projection method, we will reduce our highly-dimensional vectors into low-dimensionality binary vectors.\n",
    "# Once we have these binary vectors, we can measure the distance between them.\n",
    "indexLSH = faiss.IndexLSH(d, nbits)\n",
    "indexLSH.add(sentence_embeddings)"
   ]
  },
  {
   "cell_type": "markdown",
   "source": [
    "- **Konfigurasi LSH**: `nbits = 128` menentukan jumlah hyperplanes yang digunakan untuk proyeksi acak. Ini adalah parameter kunci yang menentukan bagaimana data vektor diubah menjadi representasi biner.\n",
    "- **Pembuatan Index LSH**: `indexLSH = faiss.IndexLSH(d, nbits)` menginisialisasi index LSH dengan dimensi vektor dan jumlah hyperplanes yang ditentukan. Index ini bertugas mengubah vektor embedding ke dalam representasi biner melalui proyeksi acak.\n"
   ],
   "metadata": {
    "collapsed": false
   }
  },
  {
   "cell_type": "code",
   "execution_count": 29,
   "metadata": {
    "ExecuteTime": {
     "end_time": "2023-12-10T15:00:59.043626500Z",
     "start_time": "2023-12-10T15:00:58.796758700Z"
    },
    "colab": {
     "base_uri": "https://localhost:8080/"
    },
    "id": "WqtGROO2yHlh",
    "outputId": "0dcfab87-692e-4e71-dbaa-904b8f34106e"
   },
   "outputs": [
    {
     "name": "stdout",
     "output_type": "stream",
     "text": [
      "Index positions I: [[14 10 12 13  2  9 11 15  7 16]]\n",
      "Distances D: [[30. 38. 40. 43. 44. 44. 44. 44. 46. 47.]]\n",
      "CPU times: total: 15.6 ms\n",
      "Wall time: 2 ms\n"
     ]
    }
   ],
   "source": [
    "%%time\n",
    "# Outputs the index positions I of our k best matches\n",
    "# and the distances D between those best matches and our query vector\n",
    "D, I = indexLSH.search(xq, k=10)\n",
    "print(f\"Index positions I: {I}\")\n",
    "print(f\"Distances D: {D}\")"
   ]
  },
  {
   "cell_type": "code",
   "execution_count": 30,
   "metadata": {
    "ExecuteTime": {
     "end_time": "2023-12-10T15:00:59.044623900Z",
     "start_time": "2023-12-10T15:00:58.813761500Z"
    },
    "colab": {
     "base_uri": "https://localhost:8080/"
    },
    "id": "i2TPNKUMmNno",
    "outputId": "4a9bb9c7-ae7f-459c-ec02-23fe228cc68e"
   },
   "outputs": [
    {
     "data": {
      "text/plain": [
       "['14: Temperature Decreases Spread Parameters of the New Covid-19 Case Dynamics',\n",
       " '10: Association between climate variables and global transmission oF SARS-CoV-2',\n",
       " '12: An outbreak of COVID‐19 caused by a new coronavirus: what we know so far',\n",
       " '13: Recommendations for coronavirus infection in rheumatic diseases treated with biologic therapy',\n",
       " '2: Effect of Environmental Conditions on SARS-CoV-2 Stability in Human Nasal Mucus and Sputum',\n",
       " '9: The SARS, MERS and novel coronavirus (COVID-19) epidemics, the newest and biggest global health threats: what lessons have we learned?',\n",
       " '11: P136 Combined action of type I and type III IFN restricts initial replication of SARS-coronavirus in the lung but fails to inhibit systemic virus spread',\n",
       " '15: Prevention and treatment of COVID-19 disease by controlled modulation of innate immunity',\n",
       " '7: Comprehensive overview of COVID-19 based on current evidence',\n",
       " '16: Boceprevir, GC-376, and calpain inhibitors II, XII inhibit SARS-CoV-2 viral replication by targeting the viral main protease']"
      ]
     },
     "execution_count": 30,
     "metadata": {},
     "output_type": "execute_result"
    }
   ],
   "source": [
    "[f'{i}: {sentences[i]}' for i in I[0]]"
   ]
  },
  {
   "cell_type": "markdown",
   "source": [
    "- **Menambahkan Embeddings**: `indexLSH.add(sentence_embeddings)` menambahkan embeddings teks ke index LSH. Ini mempersiapkan data untuk pencarian tetangga terdekat.\n",
    "- **Pencarian Tetangga Terdekat**: `D, I = indexLSH.search(xq, k=10)` melakukan pencarian untuk menemukan 10 tetangga terdekat dari query yang diberikan. Hasilnya adalah indeks dan jarak dari vektor terdekat.\n",
    "- Indeks mengacu pada posisi embeddings dalam dataset, sementara jarak (dalam kasus ini, jarak Hamming karena menggunakan LSH) menunjukkan seberapa mirip query dengan vektor di dataset. Dengan demikian, hasil pencarian memberikan informasi tentang artikel mana yang paling relevan dengan query berdasarkan representasi biner mereka.\n"
   ],
   "metadata": {
    "collapsed": false
   }
  },
  {
   "cell_type": "code",
   "execution_count": 31,
   "metadata": {
    "ExecuteTime": {
     "end_time": "2023-12-10T15:00:59.045624600Z",
     "start_time": "2023-12-10T15:00:58.839757900Z"
    },
    "colab": {
     "base_uri": "https://localhost:8080/",
     "height": 178
    },
    "id": "kNNjze2MmNnp",
    "outputId": "730c13de-694c-4d30-9d6d-a86176d411a0"
   },
   "outputs": [
    {
     "name": "stderr",
     "output_type": "stream",
     "text": [
      "C:\\Users\\USER\\AppData\\Local\\Temp\\ipykernel_26164\\2185750697.py:1: UserWarning: Boolean Series key will be reindexed to match DataFrame index.\n",
      "  df[df[\"query\"]==query1][df[\"label\"]==1]\n"
     ]
    },
    {
     "data": {
      "text/html": [
       "<div>\n",
       "<style scoped>\n",
       "    .dataframe tbody tr th:only-of-type {\n",
       "        vertical-align: middle;\n",
       "    }\n",
       "\n",
       "    .dataframe tbody tr th {\n",
       "        vertical-align: top;\n",
       "    }\n",
       "\n",
       "    .dataframe thead th {\n",
       "        text-align: right;\n",
       "    }\n",
       "</style>\n",
       "<table border=\"1\" class=\"dataframe\">\n",
       "  <thead>\n",
       "    <tr style=\"text-align: right;\">\n",
       "      <th></th>\n",
       "      <th>query</th>\n",
       "      <th>title</th>\n",
       "      <th>label</th>\n",
       "    </tr>\n",
       "  </thead>\n",
       "  <tbody>\n",
       "    <tr>\n",
       "      <th>8</th>\n",
       "      <td>coronavirus response to weather changes</td>\n",
       "      <td>Effect of Environmental Conditions on SARS-CoV...</td>\n",
       "      <td>1</td>\n",
       "    </tr>\n",
       "    <tr>\n",
       "      <th>6</th>\n",
       "      <td>coronavirus response to weather changes</td>\n",
       "      <td>Association between climate variables and glob...</td>\n",
       "      <td>1</td>\n",
       "    </tr>\n",
       "    <tr>\n",
       "      <th>7</th>\n",
       "      <td>coronavirus response to weather changes</td>\n",
       "      <td>Temperature Decreases Spread Parameters of the...</td>\n",
       "      <td>1</td>\n",
       "    </tr>\n",
       "  </tbody>\n",
       "</table>\n",
       "</div>"
      ],
      "text/plain": [
       "                                     query  \\\n",
       "8  coronavirus response to weather changes   \n",
       "6  coronavirus response to weather changes   \n",
       "7  coronavirus response to weather changes   \n",
       "\n",
       "                                               title  label  \n",
       "8  Effect of Environmental Conditions on SARS-CoV...      1  \n",
       "6  Association between climate variables and glob...      1  \n",
       "7  Temperature Decreases Spread Parameters of the...      1  "
      ]
     },
     "execution_count": 31,
     "metadata": {},
     "output_type": "execute_result"
    }
   ],
   "source": [
    "df[df[\"query\"]==query1][df[\"label\"]==1]"
   ]
  },
  {
   "cell_type": "markdown",
   "source": [
    "Membandingkan hasil pencarian dengan artikel yang dianggap relevan (`df[df[\"query\"]==query1][df[\"label\"]==1]`) memberikan wawasan tentang akurasi sistem dalam menemukan konten yang relevan. Terlihat bahwa artikel yang dianggap relevan dengan query ditemukan dalam hasil pencarian, menunjukkan keberhasilan sistem dalam menemukan konten yang relevan. Ini menunjukkan efektivitas embeddings dan algoritma pencarian dalam mengenali dan menyajikan konten yang relevan. "
   ],
   "metadata": {
    "collapsed": false
   }
  },
  {
   "cell_type": "code",
   "execution_count": 32,
   "metadata": {
    "ExecuteTime": {
     "end_time": "2023-12-10T15:00:59.138113200Z",
     "start_time": "2023-12-10T15:00:58.845759600Z"
    },
    "id": "SuJKg0wE9JPp"
   },
   "outputs": [],
   "source": [
    "def search_with_LSH(query,number_of_result=5):\n",
    "    x_query = encoding_query(query)\n",
    "    nbits = 128\n",
    "    indexLSH = faiss.IndexLSH(d, nbits)\n",
    "    indexLSH.add(sentence_embeddings)\n",
    "    Dsearch, Isearch = indexLSH.search(x_query, k=number_of_result)\n",
    "    display_query_result(Isearch)"
   ]
  },
  {
   "cell_type": "markdown",
   "source": [
    "- Fungsi `search_with_LSH` dirancang untuk mengubah query teks menjadi vektor embedding dan menggunakan LSH untuk menemukan cocokan yang paling relevan dalam dataset.\n",
    "- Dalam LSH, `nbits = 128` mendefinisikan jumlah bit yang digunakan dalam representasi hash, yang mempengaruhi bagaimana data dipartisi dan disimpan. Ini adalah langkah penting untuk mengurangi dimensi data tanpa mengorbankan terlalu banyak informasi penting.\n",
    "- `indexLSH = faiss.IndexLSH(d, nbits)` menginisialisasi index LSH dengan dimensi vektor dan jumlah bit yang ditentukan. Index ini bertugas mengubah vektor embedding ke dalam representasi biner melalui proyeksi acak.\n",
    "- `indexLSH.add(sentence_embeddings)` menambahkan embeddings teks ke index LSH. Ini mempersiapkan data untuk pencarian tetangga terdekat.\n",
    "- Setelah embeddings teks ditambahkan ke index LSH, fungsi tersebut mencari cocokan terdekat untuk query yang diberikan. Ini dilakukan dengan mencari di hash bucket yang sesuai, yang secara signifikan mengurangi ruang pencarian dibandingkan dengan pencarian di seluruh dataset.\n",
    "- Hasil yang ditampilkan menunjukkan top 5 hasil pencarian berdasarkan query"
   ],
   "metadata": {
    "collapsed": false
   }
  },
  {
   "cell_type": "markdown",
   "metadata": {
    "id": "kGH-H5wHA4Er"
   },
   "source": [
    "## Free text Query LSH\n",
    "Anda dapat mencoba query free text pada pencarian menggunakan teknik index LSH dengan mengganti teks pada parameter dibawah"
   ]
  },
  {
   "cell_type": "code",
   "execution_count": 33,
   "metadata": {
    "ExecuteTime": {
     "end_time": "2023-12-10T15:00:59.211660800Z",
     "start_time": "2023-12-10T15:00:58.860757900Z"
    },
    "colab": {
     "base_uri": "https://localhost:8080/"
    },
    "id": "7Onv5hvD9XwB",
    "outputId": "2630acac-088c-4269-da10-671d5c14e5c2"
   },
   "outputs": [
    {
     "name": "stdout",
     "output_type": "stream",
     "text": [
      "1 . Tidak hanya bermanfaat untuk kesehatan fisik dan mental, olahraga juga dapat memperkuat hubungan sosial. Melalui partisipasi dalam kegiatan olahraga bersama, individu dapat membangun jejaring sosial, memperluas lingkaran pertemanan, dan meningkatkan keterlibatan dalam komunitas. Terlibat dalam tim olahraga atau kegiatan kelompok lainnya tidak hanya meningkatkan rasa solidaritas tetapi juga memberikan kesempatan untuk belajar nilai-nilai seperti kerjasama, kepemimpinan, dan toleransi, yang dapat membentuk karakter positif.\n",
      "2 . Association between climate variables and global transmission oF SARS-CoV-2\n",
      "3 . Pentingnya olahraga untuk kesehatan mental juga tidak boleh diabaikan. Aktivitas fisik dapat mengurangi tingkat stres dan kecemasan dengan melepaskan endorfin, hormon bahagia, yang dapat meningkatkan suasana hati. Selain itu, olahraga teratur juga dapat meningkatkan kognisi dan fungsi otak, membantu mencegah penurunan kognitif terkait usia. Dengan manfaat ini, olahraga menjadi elemen integral dalam menjaga keseimbangan holistik antara kesehatan fisik dan mental.\n",
      "4 . Olahraga memiliki manfaat besar bagi kesehatan tubuh manusia. Seiring gaya hidup modern yang cenderung kurang aktif, melakukan olahraga secara teratur dapat membantu menjaga berat badan yang sehat dan mengurangi risiko obesitas. Selain itu, olahraga juga dapat meningkatkan kesehatan jantung dengan memperkuat otot-otot jantung dan meningkatkan peredaran darah. Manfaat lainnya termasuk peningkatan stamina, peningkatan kualitas tidur, dan peningkatan mood melalui pelepasan endorfin selama aktivitas fisik.\n",
      "5 . Perubahan iklim juga memberikan dampak signifikan pada keanekaragaman hayati. Pergeseran suhu dan pola hujan mempengaruhi habitat alami, menyebabkan migrasi spesies dan bahkan kepunahan. Selain itu, terjadi acidifikasi laut akibat peningkatan kadar karbon dioksida, yang berdampak buruk pada organisme laut dengan cangkang kalsium, seperti karang dan moluska. Dengan menyadari konsekuensi ini, penting untuk mempromosikan praktik berkelanjutan dan upaya konservasi untuk melindungi keanekaragaman hayati dan memitigasi dampak perubahan iklim di seluruh dunia.\n"
     ]
    }
   ],
   "source": [
    "search_with_LSH(\"olahraga itu penting\")"
   ]
  },
  {
   "cell_type": "markdown",
   "source": [
    "- Hasil pencarian menunjukkan variasi topik yang cukup lebar, dari manfaat olahraga bagi kesehatan dan hubungan sosial hingga topik yang tidak langsung terkait seperti perubahan iklim. Ini mungkin menunjukkan bahwa sementara LSH efektif dalam mengurangi waktu pencarian, ia mungkin kurang presisi dalam hal kesesuaian semantik dibandingkan dengan metode pencarian lainnya.\n",
    "- Variasi dalam hasil pencarian juga bisa mencerminkan kompleksitas dan multivariasi dari embeddings yang digunakan. Karena embeddings semantik menangkap berbagai aspek makna, sistem mungkin menemukan koneksi yang tidak langsung antara query dan artikel dalam dataset.\n",
    "- Penggunaan teknik ini sangat berguna dalam kasus di mana respons cepat lebih diutamakan daripada presisi mutlak, seperti dalam sistem rekomendasi awal atau pencarian eksploratif dalam dataset besar."
   ],
   "metadata": {
    "collapsed": false
   }
  }
 ],
 "metadata": {
  "accelerator": "GPU",
  "colab": {
   "gpuType": "T4",
   "provenance": [],
   "toc_visible": true
  },
  "kernelspec": {
   "display_name": "Python 3 (ipykernel)",
   "language": "python",
   "name": "python3"
  },
  "language_info": {
   "codemirror_mode": {
    "name": "ipython",
    "version": 3
   },
   "file_extension": ".py",
   "mimetype": "text/x-python",
   "name": "python",
   "nbconvert_exporter": "python",
   "pygments_lexer": "ipython3",
   "version": "3.10.13"
  },
  "widgets": {
   "application/vnd.jupyter.widget-state+json": {
    "02fc9b1fdeb74bd8b7accbeed08e4048": {
     "model_module": "@jupyter-widgets/controls",
     "model_module_version": "1.5.0",
     "model_name": "DescriptionStyleModel",
     "state": {
      "_model_module": "@jupyter-widgets/controls",
      "_model_module_version": "1.5.0",
      "_model_name": "DescriptionStyleModel",
      "_view_count": null,
      "_view_module": "@jupyter-widgets/base",
      "_view_module_version": "1.2.0",
      "_view_name": "StyleView",
      "description_width": ""
     }
    },
    "03208937190441ec8dac095ffa7ca4bd": {
     "model_module": "@jupyter-widgets/controls",
     "model_module_version": "1.5.0",
     "model_name": "HTMLModel",
     "state": {
      "_dom_classes": [],
      "_model_module": "@jupyter-widgets/controls",
      "_model_module_version": "1.5.0",
      "_model_name": "HTMLModel",
      "_view_count": null,
      "_view_module": "@jupyter-widgets/controls",
      "_view_module_version": "1.5.0",
      "_view_name": "HTMLView",
      "description": "",
      "description_tooltip": null,
      "layout": "IPY_MODEL_af5d735a6b964b62998978c841ee6cc3",
      "placeholder": "​",
      "style": "IPY_MODEL_08d71fa0dd8f4c7d85a2673dd57ae1e0",
      "value": " 411/411 [00:00&lt;00:00, 25.9kB/s]"
     }
    },
    "03d8985dc1c540d891af267b4279f9f6": {
     "model_module": "@jupyter-widgets/controls",
     "model_module_version": "1.5.0",
     "model_name": "HTMLModel",
     "state": {
      "_dom_classes": [],
      "_model_module": "@jupyter-widgets/controls",
      "_model_module_version": "1.5.0",
      "_model_name": "HTMLModel",
      "_view_count": null,
      "_view_module": "@jupyter-widgets/controls",
      "_view_module_version": "1.5.0",
      "_view_name": "HTMLView",
      "description": "",
      "description_tooltip": null,
      "layout": "IPY_MODEL_c6686aaaf85d44ebbd189800db8cfd1d",
      "placeholder": "​",
      "style": "IPY_MODEL_7b0bba66f8d54d0c8169d93126e8a991",
      "value": "modules.json: 100%"
     }
    },
    "08d71fa0dd8f4c7d85a2673dd57ae1e0": {
     "model_module": "@jupyter-widgets/controls",
     "model_module_version": "1.5.0",
     "model_name": "DescriptionStyleModel",
     "state": {
      "_model_module": "@jupyter-widgets/controls",
      "_model_module_version": "1.5.0",
      "_model_name": "DescriptionStyleModel",
      "_view_count": null,
      "_view_module": "@jupyter-widgets/base",
      "_view_module_version": "1.2.0",
      "_view_name": "StyleView",
      "description_width": ""
     }
    },
    "0de6162096d94dcdaf9175ae2884b353": {
     "model_module": "@jupyter-widgets/controls",
     "model_module_version": "1.5.0",
     "model_name": "HBoxModel",
     "state": {
      "_dom_classes": [],
      "_model_module": "@jupyter-widgets/controls",
      "_model_module_version": "1.5.0",
      "_model_name": "HBoxModel",
      "_view_count": null,
      "_view_module": "@jupyter-widgets/controls",
      "_view_module_version": "1.5.0",
      "_view_name": "HBoxView",
      "box_style": "",
      "children": [
       "IPY_MODEL_90a74fb7db2648b3aea60fd4d79e7832",
       "IPY_MODEL_b6404095db6543229d3558604af4a148",
       "IPY_MODEL_3b171379ebbc4203b58bcec981ad4507"
      ],
      "layout": "IPY_MODEL_43a2048b5f9b411199fb3d767a42eb0e"
     }
    },
    "0e270c8521b746d1a2571db1b91a81d5": {
     "model_module": "@jupyter-widgets/base",
     "model_module_version": "1.2.0",
     "model_name": "LayoutModel",
     "state": {
      "_model_module": "@jupyter-widgets/base",
      "_model_module_version": "1.2.0",
      "_model_name": "LayoutModel",
      "_view_count": null,
      "_view_module": "@jupyter-widgets/base",
      "_view_module_version": "1.2.0",
      "_view_name": "LayoutView",
      "align_content": null,
      "align_items": null,
      "align_self": null,
      "border": null,
      "bottom": null,
      "display": null,
      "flex": null,
      "flex_flow": null,
      "grid_area": null,
      "grid_auto_columns": null,
      "grid_auto_flow": null,
      "grid_auto_rows": null,
      "grid_column": null,
      "grid_gap": null,
      "grid_row": null,
      "grid_template_areas": null,
      "grid_template_columns": null,
      "grid_template_rows": null,
      "height": null,
      "justify_content": null,
      "justify_items": null,
      "left": null,
      "margin": null,
      "max_height": null,
      "max_width": null,
      "min_height": null,
      "min_width": null,
      "object_fit": null,
      "object_position": null,
      "order": null,
      "overflow": null,
      "overflow_x": null,
      "overflow_y": null,
      "padding": null,
      "right": null,
      "top": null,
      "visibility": null,
      "width": null
     }
    },
    "0f5b8b0fd1dc4a7184258556931d892b": {
     "model_module": "@jupyter-widgets/controls",
     "model_module_version": "1.5.0",
     "model_name": "HTMLModel",
     "state": {
      "_dom_classes": [],
      "_model_module": "@jupyter-widgets/controls",
      "_model_module_version": "1.5.0",
      "_model_name": "HTMLModel",
      "_view_count": null,
      "_view_module": "@jupyter-widgets/controls",
      "_view_module_version": "1.5.0",
      "_view_name": "HTMLView",
      "description": "",
      "description_tooltip": null,
      "layout": "IPY_MODEL_19d7adc475ef4e02a4897b447879b789",
      "placeholder": "​",
      "style": "IPY_MODEL_43a26a4853524418bb984aa1a4e701ac",
      "value": ".gitattributes: 100%"
     }
    },
    "16118cb52a484c97a1f20e0ee9043022": {
     "model_module": "@jupyter-widgets/controls",
     "model_module_version": "1.5.0",
     "model_name": "DescriptionStyleModel",
     "state": {
      "_model_module": "@jupyter-widgets/controls",
      "_model_module_version": "1.5.0",
      "_model_name": "DescriptionStyleModel",
      "_view_count": null,
      "_view_module": "@jupyter-widgets/base",
      "_view_module_version": "1.2.0",
      "_view_name": "StyleView",
      "description_width": ""
     }
    },
    "171188a5fbdd4ec395c9205e6758f55e": {
     "model_module": "@jupyter-widgets/controls",
     "model_module_version": "1.5.0",
     "model_name": "ProgressStyleModel",
     "state": {
      "_model_module": "@jupyter-widgets/controls",
      "_model_module_version": "1.5.0",
      "_model_name": "ProgressStyleModel",
      "_view_count": null,
      "_view_module": "@jupyter-widgets/base",
      "_view_module_version": "1.2.0",
      "_view_name": "StyleView",
      "bar_color": null,
      "description_width": ""
     }
    },
    "18cf5415ab4a464faea7ff5dce402238": {
     "model_module": "@jupyter-widgets/controls",
     "model_module_version": "1.5.0",
     "model_name": "DescriptionStyleModel",
     "state": {
      "_model_module": "@jupyter-widgets/controls",
      "_model_module_version": "1.5.0",
      "_model_name": "DescriptionStyleModel",
      "_view_count": null,
      "_view_module": "@jupyter-widgets/base",
      "_view_module_version": "1.2.0",
      "_view_name": "StyleView",
      "description_width": ""
     }
    },
    "198db20f137a49d7bc2c85110a37d48b": {
     "model_module": "@jupyter-widgets/controls",
     "model_module_version": "1.5.0",
     "model_name": "HTMLModel",
     "state": {
      "_dom_classes": [],
      "_model_module": "@jupyter-widgets/controls",
      "_model_module_version": "1.5.0",
      "_model_name": "HTMLModel",
      "_view_count": null,
      "_view_module": "@jupyter-widgets/controls",
      "_view_module_version": "1.5.0",
      "_view_name": "HTMLView",
      "description": "",
      "description_tooltip": null,
      "layout": "IPY_MODEL_95fe2d7c37f749e5bc47e59b7a5c9f49",
      "placeholder": "​",
      "style": "IPY_MODEL_27a94b5729a24641b9a4d79da0093b3a",
      "value": " 5.22M/5.22M [00:00&lt;00:00, 13.3MB/s]"
     }
    },
    "19d7adc475ef4e02a4897b447879b789": {
     "model_module": "@jupyter-widgets/base",
     "model_module_version": "1.2.0",
     "model_name": "LayoutModel",
     "state": {
      "_model_module": "@jupyter-widgets/base",
      "_model_module_version": "1.2.0",
      "_model_name": "LayoutModel",
      "_view_count": null,
      "_view_module": "@jupyter-widgets/base",
      "_view_module_version": "1.2.0",
      "_view_name": "LayoutView",
      "align_content": null,
      "align_items": null,
      "align_self": null,
      "border": null,
      "bottom": null,
      "display": null,
      "flex": null,
      "flex_flow": null,
      "grid_area": null,
      "grid_auto_columns": null,
      "grid_auto_flow": null,
      "grid_auto_rows": null,
      "grid_column": null,
      "grid_gap": null,
      "grid_row": null,
      "grid_template_areas": null,
      "grid_template_columns": null,
      "grid_template_rows": null,
      "height": null,
      "justify_content": null,
      "justify_items": null,
      "left": null,
      "margin": null,
      "max_height": null,
      "max_width": null,
      "min_height": null,
      "min_width": null,
      "object_fit": null,
      "object_position": null,
      "order": null,
      "overflow": null,
      "overflow_x": null,
      "overflow_y": null,
      "padding": null,
      "right": null,
      "top": null,
      "visibility": null,
      "width": null
     }
    },
    "1b4415990d54485cbd06426271cf24b2": {
     "model_module": "@jupyter-widgets/base",
     "model_module_version": "1.2.0",
     "model_name": "LayoutModel",
     "state": {
      "_model_module": "@jupyter-widgets/base",
      "_model_module_version": "1.2.0",
      "_model_name": "LayoutModel",
      "_view_count": null,
      "_view_module": "@jupyter-widgets/base",
      "_view_module_version": "1.2.0",
      "_view_name": "LayoutView",
      "align_content": null,
      "align_items": null,
      "align_self": null,
      "border": null,
      "bottom": null,
      "display": null,
      "flex": null,
      "flex_flow": null,
      "grid_area": null,
      "grid_auto_columns": null,
      "grid_auto_flow": null,
      "grid_auto_rows": null,
      "grid_column": null,
      "grid_gap": null,
      "grid_row": null,
      "grid_template_areas": null,
      "grid_template_columns": null,
      "grid_template_rows": null,
      "height": null,
      "justify_content": null,
      "justify_items": null,
      "left": null,
      "margin": null,
      "max_height": null,
      "max_width": null,
      "min_height": null,
      "min_width": null,
      "object_fit": null,
      "object_position": null,
      "order": null,
      "overflow": null,
      "overflow_x": null,
      "overflow_y": null,
      "padding": null,
      "right": null,
      "top": null,
      "visibility": null,
      "width": null
     }
    },
    "1ca760151e4e4fd9835e81c0ab28e50a": {
     "model_module": "@jupyter-widgets/controls",
     "model_module_version": "1.5.0",
     "model_name": "DescriptionStyleModel",
     "state": {
      "_model_module": "@jupyter-widgets/controls",
      "_model_module_version": "1.5.0",
      "_model_name": "DescriptionStyleModel",
      "_view_count": null,
      "_view_module": "@jupyter-widgets/base",
      "_view_module_version": "1.2.0",
      "_view_name": "StyleView",
      "description_width": ""
     }
    },
    "1e6cc7ca89504fcd95afe7481dce1fa7": {
     "model_module": "@jupyter-widgets/base",
     "model_module_version": "1.2.0",
     "model_name": "LayoutModel",
     "state": {
      "_model_module": "@jupyter-widgets/base",
      "_model_module_version": "1.2.0",
      "_model_name": "LayoutModel",
      "_view_count": null,
      "_view_module": "@jupyter-widgets/base",
      "_view_module_version": "1.2.0",
      "_view_name": "LayoutView",
      "align_content": null,
      "align_items": null,
      "align_self": null,
      "border": null,
      "bottom": null,
      "display": null,
      "flex": null,
      "flex_flow": null,
      "grid_area": null,
      "grid_auto_columns": null,
      "grid_auto_flow": null,
      "grid_auto_rows": null,
      "grid_column": null,
      "grid_gap": null,
      "grid_row": null,
      "grid_template_areas": null,
      "grid_template_columns": null,
      "grid_template_rows": null,
      "height": null,
      "justify_content": null,
      "justify_items": null,
      "left": null,
      "margin": null,
      "max_height": null,
      "max_width": null,
      "min_height": null,
      "min_width": null,
      "object_fit": null,
      "object_position": null,
      "order": null,
      "overflow": null,
      "overflow_x": null,
      "overflow_y": null,
      "padding": null,
      "right": null,
      "top": null,
      "visibility": null,
      "width": null
     }
    },
    "1eafd89ac04849c8abdc9b8eadd8759b": {
     "model_module": "@jupyter-widgets/controls",
     "model_module_version": "1.5.0",
     "model_name": "DescriptionStyleModel",
     "state": {
      "_model_module": "@jupyter-widgets/controls",
      "_model_module_version": "1.5.0",
      "_model_name": "DescriptionStyleModel",
      "_view_count": null,
      "_view_module": "@jupyter-widgets/base",
      "_view_module_version": "1.2.0",
      "_view_name": "StyleView",
      "description_width": ""
     }
    },
    "20892061ef2545c4a7ed1ea5de773dbf": {
     "model_module": "@jupyter-widgets/base",
     "model_module_version": "1.2.0",
     "model_name": "LayoutModel",
     "state": {
      "_model_module": "@jupyter-widgets/base",
      "_model_module_version": "1.2.0",
      "_model_name": "LayoutModel",
      "_view_count": null,
      "_view_module": "@jupyter-widgets/base",
      "_view_module_version": "1.2.0",
      "_view_name": "LayoutView",
      "align_content": null,
      "align_items": null,
      "align_self": null,
      "border": null,
      "bottom": null,
      "display": null,
      "flex": null,
      "flex_flow": null,
      "grid_area": null,
      "grid_auto_columns": null,
      "grid_auto_flow": null,
      "grid_auto_rows": null,
      "grid_column": null,
      "grid_gap": null,
      "grid_row": null,
      "grid_template_areas": null,
      "grid_template_columns": null,
      "grid_template_rows": null,
      "height": null,
      "justify_content": null,
      "justify_items": null,
      "left": null,
      "margin": null,
      "max_height": null,
      "max_width": null,
      "min_height": null,
      "min_width": null,
      "object_fit": null,
      "object_position": null,
      "order": null,
      "overflow": null,
      "overflow_x": null,
      "overflow_y": null,
      "padding": null,
      "right": null,
      "top": null,
      "visibility": null,
      "width": null
     }
    },
    "215ddd952d5047119ae498236afab5f0": {
     "model_module": "@jupyter-widgets/controls",
     "model_module_version": "1.5.0",
     "model_name": "FloatProgressModel",
     "state": {
      "_dom_classes": [],
      "_model_module": "@jupyter-widgets/controls",
      "_model_module_version": "1.5.0",
      "_model_name": "FloatProgressModel",
      "_view_count": null,
      "_view_module": "@jupyter-widgets/controls",
      "_view_module_version": "1.5.0",
      "_view_name": "ProgressView",
      "bar_style": "success",
      "description": "",
      "description_tooltip": null,
      "layout": "IPY_MODEL_a247a0e8c94c4acda273fdae51d1d480",
      "max": 411,
      "min": 0,
      "orientation": "horizontal",
      "style": "IPY_MODEL_d775ce42e3ca4fccbf02b2b8eb0f5960",
      "value": 411
     }
    },
    "21c162eef78a4d50bc514268fb2125b9": {
     "model_module": "@jupyter-widgets/base",
     "model_module_version": "1.2.0",
     "model_name": "LayoutModel",
     "state": {
      "_model_module": "@jupyter-widgets/base",
      "_model_module_version": "1.2.0",
      "_model_name": "LayoutModel",
      "_view_count": null,
      "_view_module": "@jupyter-widgets/base",
      "_view_module_version": "1.2.0",
      "_view_name": "LayoutView",
      "align_content": null,
      "align_items": null,
      "align_self": null,
      "border": null,
      "bottom": null,
      "display": null,
      "flex": null,
      "flex_flow": null,
      "grid_area": null,
      "grid_auto_columns": null,
      "grid_auto_flow": null,
      "grid_auto_rows": null,
      "grid_column": null,
      "grid_gap": null,
      "grid_row": null,
      "grid_template_areas": null,
      "grid_template_columns": null,
      "grid_template_rows": null,
      "height": null,
      "justify_content": null,
      "justify_items": null,
      "left": null,
      "margin": null,
      "max_height": null,
      "max_width": null,
      "min_height": null,
      "min_width": null,
      "object_fit": null,
      "object_position": null,
      "order": null,
      "overflow": null,
      "overflow_x": null,
      "overflow_y": null,
      "padding": null,
      "right": null,
      "top": null,
      "visibility": null,
      "width": null
     }
    },
    "24c72bbcde3e4e7d9d1e6c826765c535": {
     "model_module": "@jupyter-widgets/base",
     "model_module_version": "1.2.0",
     "model_name": "LayoutModel",
     "state": {
      "_model_module": "@jupyter-widgets/base",
      "_model_module_version": "1.2.0",
      "_model_name": "LayoutModel",
      "_view_count": null,
      "_view_module": "@jupyter-widgets/base",
      "_view_module_version": "1.2.0",
      "_view_name": "LayoutView",
      "align_content": null,
      "align_items": null,
      "align_self": null,
      "border": null,
      "bottom": null,
      "display": null,
      "flex": null,
      "flex_flow": null,
      "grid_area": null,
      "grid_auto_columns": null,
      "grid_auto_flow": null,
      "grid_auto_rows": null,
      "grid_column": null,
      "grid_gap": null,
      "grid_row": null,
      "grid_template_areas": null,
      "grid_template_columns": null,
      "grid_template_rows": null,
      "height": null,
      "justify_content": null,
      "justify_items": null,
      "left": null,
      "margin": null,
      "max_height": null,
      "max_width": null,
      "min_height": null,
      "min_width": null,
      "object_fit": null,
      "object_position": null,
      "order": null,
      "overflow": null,
      "overflow_x": null,
      "overflow_y": null,
      "padding": null,
      "right": null,
      "top": null,
      "visibility": null,
      "width": null
     }
    },
    "256ac98ea2004dd79012f08d08452cc1": {
     "model_module": "@jupyter-widgets/base",
     "model_module_version": "1.2.0",
     "model_name": "LayoutModel",
     "state": {
      "_model_module": "@jupyter-widgets/base",
      "_model_module_version": "1.2.0",
      "_model_name": "LayoutModel",
      "_view_count": null,
      "_view_module": "@jupyter-widgets/base",
      "_view_module_version": "1.2.0",
      "_view_name": "LayoutView",
      "align_content": null,
      "align_items": null,
      "align_self": null,
      "border": null,
      "bottom": null,
      "display": null,
      "flex": null,
      "flex_flow": null,
      "grid_area": null,
      "grid_auto_columns": null,
      "grid_auto_flow": null,
      "grid_auto_rows": null,
      "grid_column": null,
      "grid_gap": null,
      "grid_row": null,
      "grid_template_areas": null,
      "grid_template_columns": null,
      "grid_template_rows": null,
      "height": null,
      "justify_content": null,
      "justify_items": null,
      "left": null,
      "margin": null,
      "max_height": null,
      "max_width": null,
      "min_height": null,
      "min_width": null,
      "object_fit": null,
      "object_position": null,
      "order": null,
      "overflow": null,
      "overflow_x": null,
      "overflow_y": null,
      "padding": null,
      "right": null,
      "top": null,
      "visibility": null,
      "width": null
     }
    },
    "26d5467ea30749db9f1bd55ba18db758": {
     "model_module": "@jupyter-widgets/controls",
     "model_module_version": "1.5.0",
     "model_name": "HBoxModel",
     "state": {
      "_dom_classes": [],
      "_model_module": "@jupyter-widgets/controls",
      "_model_module_version": "1.5.0",
      "_model_name": "HBoxModel",
      "_view_count": null,
      "_view_module": "@jupyter-widgets/controls",
      "_view_module_version": "1.5.0",
      "_view_name": "HBoxView",
      "box_style": "",
      "children": [
       "IPY_MODEL_39b64dd97608440c9746d3d26a965e32",
       "IPY_MODEL_edce1f06104146bb98b62cfd7c88e4d5",
       "IPY_MODEL_198db20f137a49d7bc2c85110a37d48b"
      ],
      "layout": "IPY_MODEL_68821ef8fc934bcf97bcfa48d374dc1f"
     }
    },
    "276dc3f03413470f91842f85d6d935c4": {
     "model_module": "@jupyter-widgets/base",
     "model_module_version": "1.2.0",
     "model_name": "LayoutModel",
     "state": {
      "_model_module": "@jupyter-widgets/base",
      "_model_module_version": "1.2.0",
      "_model_name": "LayoutModel",
      "_view_count": null,
      "_view_module": "@jupyter-widgets/base",
      "_view_module_version": "1.2.0",
      "_view_name": "LayoutView",
      "align_content": null,
      "align_items": null,
      "align_self": null,
      "border": null,
      "bottom": null,
      "display": null,
      "flex": null,
      "flex_flow": null,
      "grid_area": null,
      "grid_auto_columns": null,
      "grid_auto_flow": null,
      "grid_auto_rows": null,
      "grid_column": null,
      "grid_gap": null,
      "grid_row": null,
      "grid_template_areas": null,
      "grid_template_columns": null,
      "grid_template_rows": null,
      "height": null,
      "justify_content": null,
      "justify_items": null,
      "left": null,
      "margin": null,
      "max_height": null,
      "max_width": null,
      "min_height": null,
      "min_width": null,
      "object_fit": null,
      "object_position": null,
      "order": null,
      "overflow": null,
      "overflow_x": null,
      "overflow_y": null,
      "padding": null,
      "right": null,
      "top": null,
      "visibility": null,
      "width": null
     }
    },
    "27a94b5729a24641b9a4d79da0093b3a": {
     "model_module": "@jupyter-widgets/controls",
     "model_module_version": "1.5.0",
     "model_name": "DescriptionStyleModel",
     "state": {
      "_model_module": "@jupyter-widgets/controls",
      "_model_module_version": "1.5.0",
      "_model_name": "DescriptionStyleModel",
      "_view_count": null,
      "_view_module": "@jupyter-widgets/base",
      "_view_module_version": "1.2.0",
      "_view_name": "StyleView",
      "description_width": ""
     }
    },
    "28161caa9f3b4e199e8475717feb7740": {
     "model_module": "@jupyter-widgets/controls",
     "model_module_version": "1.5.0",
     "model_name": "HBoxModel",
     "state": {
      "_dom_classes": [],
      "_model_module": "@jupyter-widgets/controls",
      "_model_module_version": "1.5.0",
      "_model_name": "HBoxModel",
      "_view_count": null,
      "_view_module": "@jupyter-widgets/controls",
      "_view_module_version": "1.5.0",
      "_view_name": "HBoxView",
      "box_style": "",
      "children": [
       "IPY_MODEL_a333c53c6bff45cd8488356ca969ff40",
       "IPY_MODEL_215ddd952d5047119ae498236afab5f0",
       "IPY_MODEL_03208937190441ec8dac095ffa7ca4bd"
      ],
      "layout": "IPY_MODEL_70d67a39b8c349018d5b38d359038481"
     }
    },
    "2daaf4c517cb4b96b41ab4f19045fa1a": {
     "model_module": "@jupyter-widgets/controls",
     "model_module_version": "1.5.0",
     "model_name": "HTMLModel",
     "state": {
      "_dom_classes": [],
      "_model_module": "@jupyter-widgets/controls",
      "_model_module_version": "1.5.0",
      "_model_name": "HTMLModel",
      "_view_count": null,
      "_view_module": "@jupyter-widgets/controls",
      "_view_module_version": "1.5.0",
      "_view_name": "HTMLView",
      "description": "",
      "description_tooltip": null,
      "layout": "IPY_MODEL_d33f7ff6f21e40469d48e82dc5968f1c",
      "placeholder": "​",
      "style": "IPY_MODEL_cd07ae312489459c9d1d1ce2bb253918",
      "value": "special_tokens_map.json: 100%"
     }
    },
    "2e0a2750df7c42cead34eade0fd18cfc": {
     "model_module": "@jupyter-widgets/controls",
     "model_module_version": "1.5.0",
     "model_name": "HTMLModel",
     "state": {
      "_dom_classes": [],
      "_model_module": "@jupyter-widgets/controls",
      "_model_module_version": "1.5.0",
      "_model_name": "HTMLModel",
      "_view_count": null,
      "_view_module": "@jupyter-widgets/controls",
      "_view_module_version": "1.5.0",
      "_view_name": "HTMLView",
      "description": "",
      "description_tooltip": null,
      "layout": "IPY_MODEL_6791efc7929f4c55b81889f40af3e2b1",
      "placeholder": "​",
      "style": "IPY_MODEL_f9630bca2e7143be9ec0babd4d438a7f",
      "value": " 2.19k/2.19k [00:00&lt;00:00, 122kB/s]"
     }
    },
    "32c0514ee07d452e9e0cc15d5b38fbf1": {
     "model_module": "@jupyter-widgets/controls",
     "model_module_version": "1.5.0",
     "model_name": "FloatProgressModel",
     "state": {
      "_dom_classes": [],
      "_model_module": "@jupyter-widgets/controls",
      "_model_module_version": "1.5.0",
      "_model_name": "FloatProgressModel",
      "_view_count": null,
      "_view_module": "@jupyter-widgets/controls",
      "_view_module_version": "1.5.0",
      "_view_name": "ProgressView",
      "bar_style": "success",
      "description": "",
      "description_tooltip": null,
      "layout": "IPY_MODEL_3a88a2e22aa34336a127474153a28ce8",
      "max": 391,
      "min": 0,
      "orientation": "horizontal",
      "style": "IPY_MODEL_a934d578e1ca46a8b37309fd7d385e79",
      "value": 391
     }
    },
    "33e67c0b2d2342a492aa5f998ab13f7c": {
     "model_module": "@jupyter-widgets/controls",
     "model_module_version": "1.5.0",
     "model_name": "HTMLModel",
     "state": {
      "_dom_classes": [],
      "_model_module": "@jupyter-widgets/controls",
      "_model_module_version": "1.5.0",
      "_model_name": "HTMLModel",
      "_view_count": null,
      "_view_module": "@jupyter-widgets/controls",
      "_view_module_version": "1.5.0",
      "_view_name": "HTMLView",
      "description": "",
      "description_tooltip": null,
      "layout": "IPY_MODEL_1e6cc7ca89504fcd95afe7481dce1fa7",
      "placeholder": "​",
      "style": "IPY_MODEL_7a11b42786a44629a9f560bf60d9fb40",
      "value": " 114/114 [00:00&lt;00:00, 7.35kB/s]"
     }
    },
    "3450fe80ebbb440ca176b0636b8a8ac7": {
     "model_module": "@jupyter-widgets/base",
     "model_module_version": "1.2.0",
     "model_name": "LayoutModel",
     "state": {
      "_model_module": "@jupyter-widgets/base",
      "_model_module_version": "1.2.0",
      "_model_name": "LayoutModel",
      "_view_count": null,
      "_view_module": "@jupyter-widgets/base",
      "_view_module_version": "1.2.0",
      "_view_name": "LayoutView",
      "align_content": null,
      "align_items": null,
      "align_self": null,
      "border": null,
      "bottom": null,
      "display": null,
      "flex": null,
      "flex_flow": null,
      "grid_area": null,
      "grid_auto_columns": null,
      "grid_auto_flow": null,
      "grid_auto_rows": null,
      "grid_column": null,
      "grid_gap": null,
      "grid_row": null,
      "grid_template_areas": null,
      "grid_template_columns": null,
      "grid_template_rows": null,
      "height": null,
      "justify_content": null,
      "justify_items": null,
      "left": null,
      "margin": null,
      "max_height": null,
      "max_width": null,
      "min_height": null,
      "min_width": null,
      "object_fit": null,
      "object_position": null,
      "order": null,
      "overflow": null,
      "overflow_x": null,
      "overflow_y": null,
      "padding": null,
      "right": null,
      "top": null,
      "visibility": null,
      "width": null
     }
    },
    "36ac918cec3843e3907cbafb72acc59d": {
     "model_module": "@jupyter-widgets/controls",
     "model_module_version": "1.5.0",
     "model_name": "HTMLModel",
     "state": {
      "_dom_classes": [],
      "_model_module": "@jupyter-widgets/controls",
      "_model_module_version": "1.5.0",
      "_model_name": "HTMLModel",
      "_view_count": null,
      "_view_module": "@jupyter-widgets/controls",
      "_view_module_version": "1.5.0",
      "_view_name": "HTMLView",
      "description": "",
      "description_tooltip": null,
      "layout": "IPY_MODEL_61be77664bdb447081fed6351ac388d6",
      "placeholder": "​",
      "style": "IPY_MODEL_d3303725f39e4e5b801d377fb8ee6b63",
      "value": " 53.0/53.0 [00:00&lt;00:00, 3.11kB/s]"
     }
    },
    "37796c7b8f954366bd07f10047cd13f9": {
     "model_module": "@jupyter-widgets/base",
     "model_module_version": "1.2.0",
     "model_name": "LayoutModel",
     "state": {
      "_model_module": "@jupyter-widgets/base",
      "_model_module_version": "1.2.0",
      "_model_name": "LayoutModel",
      "_view_count": null,
      "_view_module": "@jupyter-widgets/base",
      "_view_module_version": "1.2.0",
      "_view_name": "LayoutView",
      "align_content": null,
      "align_items": null,
      "align_self": null,
      "border": null,
      "bottom": null,
      "display": null,
      "flex": null,
      "flex_flow": null,
      "grid_area": null,
      "grid_auto_columns": null,
      "grid_auto_flow": null,
      "grid_auto_rows": null,
      "grid_column": null,
      "grid_gap": null,
      "grid_row": null,
      "grid_template_areas": null,
      "grid_template_columns": null,
      "grid_template_rows": null,
      "height": null,
      "justify_content": null,
      "justify_items": null,
      "left": null,
      "margin": null,
      "max_height": null,
      "max_width": null,
      "min_height": null,
      "min_width": null,
      "object_fit": null,
      "object_position": null,
      "order": null,
      "overflow": null,
      "overflow_x": null,
      "overflow_y": null,
      "padding": null,
      "right": null,
      "top": null,
      "visibility": null,
      "width": null
     }
    },
    "39b64dd97608440c9746d3d26a965e32": {
     "model_module": "@jupyter-widgets/controls",
     "model_module_version": "1.5.0",
     "model_name": "HTMLModel",
     "state": {
      "_dom_classes": [],
      "_model_module": "@jupyter-widgets/controls",
      "_model_module_version": "1.5.0",
      "_model_name": "HTMLModel",
      "_view_count": null,
      "_view_module": "@jupyter-widgets/controls",
      "_view_module_version": "1.5.0",
      "_view_name": "HTMLView",
      "description": "",
      "description_tooltip": null,
      "layout": "IPY_MODEL_53b7491cf0ba453691489708d0bf5404",
      "placeholder": "​",
      "style": "IPY_MODEL_ca01ffcc658040c99b6cc583be5b443e",
      "value": "vocab.txt: 100%"
     }
    },
    "3a88a2e22aa34336a127474153a28ce8": {
     "model_module": "@jupyter-widgets/base",
     "model_module_version": "1.2.0",
     "model_name": "LayoutModel",
     "state": {
      "_model_module": "@jupyter-widgets/base",
      "_model_module_version": "1.2.0",
      "_model_name": "LayoutModel",
      "_view_count": null,
      "_view_module": "@jupyter-widgets/base",
      "_view_module_version": "1.2.0",
      "_view_name": "LayoutView",
      "align_content": null,
      "align_items": null,
      "align_self": null,
      "border": null,
      "bottom": null,
      "display": null,
      "flex": null,
      "flex_flow": null,
      "grid_area": null,
      "grid_auto_columns": null,
      "grid_auto_flow": null,
      "grid_auto_rows": null,
      "grid_column": null,
      "grid_gap": null,
      "grid_row": null,
      "grid_template_areas": null,
      "grid_template_columns": null,
      "grid_template_rows": null,
      "height": null,
      "justify_content": null,
      "justify_items": null,
      "left": null,
      "margin": null,
      "max_height": null,
      "max_width": null,
      "min_height": null,
      "min_width": null,
      "object_fit": null,
      "object_position": null,
      "order": null,
      "overflow": null,
      "overflow_x": null,
      "overflow_y": null,
      "padding": null,
      "right": null,
      "top": null,
      "visibility": null,
      "width": null
     }
    },
    "3b171379ebbc4203b58bcec981ad4507": {
     "model_module": "@jupyter-widgets/controls",
     "model_module_version": "1.5.0",
     "model_name": "HTMLModel",
     "state": {
      "_dom_classes": [],
      "_model_module": "@jupyter-widgets/controls",
      "_model_module_version": "1.5.0",
      "_model_name": "HTMLModel",
      "_view_count": null,
      "_view_module": "@jupyter-widgets/controls",
      "_view_module_version": "1.5.0",
      "_view_name": "HTMLView",
      "description": "",
      "description_tooltip": null,
      "layout": "IPY_MODEL_518cbfdf6efa47be88fd254f1ac2508e",
      "placeholder": "​",
      "style": "IPY_MODEL_d4c2a9c9cc1e4494995c66f84bcf10ab",
      "value": " 1.88G/1.88G [00:13&lt;00:00, 252MB/s]"
     }
    },
    "3ba2965dd00f4c028f74a1c570b7bf6c": {
     "model_module": "@jupyter-widgets/controls",
     "model_module_version": "1.5.0",
     "model_name": "HBoxModel",
     "state": {
      "_dom_classes": [],
      "_model_module": "@jupyter-widgets/controls",
      "_model_module_version": "1.5.0",
      "_model_name": "HBoxModel",
      "_view_count": null,
      "_view_module": "@jupyter-widgets/controls",
      "_view_module_version": "1.5.0",
      "_view_name": "HBoxView",
      "box_style": "",
      "children": [
       "IPY_MODEL_0f5b8b0fd1dc4a7184258556931d892b",
       "IPY_MODEL_32c0514ee07d452e9e0cc15d5b38fbf1",
       "IPY_MODEL_cb01d0dfca6342eb89f624e5448c03b0"
      ],
      "layout": "IPY_MODEL_fb17d95eeee84d1b822684d337449b12"
     }
    },
    "3f1b0224eb2d41eda5db6b05e2346e52": {
     "model_module": "@jupyter-widgets/controls",
     "model_module_version": "1.5.0",
     "model_name": "ProgressStyleModel",
     "state": {
      "_model_module": "@jupyter-widgets/controls",
      "_model_module_version": "1.5.0",
      "_model_name": "ProgressStyleModel",
      "_view_count": null,
      "_view_module": "@jupyter-widgets/base",
      "_view_module_version": "1.2.0",
      "_view_name": "StyleView",
      "bar_color": null,
      "description_width": ""
     }
    },
    "409f5e1e4bae4409aea054af9dd8cb50": {
     "model_module": "@jupyter-widgets/controls",
     "model_module_version": "1.5.0",
     "model_name": "HTMLModel",
     "state": {
      "_dom_classes": [],
      "_model_module": "@jupyter-widgets/controls",
      "_model_module_version": "1.5.0",
      "_model_name": "HTMLModel",
      "_view_count": null,
      "_view_module": "@jupyter-widgets/controls",
      "_view_module_version": "1.5.0",
      "_view_name": "HTMLView",
      "description": "",
      "description_tooltip": null,
      "layout": "IPY_MODEL_256ac98ea2004dd79012f08d08452cc1",
      "placeholder": "​",
      "style": "IPY_MODEL_02fc9b1fdeb74bd8b7accbeed08e4048",
      "value": "tokenizer.json: 100%"
     }
    },
    "43a2048b5f9b411199fb3d767a42eb0e": {
     "model_module": "@jupyter-widgets/base",
     "model_module_version": "1.2.0",
     "model_name": "LayoutModel",
     "state": {
      "_model_module": "@jupyter-widgets/base",
      "_model_module_version": "1.2.0",
      "_model_name": "LayoutModel",
      "_view_count": null,
      "_view_module": "@jupyter-widgets/base",
      "_view_module_version": "1.2.0",
      "_view_name": "LayoutView",
      "align_content": null,
      "align_items": null,
      "align_self": null,
      "border": null,
      "bottom": null,
      "display": null,
      "flex": null,
      "flex_flow": null,
      "grid_area": null,
      "grid_auto_columns": null,
      "grid_auto_flow": null,
      "grid_auto_rows": null,
      "grid_column": null,
      "grid_gap": null,
      "grid_row": null,
      "grid_template_areas": null,
      "grid_template_columns": null,
      "grid_template_rows": null,
      "height": null,
      "justify_content": null,
      "justify_items": null,
      "left": null,
      "margin": null,
      "max_height": null,
      "max_width": null,
      "min_height": null,
      "min_width": null,
      "object_fit": null,
      "object_position": null,
      "order": null,
      "overflow": null,
      "overflow_x": null,
      "overflow_y": null,
      "padding": null,
      "right": null,
      "top": null,
      "visibility": null,
      "width": null
     }
    },
    "43a26a4853524418bb984aa1a4e701ac": {
     "model_module": "@jupyter-widgets/controls",
     "model_module_version": "1.5.0",
     "model_name": "DescriptionStyleModel",
     "state": {
      "_model_module": "@jupyter-widgets/controls",
      "_model_module_version": "1.5.0",
      "_model_name": "DescriptionStyleModel",
      "_view_count": null,
      "_view_module": "@jupyter-widgets/base",
      "_view_module_version": "1.2.0",
      "_view_name": "StyleView",
      "description_width": ""
     }
    },
    "43c02390211e4b058a001f0671cce6c1": {
     "model_module": "@jupyter-widgets/base",
     "model_module_version": "1.2.0",
     "model_name": "LayoutModel",
     "state": {
      "_model_module": "@jupyter-widgets/base",
      "_model_module_version": "1.2.0",
      "_model_name": "LayoutModel",
      "_view_count": null,
      "_view_module": "@jupyter-widgets/base",
      "_view_module_version": "1.2.0",
      "_view_name": "LayoutView",
      "align_content": null,
      "align_items": null,
      "align_self": null,
      "border": null,
      "bottom": null,
      "display": null,
      "flex": null,
      "flex_flow": null,
      "grid_area": null,
      "grid_auto_columns": null,
      "grid_auto_flow": null,
      "grid_auto_rows": null,
      "grid_column": null,
      "grid_gap": null,
      "grid_row": null,
      "grid_template_areas": null,
      "grid_template_columns": null,
      "grid_template_rows": null,
      "height": null,
      "justify_content": null,
      "justify_items": null,
      "left": null,
      "margin": null,
      "max_height": null,
      "max_width": null,
      "min_height": null,
      "min_width": null,
      "object_fit": null,
      "object_position": null,
      "order": null,
      "overflow": null,
      "overflow_x": null,
      "overflow_y": null,
      "padding": null,
      "right": null,
      "top": null,
      "visibility": null,
      "width": null
     }
    },
    "4523ff4bbcd84a898c392d4cc072e135": {
     "model_module": "@jupyter-widgets/controls",
     "model_module_version": "1.5.0",
     "model_name": "ProgressStyleModel",
     "state": {
      "_model_module": "@jupyter-widgets/controls",
      "_model_module_version": "1.5.0",
      "_model_name": "ProgressStyleModel",
      "_view_count": null,
      "_view_module": "@jupyter-widgets/base",
      "_view_module_version": "1.2.0",
      "_view_name": "StyleView",
      "bar_color": null,
      "description_width": ""
     }
    },
    "4b0b22b960654ce88810a2829a9bca16": {
     "model_module": "@jupyter-widgets/base",
     "model_module_version": "1.2.0",
     "model_name": "LayoutModel",
     "state": {
      "_model_module": "@jupyter-widgets/base",
      "_model_module_version": "1.2.0",
      "_model_name": "LayoutModel",
      "_view_count": null,
      "_view_module": "@jupyter-widgets/base",
      "_view_module_version": "1.2.0",
      "_view_name": "LayoutView",
      "align_content": null,
      "align_items": null,
      "align_self": null,
      "border": null,
      "bottom": null,
      "display": null,
      "flex": null,
      "flex_flow": null,
      "grid_area": null,
      "grid_auto_columns": null,
      "grid_auto_flow": null,
      "grid_auto_rows": null,
      "grid_column": null,
      "grid_gap": null,
      "grid_row": null,
      "grid_template_areas": null,
      "grid_template_columns": null,
      "grid_template_rows": null,
      "height": null,
      "justify_content": null,
      "justify_items": null,
      "left": null,
      "margin": null,
      "max_height": null,
      "max_width": null,
      "min_height": null,
      "min_width": null,
      "object_fit": null,
      "object_position": null,
      "order": null,
      "overflow": null,
      "overflow_x": null,
      "overflow_y": null,
      "padding": null,
      "right": null,
      "top": null,
      "visibility": null,
      "width": null
     }
    },
    "4c8104015e744397aa307a24ea9c3d9d": {
     "model_module": "@jupyter-widgets/base",
     "model_module_version": "1.2.0",
     "model_name": "LayoutModel",
     "state": {
      "_model_module": "@jupyter-widgets/base",
      "_model_module_version": "1.2.0",
      "_model_name": "LayoutModel",
      "_view_count": null,
      "_view_module": "@jupyter-widgets/base",
      "_view_module_version": "1.2.0",
      "_view_name": "LayoutView",
      "align_content": null,
      "align_items": null,
      "align_self": null,
      "border": null,
      "bottom": null,
      "display": null,
      "flex": null,
      "flex_flow": null,
      "grid_area": null,
      "grid_auto_columns": null,
      "grid_auto_flow": null,
      "grid_auto_rows": null,
      "grid_column": null,
      "grid_gap": null,
      "grid_row": null,
      "grid_template_areas": null,
      "grid_template_columns": null,
      "grid_template_rows": null,
      "height": null,
      "justify_content": null,
      "justify_items": null,
      "left": null,
      "margin": null,
      "max_height": null,
      "max_width": null,
      "min_height": null,
      "min_width": null,
      "object_fit": null,
      "object_position": null,
      "order": null,
      "overflow": null,
      "overflow_x": null,
      "overflow_y": null,
      "padding": null,
      "right": null,
      "top": null,
      "visibility": null,
      "width": null
     }
    },
    "4e78c398164245d28c602ae2c0a61455": {
     "model_module": "@jupyter-widgets/controls",
     "model_module_version": "1.5.0",
     "model_name": "DescriptionStyleModel",
     "state": {
      "_model_module": "@jupyter-widgets/controls",
      "_model_module_version": "1.5.0",
      "_model_name": "DescriptionStyleModel",
      "_view_count": null,
      "_view_module": "@jupyter-widgets/base",
      "_view_module_version": "1.2.0",
      "_view_name": "StyleView",
      "description_width": ""
     }
    },
    "4f366a225c9741abbc5ed5845423e2b0": {
     "model_module": "@jupyter-widgets/base",
     "model_module_version": "1.2.0",
     "model_name": "LayoutModel",
     "state": {
      "_model_module": "@jupyter-widgets/base",
      "_model_module_version": "1.2.0",
      "_model_name": "LayoutModel",
      "_view_count": null,
      "_view_module": "@jupyter-widgets/base",
      "_view_module_version": "1.2.0",
      "_view_name": "LayoutView",
      "align_content": null,
      "align_items": null,
      "align_self": null,
      "border": null,
      "bottom": null,
      "display": null,
      "flex": null,
      "flex_flow": null,
      "grid_area": null,
      "grid_auto_columns": null,
      "grid_auto_flow": null,
      "grid_auto_rows": null,
      "grid_column": null,
      "grid_gap": null,
      "grid_row": null,
      "grid_template_areas": null,
      "grid_template_columns": null,
      "grid_template_rows": null,
      "height": null,
      "justify_content": null,
      "justify_items": null,
      "left": null,
      "margin": null,
      "max_height": null,
      "max_width": null,
      "min_height": null,
      "min_width": null,
      "object_fit": null,
      "object_position": null,
      "order": null,
      "overflow": null,
      "overflow_x": null,
      "overflow_y": null,
      "padding": null,
      "right": null,
      "top": null,
      "visibility": null,
      "width": null
     }
    },
    "50c89f77c7ec42e88feec6aa620edae5": {
     "model_module": "@jupyter-widgets/controls",
     "model_module_version": "1.5.0",
     "model_name": "FloatProgressModel",
     "state": {
      "_dom_classes": [],
      "_model_module": "@jupyter-widgets/controls",
      "_model_module_version": "1.5.0",
      "_model_name": "FloatProgressModel",
      "_view_count": null,
      "_view_module": "@jupyter-widgets/controls",
      "_view_module_version": "1.5.0",
      "_view_name": "ProgressView",
      "bar_style": "success",
      "description": "",
      "description_tooltip": null,
      "layout": "IPY_MODEL_b7df3703cf7e4f02a364667c05e32084",
      "max": 114,
      "min": 0,
      "orientation": "horizontal",
      "style": "IPY_MODEL_b12975b1c7d4486a835b2b4234f52607",
      "value": 114
     }
    },
    "518cbfdf6efa47be88fd254f1ac2508e": {
     "model_module": "@jupyter-widgets/base",
     "model_module_version": "1.2.0",
     "model_name": "LayoutModel",
     "state": {
      "_model_module": "@jupyter-widgets/base",
      "_model_module_version": "1.2.0",
      "_model_name": "LayoutModel",
      "_view_count": null,
      "_view_module": "@jupyter-widgets/base",
      "_view_module_version": "1.2.0",
      "_view_name": "LayoutView",
      "align_content": null,
      "align_items": null,
      "align_self": null,
      "border": null,
      "bottom": null,
      "display": null,
      "flex": null,
      "flex_flow": null,
      "grid_area": null,
      "grid_auto_columns": null,
      "grid_auto_flow": null,
      "grid_auto_rows": null,
      "grid_column": null,
      "grid_gap": null,
      "grid_row": null,
      "grid_template_areas": null,
      "grid_template_columns": null,
      "grid_template_rows": null,
      "height": null,
      "justify_content": null,
      "justify_items": null,
      "left": null,
      "margin": null,
      "max_height": null,
      "max_width": null,
      "min_height": null,
      "min_width": null,
      "object_fit": null,
      "object_position": null,
      "order": null,
      "overflow": null,
      "overflow_x": null,
      "overflow_y": null,
      "padding": null,
      "right": null,
      "top": null,
      "visibility": null,
      "width": null
     }
    },
    "53629474defc48e1b1c5ce7425ada658": {
     "model_module": "@jupyter-widgets/controls",
     "model_module_version": "1.5.0",
     "model_name": "HBoxModel",
     "state": {
      "_dom_classes": [],
      "_model_module": "@jupyter-widgets/controls",
      "_model_module_version": "1.5.0",
      "_model_name": "HBoxModel",
      "_view_count": null,
      "_view_module": "@jupyter-widgets/controls",
      "_view_module_version": "1.5.0",
      "_view_name": "HBoxView",
      "box_style": "",
      "children": [
       "IPY_MODEL_6647a0a5eb6f4ad5823aa0c11de8b94f",
       "IPY_MODEL_8b4a769344804093b291d00392af3143",
       "IPY_MODEL_629990e48f0b4f4abffcb8d6ea2e4e1f"
      ],
      "layout": "IPY_MODEL_f5c348ace47d486f9d407cfe7c34e6a5"
     }
    },
    "53b7491cf0ba453691489708d0bf5404": {
     "model_module": "@jupyter-widgets/base",
     "model_module_version": "1.2.0",
     "model_name": "LayoutModel",
     "state": {
      "_model_module": "@jupyter-widgets/base",
      "_model_module_version": "1.2.0",
      "_model_name": "LayoutModel",
      "_view_count": null,
      "_view_module": "@jupyter-widgets/base",
      "_view_module_version": "1.2.0",
      "_view_name": "LayoutView",
      "align_content": null,
      "align_items": null,
      "align_self": null,
      "border": null,
      "bottom": null,
      "display": null,
      "flex": null,
      "flex_flow": null,
      "grid_area": null,
      "grid_auto_columns": null,
      "grid_auto_flow": null,
      "grid_auto_rows": null,
      "grid_column": null,
      "grid_gap": null,
      "grid_row": null,
      "grid_template_areas": null,
      "grid_template_columns": null,
      "grid_template_rows": null,
      "height": null,
      "justify_content": null,
      "justify_items": null,
      "left": null,
      "margin": null,
      "max_height": null,
      "max_width": null,
      "min_height": null,
      "min_width": null,
      "object_fit": null,
      "object_position": null,
      "order": null,
      "overflow": null,
      "overflow_x": null,
      "overflow_y": null,
      "padding": null,
      "right": null,
      "top": null,
      "visibility": null,
      "width": null
     }
    },
    "54471685cbde4c07b158de7a657a7fd9": {
     "model_module": "@jupyter-widgets/controls",
     "model_module_version": "1.5.0",
     "model_name": "ProgressStyleModel",
     "state": {
      "_model_module": "@jupyter-widgets/controls",
      "_model_module_version": "1.5.0",
      "_model_name": "ProgressStyleModel",
      "_view_count": null,
      "_view_module": "@jupyter-widgets/base",
      "_view_module_version": "1.2.0",
      "_view_name": "StyleView",
      "bar_color": null,
      "description_width": ""
     }
    },
    "56001edf431f48e59b73a2c21689fbec": {
     "model_module": "@jupyter-widgets/controls",
     "model_module_version": "1.5.0",
     "model_name": "HTMLModel",
     "state": {
      "_dom_classes": [],
      "_model_module": "@jupyter-widgets/controls",
      "_model_module_version": "1.5.0",
      "_model_name": "HTMLModel",
      "_view_count": null,
      "_view_module": "@jupyter-widgets/controls",
      "_view_module_version": "1.5.0",
      "_view_name": "HTMLView",
      "description": "",
      "description_tooltip": null,
      "layout": "IPY_MODEL_1b4415990d54485cbd06426271cf24b2",
      "placeholder": "​",
      "style": "IPY_MODEL_8ac3ab46828143a59bf0eb43f184e314",
      "value": " 190/190 [00:00&lt;00:00, 14.6kB/s]"
     }
    },
    "56e67c2b4d224eaca14e42d5c3934adb": {
     "model_module": "@jupyter-widgets/base",
     "model_module_version": "1.2.0",
     "model_name": "LayoutModel",
     "state": {
      "_model_module": "@jupyter-widgets/base",
      "_model_module_version": "1.2.0",
      "_model_name": "LayoutModel",
      "_view_count": null,
      "_view_module": "@jupyter-widgets/base",
      "_view_module_version": "1.2.0",
      "_view_name": "LayoutView",
      "align_content": null,
      "align_items": null,
      "align_self": null,
      "border": null,
      "bottom": null,
      "display": null,
      "flex": null,
      "flex_flow": null,
      "grid_area": null,
      "grid_auto_columns": null,
      "grid_auto_flow": null,
      "grid_auto_rows": null,
      "grid_column": null,
      "grid_gap": null,
      "grid_row": null,
      "grid_template_areas": null,
      "grid_template_columns": null,
      "grid_template_rows": null,
      "height": null,
      "justify_content": null,
      "justify_items": null,
      "left": null,
      "margin": null,
      "max_height": null,
      "max_width": null,
      "min_height": null,
      "min_width": null,
      "object_fit": null,
      "object_position": null,
      "order": null,
      "overflow": null,
      "overflow_x": null,
      "overflow_y": null,
      "padding": null,
      "right": null,
      "top": null,
      "visibility": null,
      "width": null
     }
    },
    "5bb0eaf09c5344a28b72e1dc7298e20a": {
     "model_module": "@jupyter-widgets/base",
     "model_module_version": "1.2.0",
     "model_name": "LayoutModel",
     "state": {
      "_model_module": "@jupyter-widgets/base",
      "_model_module_version": "1.2.0",
      "_model_name": "LayoutModel",
      "_view_count": null,
      "_view_module": "@jupyter-widgets/base",
      "_view_module_version": "1.2.0",
      "_view_name": "LayoutView",
      "align_content": null,
      "align_items": null,
      "align_self": null,
      "border": null,
      "bottom": null,
      "display": null,
      "flex": null,
      "flex_flow": null,
      "grid_area": null,
      "grid_auto_columns": null,
      "grid_auto_flow": null,
      "grid_auto_rows": null,
      "grid_column": null,
      "grid_gap": null,
      "grid_row": null,
      "grid_template_areas": null,
      "grid_template_columns": null,
      "grid_template_rows": null,
      "height": null,
      "justify_content": null,
      "justify_items": null,
      "left": null,
      "margin": null,
      "max_height": null,
      "max_width": null,
      "min_height": null,
      "min_width": null,
      "object_fit": null,
      "object_position": null,
      "order": null,
      "overflow": null,
      "overflow_x": null,
      "overflow_y": null,
      "padding": null,
      "right": null,
      "top": null,
      "visibility": null,
      "width": null
     }
    },
    "5cb09bc41f454000b06ec39db331b244": {
     "model_module": "@jupyter-widgets/base",
     "model_module_version": "1.2.0",
     "model_name": "LayoutModel",
     "state": {
      "_model_module": "@jupyter-widgets/base",
      "_model_module_version": "1.2.0",
      "_model_name": "LayoutModel",
      "_view_count": null,
      "_view_module": "@jupyter-widgets/base",
      "_view_module_version": "1.2.0",
      "_view_name": "LayoutView",
      "align_content": null,
      "align_items": null,
      "align_self": null,
      "border": null,
      "bottom": null,
      "display": null,
      "flex": null,
      "flex_flow": null,
      "grid_area": null,
      "grid_auto_columns": null,
      "grid_auto_flow": null,
      "grid_auto_rows": null,
      "grid_column": null,
      "grid_gap": null,
      "grid_row": null,
      "grid_template_areas": null,
      "grid_template_columns": null,
      "grid_template_rows": null,
      "height": null,
      "justify_content": null,
      "justify_items": null,
      "left": null,
      "margin": null,
      "max_height": null,
      "max_width": null,
      "min_height": null,
      "min_width": null,
      "object_fit": null,
      "object_position": null,
      "order": null,
      "overflow": null,
      "overflow_x": null,
      "overflow_y": null,
      "padding": null,
      "right": null,
      "top": null,
      "visibility": null,
      "width": null
     }
    },
    "5cbc3f4b3ba041d58628c52db03a5498": {
     "model_module": "@jupyter-widgets/base",
     "model_module_version": "1.2.0",
     "model_name": "LayoutModel",
     "state": {
      "_model_module": "@jupyter-widgets/base",
      "_model_module_version": "1.2.0",
      "_model_name": "LayoutModel",
      "_view_count": null,
      "_view_module": "@jupyter-widgets/base",
      "_view_module_version": "1.2.0",
      "_view_name": "LayoutView",
      "align_content": null,
      "align_items": null,
      "align_self": null,
      "border": null,
      "bottom": null,
      "display": null,
      "flex": null,
      "flex_flow": null,
      "grid_area": null,
      "grid_auto_columns": null,
      "grid_auto_flow": null,
      "grid_auto_rows": null,
      "grid_column": null,
      "grid_gap": null,
      "grid_row": null,
      "grid_template_areas": null,
      "grid_template_columns": null,
      "grid_template_rows": null,
      "height": null,
      "justify_content": null,
      "justify_items": null,
      "left": null,
      "margin": null,
      "max_height": null,
      "max_width": null,
      "min_height": null,
      "min_width": null,
      "object_fit": null,
      "object_position": null,
      "order": null,
      "overflow": null,
      "overflow_x": null,
      "overflow_y": null,
      "padding": null,
      "right": null,
      "top": null,
      "visibility": null,
      "width": null
     }
    },
    "6091b664778b489789e61b82115e8707": {
     "model_module": "@jupyter-widgets/controls",
     "model_module_version": "1.5.0",
     "model_name": "HBoxModel",
     "state": {
      "_dom_classes": [],
      "_model_module": "@jupyter-widgets/controls",
      "_model_module_version": "1.5.0",
      "_model_name": "HBoxModel",
      "_view_count": null,
      "_view_module": "@jupyter-widgets/controls",
      "_view_module_version": "1.5.0",
      "_view_name": "HBoxView",
      "box_style": "",
      "children": [
       "IPY_MODEL_85bc8df89d2c45faab8c12160e08c470",
       "IPY_MODEL_7dfc9e83783743ae98cab3718df5b9f0",
       "IPY_MODEL_62d27aef7ac64bd6a25e5862385502f4"
      ],
      "layout": "IPY_MODEL_5cbc3f4b3ba041d58628c52db03a5498"
     }
    },
    "61be77664bdb447081fed6351ac388d6": {
     "model_module": "@jupyter-widgets/base",
     "model_module_version": "1.2.0",
     "model_name": "LayoutModel",
     "state": {
      "_model_module": "@jupyter-widgets/base",
      "_model_module_version": "1.2.0",
      "_model_name": "LayoutModel",
      "_view_count": null,
      "_view_module": "@jupyter-widgets/base",
      "_view_module_version": "1.2.0",
      "_view_name": "LayoutView",
      "align_content": null,
      "align_items": null,
      "align_self": null,
      "border": null,
      "bottom": null,
      "display": null,
      "flex": null,
      "flex_flow": null,
      "grid_area": null,
      "grid_auto_columns": null,
      "grid_auto_flow": null,
      "grid_auto_rows": null,
      "grid_column": null,
      "grid_gap": null,
      "grid_row": null,
      "grid_template_areas": null,
      "grid_template_columns": null,
      "grid_template_rows": null,
      "height": null,
      "justify_content": null,
      "justify_items": null,
      "left": null,
      "margin": null,
      "max_height": null,
      "max_width": null,
      "min_height": null,
      "min_width": null,
      "object_fit": null,
      "object_position": null,
      "order": null,
      "overflow": null,
      "overflow_x": null,
      "overflow_y": null,
      "padding": null,
      "right": null,
      "top": null,
      "visibility": null,
      "width": null
     }
    },
    "629990e48f0b4f4abffcb8d6ea2e4e1f": {
     "model_module": "@jupyter-widgets/controls",
     "model_module_version": "1.5.0",
     "model_name": "HTMLModel",
     "state": {
      "_dom_classes": [],
      "_model_module": "@jupyter-widgets/controls",
      "_model_module_version": "1.5.0",
      "_model_name": "HTMLModel",
      "_view_count": null,
      "_view_module": "@jupyter-widgets/controls",
      "_view_module_version": "1.5.0",
      "_view_name": "HTMLView",
      "description": "",
      "description_tooltip": null,
      "layout": "IPY_MODEL_b6df52acdf1447f5a5c5ca2261e3992e",
      "placeholder": "​",
      "style": "IPY_MODEL_f13a573b68364c8bb54b4ff572369cb8",
      "value": " 122/122 [00:00&lt;00:00, 8.34kB/s]"
     }
    },
    "62d27aef7ac64bd6a25e5862385502f4": {
     "model_module": "@jupyter-widgets/controls",
     "model_module_version": "1.5.0",
     "model_name": "HTMLModel",
     "state": {
      "_dom_classes": [],
      "_model_module": "@jupyter-widgets/controls",
      "_model_module_version": "1.5.0",
      "_model_name": "HTMLModel",
      "_view_count": null,
      "_view_module": "@jupyter-widgets/controls",
      "_view_module_version": "1.5.0",
      "_view_name": "HTMLView",
      "description": "",
      "description_tooltip": null,
      "layout": "IPY_MODEL_20892061ef2545c4a7ed1ea5de773dbf",
      "placeholder": "​",
      "style": "IPY_MODEL_ec438dd936b74616af482053dc59f153",
      "value": " 804/804 [00:00&lt;00:00, 39.0kB/s]"
     }
    },
    "6647a0a5eb6f4ad5823aa0c11de8b94f": {
     "model_module": "@jupyter-widgets/controls",
     "model_module_version": "1.5.0",
     "model_name": "HTMLModel",
     "state": {
      "_dom_classes": [],
      "_model_module": "@jupyter-widgets/controls",
      "_model_module_version": "1.5.0",
      "_model_name": "HTMLModel",
      "_view_count": null,
      "_view_module": "@jupyter-widgets/controls",
      "_view_module_version": "1.5.0",
      "_view_name": "HTMLView",
      "description": "",
      "description_tooltip": null,
      "layout": "IPY_MODEL_ecec42def5344b40b43c33d9b453f1e4",
      "placeholder": "​",
      "style": "IPY_MODEL_18cf5415ab4a464faea7ff5dce402238",
      "value": "config_sentence_transformers.json: 100%"
     }
    },
    "6791efc7929f4c55b81889f40af3e2b1": {
     "model_module": "@jupyter-widgets/base",
     "model_module_version": "1.2.0",
     "model_name": "LayoutModel",
     "state": {
      "_model_module": "@jupyter-widgets/base",
      "_model_module_version": "1.2.0",
      "_model_name": "LayoutModel",
      "_view_count": null,
      "_view_module": "@jupyter-widgets/base",
      "_view_module_version": "1.2.0",
      "_view_name": "LayoutView",
      "align_content": null,
      "align_items": null,
      "align_self": null,
      "border": null,
      "bottom": null,
      "display": null,
      "flex": null,
      "flex_flow": null,
      "grid_area": null,
      "grid_auto_columns": null,
      "grid_auto_flow": null,
      "grid_auto_rows": null,
      "grid_column": null,
      "grid_gap": null,
      "grid_row": null,
      "grid_template_areas": null,
      "grid_template_columns": null,
      "grid_template_rows": null,
      "height": null,
      "justify_content": null,
      "justify_items": null,
      "left": null,
      "margin": null,
      "max_height": null,
      "max_width": null,
      "min_height": null,
      "min_width": null,
      "object_fit": null,
      "object_position": null,
      "order": null,
      "overflow": null,
      "overflow_x": null,
      "overflow_y": null,
      "padding": null,
      "right": null,
      "top": null,
      "visibility": null,
      "width": null
     }
    },
    "67c63a6af7e24cdd87171fa3cfc4f2af": {
     "model_module": "@jupyter-widgets/controls",
     "model_module_version": "1.5.0",
     "model_name": "HBoxModel",
     "state": {
      "_dom_classes": [],
      "_model_module": "@jupyter-widgets/controls",
      "_model_module_version": "1.5.0",
      "_model_name": "HBoxModel",
      "_view_count": null,
      "_view_module": "@jupyter-widgets/controls",
      "_view_module_version": "1.5.0",
      "_view_name": "HBoxView",
      "box_style": "",
      "children": [
       "IPY_MODEL_03d8985dc1c540d891af267b4279f9f6",
       "IPY_MODEL_e578f9d3e4744c5286c7a98e1089364b",
       "IPY_MODEL_79699485c7f84787ad01ffa9c4ac90b0"
      ],
      "layout": "IPY_MODEL_4f366a225c9741abbc5ed5845423e2b0"
     }
    },
    "680d029834ca43abad482cdd14e86888": {
     "model_module": "@jupyter-widgets/base",
     "model_module_version": "1.2.0",
     "model_name": "LayoutModel",
     "state": {
      "_model_module": "@jupyter-widgets/base",
      "_model_module_version": "1.2.0",
      "_model_name": "LayoutModel",
      "_view_count": null,
      "_view_module": "@jupyter-widgets/base",
      "_view_module_version": "1.2.0",
      "_view_name": "LayoutView",
      "align_content": null,
      "align_items": null,
      "align_self": null,
      "border": null,
      "bottom": null,
      "display": null,
      "flex": null,
      "flex_flow": null,
      "grid_area": null,
      "grid_auto_columns": null,
      "grid_auto_flow": null,
      "grid_auto_rows": null,
      "grid_column": null,
      "grid_gap": null,
      "grid_row": null,
      "grid_template_areas": null,
      "grid_template_columns": null,
      "grid_template_rows": null,
      "height": null,
      "justify_content": null,
      "justify_items": null,
      "left": null,
      "margin": null,
      "max_height": null,
      "max_width": null,
      "min_height": null,
      "min_width": null,
      "object_fit": null,
      "object_position": null,
      "order": null,
      "overflow": null,
      "overflow_x": null,
      "overflow_y": null,
      "padding": null,
      "right": null,
      "top": null,
      "visibility": null,
      "width": null
     }
    },
    "68821ef8fc934bcf97bcfa48d374dc1f": {
     "model_module": "@jupyter-widgets/base",
     "model_module_version": "1.2.0",
     "model_name": "LayoutModel",
     "state": {
      "_model_module": "@jupyter-widgets/base",
      "_model_module_version": "1.2.0",
      "_model_name": "LayoutModel",
      "_view_count": null,
      "_view_module": "@jupyter-widgets/base",
      "_view_module_version": "1.2.0",
      "_view_name": "LayoutView",
      "align_content": null,
      "align_items": null,
      "align_self": null,
      "border": null,
      "bottom": null,
      "display": null,
      "flex": null,
      "flex_flow": null,
      "grid_area": null,
      "grid_auto_columns": null,
      "grid_auto_flow": null,
      "grid_auto_rows": null,
      "grid_column": null,
      "grid_gap": null,
      "grid_row": null,
      "grid_template_areas": null,
      "grid_template_columns": null,
      "grid_template_rows": null,
      "height": null,
      "justify_content": null,
      "justify_items": null,
      "left": null,
      "margin": null,
      "max_height": null,
      "max_width": null,
      "min_height": null,
      "min_width": null,
      "object_fit": null,
      "object_position": null,
      "order": null,
      "overflow": null,
      "overflow_x": null,
      "overflow_y": null,
      "padding": null,
      "right": null,
      "top": null,
      "visibility": null,
      "width": null
     }
    },
    "68d432195d814360b0ec3fa7b111e823": {
     "model_module": "@jupyter-widgets/controls",
     "model_module_version": "1.5.0",
     "model_name": "DescriptionStyleModel",
     "state": {
      "_model_module": "@jupyter-widgets/controls",
      "_model_module_version": "1.5.0",
      "_model_name": "DescriptionStyleModel",
      "_view_count": null,
      "_view_module": "@jupyter-widgets/base",
      "_view_module_version": "1.2.0",
      "_view_name": "StyleView",
      "description_width": ""
     }
    },
    "698ec659f881451e921bfcdf7b0377e9": {
     "model_module": "@jupyter-widgets/controls",
     "model_module_version": "1.5.0",
     "model_name": "HTMLModel",
     "state": {
      "_dom_classes": [],
      "_model_module": "@jupyter-widgets/controls",
      "_model_module_version": "1.5.0",
      "_model_name": "HTMLModel",
      "_view_count": null,
      "_view_module": "@jupyter-widgets/controls",
      "_view_module_version": "1.5.0",
      "_view_name": "HTMLView",
      "description": "",
      "description_tooltip": null,
      "layout": "IPY_MODEL_b35d0ded3e644844bc479e3908c106d9",
      "placeholder": "​",
      "style": "IPY_MODEL_16118cb52a484c97a1f20e0ee9043022",
      "value": "README.md: 100%"
     }
    },
    "6daf69006851453c8a7a432755a54506": {
     "model_module": "@jupyter-widgets/controls",
     "model_module_version": "1.5.0",
     "model_name": "ProgressStyleModel",
     "state": {
      "_model_module": "@jupyter-widgets/controls",
      "_model_module_version": "1.5.0",
      "_model_name": "ProgressStyleModel",
      "_view_count": null,
      "_view_module": "@jupyter-widgets/base",
      "_view_module_version": "1.2.0",
      "_view_name": "StyleView",
      "bar_color": null,
      "description_width": ""
     }
    },
    "6f68e4f8cf4e4a2c9a7109ab2d37b6ec": {
     "model_module": "@jupyter-widgets/controls",
     "model_module_version": "1.5.0",
     "model_name": "HTMLModel",
     "state": {
      "_dom_classes": [],
      "_model_module": "@jupyter-widgets/controls",
      "_model_module_version": "1.5.0",
      "_model_name": "HTMLModel",
      "_view_count": null,
      "_view_module": "@jupyter-widgets/controls",
      "_view_module_version": "1.5.0",
      "_view_name": "HTMLView",
      "description": "",
      "description_tooltip": null,
      "layout": "IPY_MODEL_ac12785cb69e4aaba74b2d547cdc0185",
      "placeholder": "​",
      "style": "IPY_MODEL_8198833a5dd047b4bfb3451f814535c7",
      "value": " 112/112 [00:00&lt;00:00, 7.27kB/s]"
     }
    },
    "70d67a39b8c349018d5b38d359038481": {
     "model_module": "@jupyter-widgets/base",
     "model_module_version": "1.2.0",
     "model_name": "LayoutModel",
     "state": {
      "_model_module": "@jupyter-widgets/base",
      "_model_module_version": "1.2.0",
      "_model_name": "LayoutModel",
      "_view_count": null,
      "_view_module": "@jupyter-widgets/base",
      "_view_module_version": "1.2.0",
      "_view_name": "LayoutView",
      "align_content": null,
      "align_items": null,
      "align_self": null,
      "border": null,
      "bottom": null,
      "display": null,
      "flex": null,
      "flex_flow": null,
      "grid_area": null,
      "grid_auto_columns": null,
      "grid_auto_flow": null,
      "grid_auto_rows": null,
      "grid_column": null,
      "grid_gap": null,
      "grid_row": null,
      "grid_template_areas": null,
      "grid_template_columns": null,
      "grid_template_rows": null,
      "height": null,
      "justify_content": null,
      "justify_items": null,
      "left": null,
      "margin": null,
      "max_height": null,
      "max_width": null,
      "min_height": null,
      "min_width": null,
      "object_fit": null,
      "object_position": null,
      "order": null,
      "overflow": null,
      "overflow_x": null,
      "overflow_y": null,
      "padding": null,
      "right": null,
      "top": null,
      "visibility": null,
      "width": null
     }
    },
    "74d8f3ab92144c9dbfa0be301fa1c880": {
     "model_module": "@jupyter-widgets/base",
     "model_module_version": "1.2.0",
     "model_name": "LayoutModel",
     "state": {
      "_model_module": "@jupyter-widgets/base",
      "_model_module_version": "1.2.0",
      "_model_name": "LayoutModel",
      "_view_count": null,
      "_view_module": "@jupyter-widgets/base",
      "_view_module_version": "1.2.0",
      "_view_name": "LayoutView",
      "align_content": null,
      "align_items": null,
      "align_self": null,
      "border": null,
      "bottom": null,
      "display": null,
      "flex": null,
      "flex_flow": null,
      "grid_area": null,
      "grid_auto_columns": null,
      "grid_auto_flow": null,
      "grid_auto_rows": null,
      "grid_column": null,
      "grid_gap": null,
      "grid_row": null,
      "grid_template_areas": null,
      "grid_template_columns": null,
      "grid_template_rows": null,
      "height": null,
      "justify_content": null,
      "justify_items": null,
      "left": null,
      "margin": null,
      "max_height": null,
      "max_width": null,
      "min_height": null,
      "min_width": null,
      "object_fit": null,
      "object_position": null,
      "order": null,
      "overflow": null,
      "overflow_x": null,
      "overflow_y": null,
      "padding": null,
      "right": null,
      "top": null,
      "visibility": null,
      "width": null
     }
    },
    "78e123de2ac94e048cf612121f04425e": {
     "model_module": "@jupyter-widgets/controls",
     "model_module_version": "1.5.0",
     "model_name": "DescriptionStyleModel",
     "state": {
      "_model_module": "@jupyter-widgets/controls",
      "_model_module_version": "1.5.0",
      "_model_name": "DescriptionStyleModel",
      "_view_count": null,
      "_view_module": "@jupyter-widgets/base",
      "_view_module_version": "1.2.0",
      "_view_name": "StyleView",
      "description_width": ""
     }
    },
    "79699485c7f84787ad01ffa9c4ac90b0": {
     "model_module": "@jupyter-widgets/controls",
     "model_module_version": "1.5.0",
     "model_name": "HTMLModel",
     "state": {
      "_dom_classes": [],
      "_model_module": "@jupyter-widgets/controls",
      "_model_module_version": "1.5.0",
      "_model_name": "HTMLModel",
      "_view_count": null,
      "_view_module": "@jupyter-widgets/controls",
      "_view_module_version": "1.5.0",
      "_view_name": "HTMLView",
      "description": "",
      "description_tooltip": null,
      "layout": "IPY_MODEL_a9944d1355db4bc5824724bca32d443c",
      "placeholder": "​",
      "style": "IPY_MODEL_68d432195d814360b0ec3fa7b111e823",
      "value": " 461/461 [00:00&lt;00:00, 28.1kB/s]"
     }
    },
    "7a11b42786a44629a9f560bf60d9fb40": {
     "model_module": "@jupyter-widgets/controls",
     "model_module_version": "1.5.0",
     "model_name": "DescriptionStyleModel",
     "state": {
      "_model_module": "@jupyter-widgets/controls",
      "_model_module_version": "1.5.0",
      "_model_name": "DescriptionStyleModel",
      "_view_count": null,
      "_view_module": "@jupyter-widgets/base",
      "_view_module_version": "1.2.0",
      "_view_name": "StyleView",
      "description_width": ""
     }
    },
    "7aabdd9dcb234629a07351c80e4047f3": {
     "model_module": "@jupyter-widgets/controls",
     "model_module_version": "1.5.0",
     "model_name": "HBoxModel",
     "state": {
      "_dom_classes": [],
      "_model_module": "@jupyter-widgets/controls",
      "_model_module_version": "1.5.0",
      "_model_name": "HBoxModel",
      "_view_count": null,
      "_view_module": "@jupyter-widgets/controls",
      "_view_module_version": "1.5.0",
      "_view_name": "HBoxView",
      "box_style": "",
      "children": [
       "IPY_MODEL_fba504a372e24e0782cc883f6b4163fc",
       "IPY_MODEL_50c89f77c7ec42e88feec6aa620edae5",
       "IPY_MODEL_33e67c0b2d2342a492aa5f998ab13f7c"
      ],
      "layout": "IPY_MODEL_5cb09bc41f454000b06ec39db331b244"
     }
    },
    "7b0bba66f8d54d0c8169d93126e8a991": {
     "model_module": "@jupyter-widgets/controls",
     "model_module_version": "1.5.0",
     "model_name": "DescriptionStyleModel",
     "state": {
      "_model_module": "@jupyter-widgets/controls",
      "_model_module_version": "1.5.0",
      "_model_name": "DescriptionStyleModel",
      "_view_count": null,
      "_view_module": "@jupyter-widgets/base",
      "_view_module_version": "1.2.0",
      "_view_name": "StyleView",
      "description_width": ""
     }
    },
    "7dfc9e83783743ae98cab3718df5b9f0": {
     "model_module": "@jupyter-widgets/controls",
     "model_module_version": "1.5.0",
     "model_name": "FloatProgressModel",
     "state": {
      "_dom_classes": [],
      "_model_module": "@jupyter-widgets/controls",
      "_model_module_version": "1.5.0",
      "_model_name": "FloatProgressModel",
      "_view_count": null,
      "_view_module": "@jupyter-widgets/controls",
      "_view_module_version": "1.5.0",
      "_view_name": "ProgressView",
      "bar_style": "success",
      "description": "",
      "description_tooltip": null,
      "layout": "IPY_MODEL_43c02390211e4b058a001f0671cce6c1",
      "max": 804,
      "min": 0,
      "orientation": "horizontal",
      "style": "IPY_MODEL_ef9e36e0d0d74556a7ff3ff03bb3b4ff",
      "value": 804
     }
    },
    "8198833a5dd047b4bfb3451f814535c7": {
     "model_module": "@jupyter-widgets/controls",
     "model_module_version": "1.5.0",
     "model_name": "DescriptionStyleModel",
     "state": {
      "_model_module": "@jupyter-widgets/controls",
      "_model_module_version": "1.5.0",
      "_model_name": "DescriptionStyleModel",
      "_view_count": null,
      "_view_module": "@jupyter-widgets/base",
      "_view_module_version": "1.2.0",
      "_view_name": "StyleView",
      "description_width": ""
     }
    },
    "85bc8df89d2c45faab8c12160e08c470": {
     "model_module": "@jupyter-widgets/controls",
     "model_module_version": "1.5.0",
     "model_name": "HTMLModel",
     "state": {
      "_dom_classes": [],
      "_model_module": "@jupyter-widgets/controls",
      "_model_module_version": "1.5.0",
      "_model_name": "HTMLModel",
      "_view_count": null,
      "_view_module": "@jupyter-widgets/controls",
      "_view_module_version": "1.5.0",
      "_view_name": "HTMLView",
      "description": "",
      "description_tooltip": null,
      "layout": "IPY_MODEL_8e182c2d301c4fc28fda6abd34e00af6",
      "placeholder": "​",
      "style": "IPY_MODEL_1eafd89ac04849c8abdc9b8eadd8759b",
      "value": "config.json: 100%"
     }
    },
    "85ef9ff57ed34bb18c7be2e443996937": {
     "model_module": "@jupyter-widgets/controls",
     "model_module_version": "1.5.0",
     "model_name": "FloatProgressModel",
     "state": {
      "_dom_classes": [],
      "_model_module": "@jupyter-widgets/controls",
      "_model_module_version": "1.5.0",
      "_model_name": "FloatProgressModel",
      "_view_count": null,
      "_view_module": "@jupyter-widgets/controls",
      "_view_module_version": "1.5.0",
      "_view_name": "ProgressView",
      "bar_style": "success",
      "description": "",
      "description_tooltip": null,
      "layout": "IPY_MODEL_0e270c8521b746d1a2571db1b91a81d5",
      "max": 2363431,
      "min": 0,
      "orientation": "horizontal",
      "style": "IPY_MODEL_3f1b0224eb2d41eda5db6b05e2346e52",
      "value": 2363431
     }
    },
    "899a60004c4747c49685af3194f13dc9": {
     "model_module": "@jupyter-widgets/controls",
     "model_module_version": "1.5.0",
     "model_name": "DescriptionStyleModel",
     "state": {
      "_model_module": "@jupyter-widgets/controls",
      "_model_module_version": "1.5.0",
      "_model_name": "DescriptionStyleModel",
      "_view_count": null,
      "_view_module": "@jupyter-widgets/base",
      "_view_module_version": "1.2.0",
      "_view_name": "StyleView",
      "description_width": ""
     }
    },
    "8ac3ab46828143a59bf0eb43f184e314": {
     "model_module": "@jupyter-widgets/controls",
     "model_module_version": "1.5.0",
     "model_name": "DescriptionStyleModel",
     "state": {
      "_model_module": "@jupyter-widgets/controls",
      "_model_module_version": "1.5.0",
      "_model_name": "DescriptionStyleModel",
      "_view_count": null,
      "_view_module": "@jupyter-widgets/base",
      "_view_module_version": "1.2.0",
      "_view_name": "StyleView",
      "description_width": ""
     }
    },
    "8b305a0147a7492d90d6ac6067b804fa": {
     "model_module": "@jupyter-widgets/controls",
     "model_module_version": "1.5.0",
     "model_name": "ProgressStyleModel",
     "state": {
      "_model_module": "@jupyter-widgets/controls",
      "_model_module_version": "1.5.0",
      "_model_name": "ProgressStyleModel",
      "_view_count": null,
      "_view_module": "@jupyter-widgets/base",
      "_view_module_version": "1.2.0",
      "_view_name": "StyleView",
      "bar_color": null,
      "description_width": ""
     }
    },
    "8b42ccd2f94e4d4c816b754152bcf831": {
     "model_module": "@jupyter-widgets/controls",
     "model_module_version": "1.5.0",
     "model_name": "FloatProgressModel",
     "state": {
      "_dom_classes": [],
      "_model_module": "@jupyter-widgets/controls",
      "_model_module_version": "1.5.0",
      "_model_name": "FloatProgressModel",
      "_view_count": null,
      "_view_module": "@jupyter-widgets/controls",
      "_view_module_version": "1.5.0",
      "_view_name": "ProgressView",
      "bar_style": "success",
      "description": "",
      "description_tooltip": null,
      "layout": "IPY_MODEL_d202d09d5d6d48d7b19f2d3cee3668bb",
      "max": 53,
      "min": 0,
      "orientation": "horizontal",
      "style": "IPY_MODEL_6daf69006851453c8a7a432755a54506",
      "value": 53
     }
    },
    "8b4a769344804093b291d00392af3143": {
     "model_module": "@jupyter-widgets/controls",
     "model_module_version": "1.5.0",
     "model_name": "FloatProgressModel",
     "state": {
      "_dom_classes": [],
      "_model_module": "@jupyter-widgets/controls",
      "_model_module_version": "1.5.0",
      "_model_name": "FloatProgressModel",
      "_view_count": null,
      "_view_module": "@jupyter-widgets/controls",
      "_view_module_version": "1.5.0",
      "_view_name": "ProgressView",
      "bar_style": "success",
      "description": "",
      "description_tooltip": null,
      "layout": "IPY_MODEL_37796c7b8f954366bd07f10047cd13f9",
      "max": 122,
      "min": 0,
      "orientation": "horizontal",
      "style": "IPY_MODEL_a394772bf5cc48428f2fb7bfe1d59ac8",
      "value": 122
     }
    },
    "8bace130ff244b14a4017cd18442a9e8": {
     "model_module": "@jupyter-widgets/base",
     "model_module_version": "1.2.0",
     "model_name": "LayoutModel",
     "state": {
      "_model_module": "@jupyter-widgets/base",
      "_model_module_version": "1.2.0",
      "_model_name": "LayoutModel",
      "_view_count": null,
      "_view_module": "@jupyter-widgets/base",
      "_view_module_version": "1.2.0",
      "_view_name": "LayoutView",
      "align_content": null,
      "align_items": null,
      "align_self": null,
      "border": null,
      "bottom": null,
      "display": null,
      "flex": null,
      "flex_flow": null,
      "grid_area": null,
      "grid_auto_columns": null,
      "grid_auto_flow": null,
      "grid_auto_rows": null,
      "grid_column": null,
      "grid_gap": null,
      "grid_row": null,
      "grid_template_areas": null,
      "grid_template_columns": null,
      "grid_template_rows": null,
      "height": null,
      "justify_content": null,
      "justify_items": null,
      "left": null,
      "margin": null,
      "max_height": null,
      "max_width": null,
      "min_height": null,
      "min_width": null,
      "object_fit": null,
      "object_position": null,
      "order": null,
      "overflow": null,
      "overflow_x": null,
      "overflow_y": null,
      "padding": null,
      "right": null,
      "top": null,
      "visibility": null,
      "width": null
     }
    },
    "8e182c2d301c4fc28fda6abd34e00af6": {
     "model_module": "@jupyter-widgets/base",
     "model_module_version": "1.2.0",
     "model_name": "LayoutModel",
     "state": {
      "_model_module": "@jupyter-widgets/base",
      "_model_module_version": "1.2.0",
      "_model_name": "LayoutModel",
      "_view_count": null,
      "_view_module": "@jupyter-widgets/base",
      "_view_module_version": "1.2.0",
      "_view_name": "LayoutView",
      "align_content": null,
      "align_items": null,
      "align_self": null,
      "border": null,
      "bottom": null,
      "display": null,
      "flex": null,
      "flex_flow": null,
      "grid_area": null,
      "grid_auto_columns": null,
      "grid_auto_flow": null,
      "grid_auto_rows": null,
      "grid_column": null,
      "grid_gap": null,
      "grid_row": null,
      "grid_template_areas": null,
      "grid_template_columns": null,
      "grid_template_rows": null,
      "height": null,
      "justify_content": null,
      "justify_items": null,
      "left": null,
      "margin": null,
      "max_height": null,
      "max_width": null,
      "min_height": null,
      "min_width": null,
      "object_fit": null,
      "object_position": null,
      "order": null,
      "overflow": null,
      "overflow_x": null,
      "overflow_y": null,
      "padding": null,
      "right": null,
      "top": null,
      "visibility": null,
      "width": null
     }
    },
    "8f1aad4e64bb4cc58918c2dc797b323d": {
     "model_module": "@jupyter-widgets/base",
     "model_module_version": "1.2.0",
     "model_name": "LayoutModel",
     "state": {
      "_model_module": "@jupyter-widgets/base",
      "_model_module_version": "1.2.0",
      "_model_name": "LayoutModel",
      "_view_count": null,
      "_view_module": "@jupyter-widgets/base",
      "_view_module_version": "1.2.0",
      "_view_name": "LayoutView",
      "align_content": null,
      "align_items": null,
      "align_self": null,
      "border": null,
      "bottom": null,
      "display": null,
      "flex": null,
      "flex_flow": null,
      "grid_area": null,
      "grid_auto_columns": null,
      "grid_auto_flow": null,
      "grid_auto_rows": null,
      "grid_column": null,
      "grid_gap": null,
      "grid_row": null,
      "grid_template_areas": null,
      "grid_template_columns": null,
      "grid_template_rows": null,
      "height": null,
      "justify_content": null,
      "justify_items": null,
      "left": null,
      "margin": null,
      "max_height": null,
      "max_width": null,
      "min_height": null,
      "min_width": null,
      "object_fit": null,
      "object_position": null,
      "order": null,
      "overflow": null,
      "overflow_x": null,
      "overflow_y": null,
      "padding": null,
      "right": null,
      "top": null,
      "visibility": null,
      "width": null
     }
    },
    "90a74fb7db2648b3aea60fd4d79e7832": {
     "model_module": "@jupyter-widgets/controls",
     "model_module_version": "1.5.0",
     "model_name": "HTMLModel",
     "state": {
      "_dom_classes": [],
      "_model_module": "@jupyter-widgets/controls",
      "_model_module_version": "1.5.0",
      "_model_name": "HTMLModel",
      "_view_count": null,
      "_view_module": "@jupyter-widgets/controls",
      "_view_module_version": "1.5.0",
      "_view_name": "HTMLView",
      "description": "",
      "description_tooltip": null,
      "layout": "IPY_MODEL_cb7747b16e7546a1b33526007c7b2494",
      "placeholder": "​",
      "style": "IPY_MODEL_9bcab7d188d54f5c8ee3133e38a83f06",
      "value": "pytorch_model.bin: 100%"
     }
    },
    "928888f7c88e4a77817ab18894b8beb7": {
     "model_module": "@jupyter-widgets/controls",
     "model_module_version": "1.5.0",
     "model_name": "FloatProgressModel",
     "state": {
      "_dom_classes": [],
      "_model_module": "@jupyter-widgets/controls",
      "_model_module_version": "1.5.0",
      "_model_name": "FloatProgressModel",
      "_view_count": null,
      "_view_module": "@jupyter-widgets/controls",
      "_view_module_version": "1.5.0",
      "_view_name": "ProgressView",
      "bar_style": "success",
      "description": "",
      "description_tooltip": null,
      "layout": "IPY_MODEL_8bace130ff244b14a4017cd18442a9e8",
      "max": 9621556,
      "min": 0,
      "orientation": "horizontal",
      "style": "IPY_MODEL_4523ff4bbcd84a898c392d4cc072e135",
      "value": 9621556
     }
    },
    "95fe2d7c37f749e5bc47e59b7a5c9f49": {
     "model_module": "@jupyter-widgets/base",
     "model_module_version": "1.2.0",
     "model_name": "LayoutModel",
     "state": {
      "_model_module": "@jupyter-widgets/base",
      "_model_module_version": "1.2.0",
      "_model_name": "LayoutModel",
      "_view_count": null,
      "_view_module": "@jupyter-widgets/base",
      "_view_module_version": "1.2.0",
      "_view_name": "LayoutView",
      "align_content": null,
      "align_items": null,
      "align_self": null,
      "border": null,
      "bottom": null,
      "display": null,
      "flex": null,
      "flex_flow": null,
      "grid_area": null,
      "grid_auto_columns": null,
      "grid_auto_flow": null,
      "grid_auto_rows": null,
      "grid_column": null,
      "grid_gap": null,
      "grid_row": null,
      "grid_template_areas": null,
      "grid_template_columns": null,
      "grid_template_rows": null,
      "height": null,
      "justify_content": null,
      "justify_items": null,
      "left": null,
      "margin": null,
      "max_height": null,
      "max_width": null,
      "min_height": null,
      "min_width": null,
      "object_fit": null,
      "object_position": null,
      "order": null,
      "overflow": null,
      "overflow_x": null,
      "overflow_y": null,
      "padding": null,
      "right": null,
      "top": null,
      "visibility": null,
      "width": null
     }
    },
    "98e0942fcaab49b3802cfae02a071827": {
     "model_module": "@jupyter-widgets/controls",
     "model_module_version": "1.5.0",
     "model_name": "HBoxModel",
     "state": {
      "_dom_classes": [],
      "_model_module": "@jupyter-widgets/controls",
      "_model_module_version": "1.5.0",
      "_model_name": "HBoxModel",
      "_view_count": null,
      "_view_module": "@jupyter-widgets/controls",
      "_view_module_version": "1.5.0",
      "_view_name": "HBoxView",
      "box_style": "",
      "children": [
       "IPY_MODEL_409f5e1e4bae4409aea054af9dd8cb50",
       "IPY_MODEL_928888f7c88e4a77817ab18894b8beb7",
       "IPY_MODEL_9aab95b929be4c8b9c091471091d01ab"
      ],
      "layout": "IPY_MODEL_3450fe80ebbb440ca176b0636b8a8ac7"
     }
    },
    "9920923ce4f64d0083798f8f879e469b": {
     "model_module": "@jupyter-widgets/controls",
     "model_module_version": "1.5.0",
     "model_name": "HTMLModel",
     "state": {
      "_dom_classes": [],
      "_model_module": "@jupyter-widgets/controls",
      "_model_module_version": "1.5.0",
      "_model_name": "HTMLModel",
      "_view_count": null,
      "_view_module": "@jupyter-widgets/controls",
      "_view_module_version": "1.5.0",
      "_view_name": "HTMLView",
      "description": "",
      "description_tooltip": null,
      "layout": "IPY_MODEL_cd0fb4dd05e644cda7139a7874780b71",
      "placeholder": "​",
      "style": "IPY_MODEL_ef77018625f8473fa24152424dce7786",
      "value": "pytorch_model.bin: 100%"
     }
    },
    "9aab95b929be4c8b9c091471091d01ab": {
     "model_module": "@jupyter-widgets/controls",
     "model_module_version": "1.5.0",
     "model_name": "HTMLModel",
     "state": {
      "_dom_classes": [],
      "_model_module": "@jupyter-widgets/controls",
      "_model_module_version": "1.5.0",
      "_model_name": "HTMLModel",
      "_view_count": null,
      "_view_module": "@jupyter-widgets/controls",
      "_view_module_version": "1.5.0",
      "_view_name": "HTMLView",
      "description": "",
      "description_tooltip": null,
      "layout": "IPY_MODEL_8f1aad4e64bb4cc58918c2dc797b323d",
      "placeholder": "​",
      "style": "IPY_MODEL_4e78c398164245d28c602ae2c0a61455",
      "value": " 9.62M/9.62M [00:00&lt;00:00, 23.6MB/s]"
     }
    },
    "9b81b04fafeb41cda8c80884f1c72d02": {
     "model_module": "@jupyter-widgets/base",
     "model_module_version": "1.2.0",
     "model_name": "LayoutModel",
     "state": {
      "_model_module": "@jupyter-widgets/base",
      "_model_module_version": "1.2.0",
      "_model_name": "LayoutModel",
      "_view_count": null,
      "_view_module": "@jupyter-widgets/base",
      "_view_module_version": "1.2.0",
      "_view_name": "LayoutView",
      "align_content": null,
      "align_items": null,
      "align_self": null,
      "border": null,
      "bottom": null,
      "display": null,
      "flex": null,
      "flex_flow": null,
      "grid_area": null,
      "grid_auto_columns": null,
      "grid_auto_flow": null,
      "grid_auto_rows": null,
      "grid_column": null,
      "grid_gap": null,
      "grid_row": null,
      "grid_template_areas": null,
      "grid_template_columns": null,
      "grid_template_rows": null,
      "height": null,
      "justify_content": null,
      "justify_items": null,
      "left": null,
      "margin": null,
      "max_height": null,
      "max_width": null,
      "min_height": null,
      "min_width": null,
      "object_fit": null,
      "object_position": null,
      "order": null,
      "overflow": null,
      "overflow_x": null,
      "overflow_y": null,
      "padding": null,
      "right": null,
      "top": null,
      "visibility": null,
      "width": null
     }
    },
    "9bcab7d188d54f5c8ee3133e38a83f06": {
     "model_module": "@jupyter-widgets/controls",
     "model_module_version": "1.5.0",
     "model_name": "DescriptionStyleModel",
     "state": {
      "_model_module": "@jupyter-widgets/controls",
      "_model_module_version": "1.5.0",
      "_model_name": "DescriptionStyleModel",
      "_view_count": null,
      "_view_module": "@jupyter-widgets/base",
      "_view_module_version": "1.2.0",
      "_view_name": "StyleView",
      "description_width": ""
     }
    },
    "a019e0e9cd00404fbec6faa5658a1b68": {
     "model_module": "@jupyter-widgets/controls",
     "model_module_version": "1.5.0",
     "model_name": "FloatProgressModel",
     "state": {
      "_dom_classes": [],
      "_model_module": "@jupyter-widgets/controls",
      "_model_module_version": "1.5.0",
      "_model_name": "FloatProgressModel",
      "_view_count": null,
      "_view_module": "@jupyter-widgets/controls",
      "_view_module_version": "1.5.0",
      "_view_name": "ProgressView",
      "bar_style": "success",
      "description": "",
      "description_tooltip": null,
      "layout": "IPY_MODEL_e620cec3df894a15905c494940b54c80",
      "max": 190,
      "min": 0,
      "orientation": "horizontal",
      "style": "IPY_MODEL_a1332d24d25f4a39abf46ad4d2b4846e",
      "value": 190
     }
    },
    "a1332d24d25f4a39abf46ad4d2b4846e": {
     "model_module": "@jupyter-widgets/controls",
     "model_module_version": "1.5.0",
     "model_name": "ProgressStyleModel",
     "state": {
      "_model_module": "@jupyter-widgets/controls",
      "_model_module_version": "1.5.0",
      "_model_name": "ProgressStyleModel",
      "_view_count": null,
      "_view_module": "@jupyter-widgets/base",
      "_view_module_version": "1.2.0",
      "_view_name": "StyleView",
      "bar_color": null,
      "description_width": ""
     }
    },
    "a247a0e8c94c4acda273fdae51d1d480": {
     "model_module": "@jupyter-widgets/base",
     "model_module_version": "1.2.0",
     "model_name": "LayoutModel",
     "state": {
      "_model_module": "@jupyter-widgets/base",
      "_model_module_version": "1.2.0",
      "_model_name": "LayoutModel",
      "_view_count": null,
      "_view_module": "@jupyter-widgets/base",
      "_view_module_version": "1.2.0",
      "_view_name": "LayoutView",
      "align_content": null,
      "align_items": null,
      "align_self": null,
      "border": null,
      "bottom": null,
      "display": null,
      "flex": null,
      "flex_flow": null,
      "grid_area": null,
      "grid_auto_columns": null,
      "grid_auto_flow": null,
      "grid_auto_rows": null,
      "grid_column": null,
      "grid_gap": null,
      "grid_row": null,
      "grid_template_areas": null,
      "grid_template_columns": null,
      "grid_template_rows": null,
      "height": null,
      "justify_content": null,
      "justify_items": null,
      "left": null,
      "margin": null,
      "max_height": null,
      "max_width": null,
      "min_height": null,
      "min_width": null,
      "object_fit": null,
      "object_position": null,
      "order": null,
      "overflow": null,
      "overflow_x": null,
      "overflow_y": null,
      "padding": null,
      "right": null,
      "top": null,
      "visibility": null,
      "width": null
     }
    },
    "a333c53c6bff45cd8488356ca969ff40": {
     "model_module": "@jupyter-widgets/controls",
     "model_module_version": "1.5.0",
     "model_name": "HTMLModel",
     "state": {
      "_dom_classes": [],
      "_model_module": "@jupyter-widgets/controls",
      "_model_module_version": "1.5.0",
      "_model_name": "HTMLModel",
      "_view_count": null,
      "_view_module": "@jupyter-widgets/controls",
      "_view_module_version": "1.5.0",
      "_view_name": "HTMLView",
      "description": "",
      "description_tooltip": null,
      "layout": "IPY_MODEL_24c72bbcde3e4e7d9d1e6c826765c535",
      "placeholder": "​",
      "style": "IPY_MODEL_899a60004c4747c49685af3194f13dc9",
      "value": "tokenizer_config.json: 100%"
     }
    },
    "a394772bf5cc48428f2fb7bfe1d59ac8": {
     "model_module": "@jupyter-widgets/controls",
     "model_module_version": "1.5.0",
     "model_name": "ProgressStyleModel",
     "state": {
      "_model_module": "@jupyter-widgets/controls",
      "_model_module_version": "1.5.0",
      "_model_name": "ProgressStyleModel",
      "_view_count": null,
      "_view_module": "@jupyter-widgets/base",
      "_view_module_version": "1.2.0",
      "_view_name": "StyleView",
      "bar_color": null,
      "description_width": ""
     }
    },
    "a682d86c3a2542a3bc0d3a7dbd9edc1c": {
     "model_module": "@jupyter-widgets/base",
     "model_module_version": "1.2.0",
     "model_name": "LayoutModel",
     "state": {
      "_model_module": "@jupyter-widgets/base",
      "_model_module_version": "1.2.0",
      "_model_name": "LayoutModel",
      "_view_count": null,
      "_view_module": "@jupyter-widgets/base",
      "_view_module_version": "1.2.0",
      "_view_name": "LayoutView",
      "align_content": null,
      "align_items": null,
      "align_self": null,
      "border": null,
      "bottom": null,
      "display": null,
      "flex": null,
      "flex_flow": null,
      "grid_area": null,
      "grid_auto_columns": null,
      "grid_auto_flow": null,
      "grid_auto_rows": null,
      "grid_column": null,
      "grid_gap": null,
      "grid_row": null,
      "grid_template_areas": null,
      "grid_template_columns": null,
      "grid_template_rows": null,
      "height": null,
      "justify_content": null,
      "justify_items": null,
      "left": null,
      "margin": null,
      "max_height": null,
      "max_width": null,
      "min_height": null,
      "min_width": null,
      "object_fit": null,
      "object_position": null,
      "order": null,
      "overflow": null,
      "overflow_x": null,
      "overflow_y": null,
      "padding": null,
      "right": null,
      "top": null,
      "visibility": null,
      "width": null
     }
    },
    "a934d578e1ca46a8b37309fd7d385e79": {
     "model_module": "@jupyter-widgets/controls",
     "model_module_version": "1.5.0",
     "model_name": "ProgressStyleModel",
     "state": {
      "_model_module": "@jupyter-widgets/controls",
      "_model_module_version": "1.5.0",
      "_model_name": "ProgressStyleModel",
      "_view_count": null,
      "_view_module": "@jupyter-widgets/base",
      "_view_module_version": "1.2.0",
      "_view_name": "StyleView",
      "bar_color": null,
      "description_width": ""
     }
    },
    "a9944d1355db4bc5824724bca32d443c": {
     "model_module": "@jupyter-widgets/base",
     "model_module_version": "1.2.0",
     "model_name": "LayoutModel",
     "state": {
      "_model_module": "@jupyter-widgets/base",
      "_model_module_version": "1.2.0",
      "_model_name": "LayoutModel",
      "_view_count": null,
      "_view_module": "@jupyter-widgets/base",
      "_view_module_version": "1.2.0",
      "_view_name": "LayoutView",
      "align_content": null,
      "align_items": null,
      "align_self": null,
      "border": null,
      "bottom": null,
      "display": null,
      "flex": null,
      "flex_flow": null,
      "grid_area": null,
      "grid_auto_columns": null,
      "grid_auto_flow": null,
      "grid_auto_rows": null,
      "grid_column": null,
      "grid_gap": null,
      "grid_row": null,
      "grid_template_areas": null,
      "grid_template_columns": null,
      "grid_template_rows": null,
      "height": null,
      "justify_content": null,
      "justify_items": null,
      "left": null,
      "margin": null,
      "max_height": null,
      "max_width": null,
      "min_height": null,
      "min_width": null,
      "object_fit": null,
      "object_position": null,
      "order": null,
      "overflow": null,
      "overflow_x": null,
      "overflow_y": null,
      "padding": null,
      "right": null,
      "top": null,
      "visibility": null,
      "width": null
     }
    },
    "aab54630dd854d4988126f7b8cd5afe0": {
     "model_module": "@jupyter-widgets/controls",
     "model_module_version": "1.5.0",
     "model_name": "HBoxModel",
     "state": {
      "_dom_classes": [],
      "_model_module": "@jupyter-widgets/controls",
      "_model_module_version": "1.5.0",
      "_model_name": "HBoxModel",
      "_view_count": null,
      "_view_module": "@jupyter-widgets/controls",
      "_view_module_version": "1.5.0",
      "_view_name": "HBoxView",
      "box_style": "",
      "children": [
       "IPY_MODEL_698ec659f881451e921bfcdf7b0377e9",
       "IPY_MODEL_e0dcc547c6a44de38519fd3ff275b2d8",
       "IPY_MODEL_2e0a2750df7c42cead34eade0fd18cfc"
      ],
      "layout": "IPY_MODEL_680d029834ca43abad482cdd14e86888"
     }
    },
    "ac12785cb69e4aaba74b2d547cdc0185": {
     "model_module": "@jupyter-widgets/base",
     "model_module_version": "1.2.0",
     "model_name": "LayoutModel",
     "state": {
      "_model_module": "@jupyter-widgets/base",
      "_model_module_version": "1.2.0",
      "_model_name": "LayoutModel",
      "_view_count": null,
      "_view_module": "@jupyter-widgets/base",
      "_view_module_version": "1.2.0",
      "_view_name": "LayoutView",
      "align_content": null,
      "align_items": null,
      "align_self": null,
      "border": null,
      "bottom": null,
      "display": null,
      "flex": null,
      "flex_flow": null,
      "grid_area": null,
      "grid_auto_columns": null,
      "grid_auto_flow": null,
      "grid_auto_rows": null,
      "grid_column": null,
      "grid_gap": null,
      "grid_row": null,
      "grid_template_areas": null,
      "grid_template_columns": null,
      "grid_template_rows": null,
      "height": null,
      "justify_content": null,
      "justify_items": null,
      "left": null,
      "margin": null,
      "max_height": null,
      "max_width": null,
      "min_height": null,
      "min_width": null,
      "object_fit": null,
      "object_position": null,
      "order": null,
      "overflow": null,
      "overflow_x": null,
      "overflow_y": null,
      "padding": null,
      "right": null,
      "top": null,
      "visibility": null,
      "width": null
     }
    },
    "aeeb65ff000f4fb1a38668b853337ef6": {
     "model_module": "@jupyter-widgets/controls",
     "model_module_version": "1.5.0",
     "model_name": "HTMLModel",
     "state": {
      "_dom_classes": [],
      "_model_module": "@jupyter-widgets/controls",
      "_model_module_version": "1.5.0",
      "_model_name": "HTMLModel",
      "_view_count": null,
      "_view_module": "@jupyter-widgets/controls",
      "_view_module_version": "1.5.0",
      "_view_name": "HTMLView",
      "description": "",
      "description_tooltip": null,
      "layout": "IPY_MODEL_d9cc8f398cbb4504b77f7a6a08237d61",
      "placeholder": "​",
      "style": "IPY_MODEL_b87b215b98fd486284b068b341498fad",
      "value": "1_Pooling/config.json: 100%"
     }
    },
    "af5d735a6b964b62998978c841ee6cc3": {
     "model_module": "@jupyter-widgets/base",
     "model_module_version": "1.2.0",
     "model_name": "LayoutModel",
     "state": {
      "_model_module": "@jupyter-widgets/base",
      "_model_module_version": "1.2.0",
      "_model_name": "LayoutModel",
      "_view_count": null,
      "_view_module": "@jupyter-widgets/base",
      "_view_module_version": "1.2.0",
      "_view_name": "LayoutView",
      "align_content": null,
      "align_items": null,
      "align_self": null,
      "border": null,
      "bottom": null,
      "display": null,
      "flex": null,
      "flex_flow": null,
      "grid_area": null,
      "grid_auto_columns": null,
      "grid_auto_flow": null,
      "grid_auto_rows": null,
      "grid_column": null,
      "grid_gap": null,
      "grid_row": null,
      "grid_template_areas": null,
      "grid_template_columns": null,
      "grid_template_rows": null,
      "height": null,
      "justify_content": null,
      "justify_items": null,
      "left": null,
      "margin": null,
      "max_height": null,
      "max_width": null,
      "min_height": null,
      "min_width": null,
      "object_fit": null,
      "object_position": null,
      "order": null,
      "overflow": null,
      "overflow_x": null,
      "overflow_y": null,
      "padding": null,
      "right": null,
      "top": null,
      "visibility": null,
      "width": null
     }
    },
    "b12975b1c7d4486a835b2b4234f52607": {
     "model_module": "@jupyter-widgets/controls",
     "model_module_version": "1.5.0",
     "model_name": "ProgressStyleModel",
     "state": {
      "_model_module": "@jupyter-widgets/controls",
      "_model_module_version": "1.5.0",
      "_model_name": "ProgressStyleModel",
      "_view_count": null,
      "_view_module": "@jupyter-widgets/base",
      "_view_module_version": "1.2.0",
      "_view_name": "StyleView",
      "bar_color": null,
      "description_width": ""
     }
    },
    "b35d0ded3e644844bc479e3908c106d9": {
     "model_module": "@jupyter-widgets/base",
     "model_module_version": "1.2.0",
     "model_name": "LayoutModel",
     "state": {
      "_model_module": "@jupyter-widgets/base",
      "_model_module_version": "1.2.0",
      "_model_name": "LayoutModel",
      "_view_count": null,
      "_view_module": "@jupyter-widgets/base",
      "_view_module_version": "1.2.0",
      "_view_name": "LayoutView",
      "align_content": null,
      "align_items": null,
      "align_self": null,
      "border": null,
      "bottom": null,
      "display": null,
      "flex": null,
      "flex_flow": null,
      "grid_area": null,
      "grid_auto_columns": null,
      "grid_auto_flow": null,
      "grid_auto_rows": null,
      "grid_column": null,
      "grid_gap": null,
      "grid_row": null,
      "grid_template_areas": null,
      "grid_template_columns": null,
      "grid_template_rows": null,
      "height": null,
      "justify_content": null,
      "justify_items": null,
      "left": null,
      "margin": null,
      "max_height": null,
      "max_width": null,
      "min_height": null,
      "min_width": null,
      "object_fit": null,
      "object_position": null,
      "order": null,
      "overflow": null,
      "overflow_x": null,
      "overflow_y": null,
      "padding": null,
      "right": null,
      "top": null,
      "visibility": null,
      "width": null
     }
    },
    "b6404095db6543229d3558604af4a148": {
     "model_module": "@jupyter-widgets/controls",
     "model_module_version": "1.5.0",
     "model_name": "FloatProgressModel",
     "state": {
      "_dom_classes": [],
      "_model_module": "@jupyter-widgets/controls",
      "_model_module_version": "1.5.0",
      "_model_name": "FloatProgressModel",
      "_view_count": null,
      "_view_module": "@jupyter-widgets/controls",
      "_view_module_version": "1.5.0",
      "_view_name": "ProgressView",
      "bar_style": "success",
      "description": "",
      "description_tooltip": null,
      "layout": "IPY_MODEL_de1c278efe7f4480b8bf335f271b2477",
      "max": 1883785969,
      "min": 0,
      "orientation": "horizontal",
      "style": "IPY_MODEL_8b305a0147a7492d90d6ac6067b804fa",
      "value": 1883785969
     }
    },
    "b6df52acdf1447f5a5c5ca2261e3992e": {
     "model_module": "@jupyter-widgets/base",
     "model_module_version": "1.2.0",
     "model_name": "LayoutModel",
     "state": {
      "_model_module": "@jupyter-widgets/base",
      "_model_module_version": "1.2.0",
      "_model_name": "LayoutModel",
      "_view_count": null,
      "_view_module": "@jupyter-widgets/base",
      "_view_module_version": "1.2.0",
      "_view_name": "LayoutView",
      "align_content": null,
      "align_items": null,
      "align_self": null,
      "border": null,
      "bottom": null,
      "display": null,
      "flex": null,
      "flex_flow": null,
      "grid_area": null,
      "grid_auto_columns": null,
      "grid_auto_flow": null,
      "grid_auto_rows": null,
      "grid_column": null,
      "grid_gap": null,
      "grid_row": null,
      "grid_template_areas": null,
      "grid_template_columns": null,
      "grid_template_rows": null,
      "height": null,
      "justify_content": null,
      "justify_items": null,
      "left": null,
      "margin": null,
      "max_height": null,
      "max_width": null,
      "min_height": null,
      "min_width": null,
      "object_fit": null,
      "object_position": null,
      "order": null,
      "overflow": null,
      "overflow_x": null,
      "overflow_y": null,
      "padding": null,
      "right": null,
      "top": null,
      "visibility": null,
      "width": null
     }
    },
    "b7df3703cf7e4f02a364667c05e32084": {
     "model_module": "@jupyter-widgets/base",
     "model_module_version": "1.2.0",
     "model_name": "LayoutModel",
     "state": {
      "_model_module": "@jupyter-widgets/base",
      "_model_module_version": "1.2.0",
      "_model_name": "LayoutModel",
      "_view_count": null,
      "_view_module": "@jupyter-widgets/base",
      "_view_module_version": "1.2.0",
      "_view_name": "LayoutView",
      "align_content": null,
      "align_items": null,
      "align_self": null,
      "border": null,
      "bottom": null,
      "display": null,
      "flex": null,
      "flex_flow": null,
      "grid_area": null,
      "grid_auto_columns": null,
      "grid_auto_flow": null,
      "grid_auto_rows": null,
      "grid_column": null,
      "grid_gap": null,
      "grid_row": null,
      "grid_template_areas": null,
      "grid_template_columns": null,
      "grid_template_rows": null,
      "height": null,
      "justify_content": null,
      "justify_items": null,
      "left": null,
      "margin": null,
      "max_height": null,
      "max_width": null,
      "min_height": null,
      "min_width": null,
      "object_fit": null,
      "object_position": null,
      "order": null,
      "overflow": null,
      "overflow_x": null,
      "overflow_y": null,
      "padding": null,
      "right": null,
      "top": null,
      "visibility": null,
      "width": null
     }
    },
    "b87b215b98fd486284b068b341498fad": {
     "model_module": "@jupyter-widgets/controls",
     "model_module_version": "1.5.0",
     "model_name": "DescriptionStyleModel",
     "state": {
      "_model_module": "@jupyter-widgets/controls",
      "_model_module_version": "1.5.0",
      "_model_name": "DescriptionStyleModel",
      "_view_count": null,
      "_view_module": "@jupyter-widgets/base",
      "_view_module_version": "1.2.0",
      "_view_name": "StyleView",
      "description_width": ""
     }
    },
    "b88c6784a31a4e9cb43812ef13d90e97": {
     "model_module": "@jupyter-widgets/base",
     "model_module_version": "1.2.0",
     "model_name": "LayoutModel",
     "state": {
      "_model_module": "@jupyter-widgets/base",
      "_model_module_version": "1.2.0",
      "_model_name": "LayoutModel",
      "_view_count": null,
      "_view_module": "@jupyter-widgets/base",
      "_view_module_version": "1.2.0",
      "_view_name": "LayoutView",
      "align_content": null,
      "align_items": null,
      "align_self": null,
      "border": null,
      "bottom": null,
      "display": null,
      "flex": null,
      "flex_flow": null,
      "grid_area": null,
      "grid_auto_columns": null,
      "grid_auto_flow": null,
      "grid_auto_rows": null,
      "grid_column": null,
      "grid_gap": null,
      "grid_row": null,
      "grid_template_areas": null,
      "grid_template_columns": null,
      "grid_template_rows": null,
      "height": null,
      "justify_content": null,
      "justify_items": null,
      "left": null,
      "margin": null,
      "max_height": null,
      "max_width": null,
      "min_height": null,
      "min_width": null,
      "object_fit": null,
      "object_position": null,
      "order": null,
      "overflow": null,
      "overflow_x": null,
      "overflow_y": null,
      "padding": null,
      "right": null,
      "top": null,
      "visibility": null,
      "width": null
     }
    },
    "be61be60927140f0a20acf48def546ae": {
     "model_module": "@jupyter-widgets/controls",
     "model_module_version": "1.5.0",
     "model_name": "HTMLModel",
     "state": {
      "_dom_classes": [],
      "_model_module": "@jupyter-widgets/controls",
      "_model_module_version": "1.5.0",
      "_model_name": "HTMLModel",
      "_view_count": null,
      "_view_module": "@jupyter-widgets/controls",
      "_view_module_version": "1.5.0",
      "_view_name": "HTMLView",
      "description": "",
      "description_tooltip": null,
      "layout": "IPY_MODEL_4b0b22b960654ce88810a2829a9bca16",
      "placeholder": "​",
      "style": "IPY_MODEL_db606defe7fb4e5f93ee1817dd7482d3",
      "value": "sentence_bert_config.json: 100%"
     }
    },
    "bf5d447a6ad8429fa464ecb255fb6814": {
     "model_module": "@jupyter-widgets/controls",
     "model_module_version": "1.5.0",
     "model_name": "HBoxModel",
     "state": {
      "_dom_classes": [],
      "_model_module": "@jupyter-widgets/controls",
      "_model_module_version": "1.5.0",
      "_model_name": "HBoxModel",
      "_view_count": null,
      "_view_module": "@jupyter-widgets/controls",
      "_view_module_version": "1.5.0",
      "_view_name": "HBoxView",
      "box_style": "",
      "children": [
       "IPY_MODEL_9920923ce4f64d0083798f8f879e469b",
       "IPY_MODEL_85ef9ff57ed34bb18c7be2e443996937",
       "IPY_MODEL_caa069d0ab2f439b95278dda6d35ea16"
      ],
      "layout": "IPY_MODEL_9b81b04fafeb41cda8c80884f1c72d02"
     }
    },
    "c4dbe5415cda4a6f96af44b179695081": {
     "model_module": "@jupyter-widgets/base",
     "model_module_version": "1.2.0",
     "model_name": "LayoutModel",
     "state": {
      "_model_module": "@jupyter-widgets/base",
      "_model_module_version": "1.2.0",
      "_model_name": "LayoutModel",
      "_view_count": null,
      "_view_module": "@jupyter-widgets/base",
      "_view_module_version": "1.2.0",
      "_view_name": "LayoutView",
      "align_content": null,
      "align_items": null,
      "align_self": null,
      "border": null,
      "bottom": null,
      "display": null,
      "flex": null,
      "flex_flow": null,
      "grid_area": null,
      "grid_auto_columns": null,
      "grid_auto_flow": null,
      "grid_auto_rows": null,
      "grid_column": null,
      "grid_gap": null,
      "grid_row": null,
      "grid_template_areas": null,
      "grid_template_columns": null,
      "grid_template_rows": null,
      "height": null,
      "justify_content": null,
      "justify_items": null,
      "left": null,
      "margin": null,
      "max_height": null,
      "max_width": null,
      "min_height": null,
      "min_width": null,
      "object_fit": null,
      "object_position": null,
      "order": null,
      "overflow": null,
      "overflow_x": null,
      "overflow_y": null,
      "padding": null,
      "right": null,
      "top": null,
      "visibility": null,
      "width": null
     }
    },
    "c6686aaaf85d44ebbd189800db8cfd1d": {
     "model_module": "@jupyter-widgets/base",
     "model_module_version": "1.2.0",
     "model_name": "LayoutModel",
     "state": {
      "_model_module": "@jupyter-widgets/base",
      "_model_module_version": "1.2.0",
      "_model_name": "LayoutModel",
      "_view_count": null,
      "_view_module": "@jupyter-widgets/base",
      "_view_module_version": "1.2.0",
      "_view_name": "LayoutView",
      "align_content": null,
      "align_items": null,
      "align_self": null,
      "border": null,
      "bottom": null,
      "display": null,
      "flex": null,
      "flex_flow": null,
      "grid_area": null,
      "grid_auto_columns": null,
      "grid_auto_flow": null,
      "grid_auto_rows": null,
      "grid_column": null,
      "grid_gap": null,
      "grid_row": null,
      "grid_template_areas": null,
      "grid_template_columns": null,
      "grid_template_rows": null,
      "height": null,
      "justify_content": null,
      "justify_items": null,
      "left": null,
      "margin": null,
      "max_height": null,
      "max_width": null,
      "min_height": null,
      "min_width": null,
      "object_fit": null,
      "object_position": null,
      "order": null,
      "overflow": null,
      "overflow_x": null,
      "overflow_y": null,
      "padding": null,
      "right": null,
      "top": null,
      "visibility": null,
      "width": null
     }
    },
    "c9ac3057d5514b4b9a04b64f030b75df": {
     "model_module": "@jupyter-widgets/controls",
     "model_module_version": "1.5.0",
     "model_name": "HBoxModel",
     "state": {
      "_dom_classes": [],
      "_model_module": "@jupyter-widgets/controls",
      "_model_module_version": "1.5.0",
      "_model_name": "HBoxModel",
      "_view_count": null,
      "_view_module": "@jupyter-widgets/controls",
      "_view_module_version": "1.5.0",
      "_view_name": "HBoxView",
      "box_style": "",
      "children": [
       "IPY_MODEL_be61be60927140f0a20acf48def546ae",
       "IPY_MODEL_8b42ccd2f94e4d4c816b754152bcf831",
       "IPY_MODEL_36ac918cec3843e3907cbafb72acc59d"
      ],
      "layout": "IPY_MODEL_5bb0eaf09c5344a28b72e1dc7298e20a"
     }
    },
    "ca01ffcc658040c99b6cc583be5b443e": {
     "model_module": "@jupyter-widgets/controls",
     "model_module_version": "1.5.0",
     "model_name": "DescriptionStyleModel",
     "state": {
      "_model_module": "@jupyter-widgets/controls",
      "_model_module_version": "1.5.0",
      "_model_name": "DescriptionStyleModel",
      "_view_count": null,
      "_view_module": "@jupyter-widgets/base",
      "_view_module_version": "1.2.0",
      "_view_name": "StyleView",
      "description_width": ""
     }
    },
    "caa069d0ab2f439b95278dda6d35ea16": {
     "model_module": "@jupyter-widgets/controls",
     "model_module_version": "1.5.0",
     "model_name": "HTMLModel",
     "state": {
      "_dom_classes": [],
      "_model_module": "@jupyter-widgets/controls",
      "_model_module_version": "1.5.0",
      "_model_name": "HTMLModel",
      "_view_count": null,
      "_view_module": "@jupyter-widgets/controls",
      "_view_module_version": "1.5.0",
      "_view_name": "HTMLView",
      "description": "",
      "description_tooltip": null,
      "layout": "IPY_MODEL_21c162eef78a4d50bc514268fb2125b9",
      "placeholder": "​",
      "style": "IPY_MODEL_1ca760151e4e4fd9835e81c0ab28e50a",
      "value": " 2.36M/2.36M [00:00&lt;00:00, 3.12MB/s]"
     }
    },
    "cb01d0dfca6342eb89f624e5448c03b0": {
     "model_module": "@jupyter-widgets/controls",
     "model_module_version": "1.5.0",
     "model_name": "HTMLModel",
     "state": {
      "_dom_classes": [],
      "_model_module": "@jupyter-widgets/controls",
      "_model_module_version": "1.5.0",
      "_model_name": "HTMLModel",
      "_view_count": null,
      "_view_module": "@jupyter-widgets/controls",
      "_view_module_version": "1.5.0",
      "_view_name": "HTMLView",
      "description": "",
      "description_tooltip": null,
      "layout": "IPY_MODEL_4c8104015e744397aa307a24ea9c3d9d",
      "placeholder": "​",
      "style": "IPY_MODEL_fab307f32af645dfa909abdb7f9b237a",
      "value": " 391/391 [00:00&lt;00:00, 25.5kB/s]"
     }
    },
    "cb7747b16e7546a1b33526007c7b2494": {
     "model_module": "@jupyter-widgets/base",
     "model_module_version": "1.2.0",
     "model_name": "LayoutModel",
     "state": {
      "_model_module": "@jupyter-widgets/base",
      "_model_module_version": "1.2.0",
      "_model_name": "LayoutModel",
      "_view_count": null,
      "_view_module": "@jupyter-widgets/base",
      "_view_module_version": "1.2.0",
      "_view_name": "LayoutView",
      "align_content": null,
      "align_items": null,
      "align_self": null,
      "border": null,
      "bottom": null,
      "display": null,
      "flex": null,
      "flex_flow": null,
      "grid_area": null,
      "grid_auto_columns": null,
      "grid_auto_flow": null,
      "grid_auto_rows": null,
      "grid_column": null,
      "grid_gap": null,
      "grid_row": null,
      "grid_template_areas": null,
      "grid_template_columns": null,
      "grid_template_rows": null,
      "height": null,
      "justify_content": null,
      "justify_items": null,
      "left": null,
      "margin": null,
      "max_height": null,
      "max_width": null,
      "min_height": null,
      "min_width": null,
      "object_fit": null,
      "object_position": null,
      "order": null,
      "overflow": null,
      "overflow_x": null,
      "overflow_y": null,
      "padding": null,
      "right": null,
      "top": null,
      "visibility": null,
      "width": null
     }
    },
    "cd07ae312489459c9d1d1ce2bb253918": {
     "model_module": "@jupyter-widgets/controls",
     "model_module_version": "1.5.0",
     "model_name": "DescriptionStyleModel",
     "state": {
      "_model_module": "@jupyter-widgets/controls",
      "_model_module_version": "1.5.0",
      "_model_name": "DescriptionStyleModel",
      "_view_count": null,
      "_view_module": "@jupyter-widgets/base",
      "_view_module_version": "1.2.0",
      "_view_name": "StyleView",
      "description_width": ""
     }
    },
    "cd0fb4dd05e644cda7139a7874780b71": {
     "model_module": "@jupyter-widgets/base",
     "model_module_version": "1.2.0",
     "model_name": "LayoutModel",
     "state": {
      "_model_module": "@jupyter-widgets/base",
      "_model_module_version": "1.2.0",
      "_model_name": "LayoutModel",
      "_view_count": null,
      "_view_module": "@jupyter-widgets/base",
      "_view_module_version": "1.2.0",
      "_view_name": "LayoutView",
      "align_content": null,
      "align_items": null,
      "align_self": null,
      "border": null,
      "bottom": null,
      "display": null,
      "flex": null,
      "flex_flow": null,
      "grid_area": null,
      "grid_auto_columns": null,
      "grid_auto_flow": null,
      "grid_auto_rows": null,
      "grid_column": null,
      "grid_gap": null,
      "grid_row": null,
      "grid_template_areas": null,
      "grid_template_columns": null,
      "grid_template_rows": null,
      "height": null,
      "justify_content": null,
      "justify_items": null,
      "left": null,
      "margin": null,
      "max_height": null,
      "max_width": null,
      "min_height": null,
      "min_width": null,
      "object_fit": null,
      "object_position": null,
      "order": null,
      "overflow": null,
      "overflow_x": null,
      "overflow_y": null,
      "padding": null,
      "right": null,
      "top": null,
      "visibility": null,
      "width": null
     }
    },
    "d202d09d5d6d48d7b19f2d3cee3668bb": {
     "model_module": "@jupyter-widgets/base",
     "model_module_version": "1.2.0",
     "model_name": "LayoutModel",
     "state": {
      "_model_module": "@jupyter-widgets/base",
      "_model_module_version": "1.2.0",
      "_model_name": "LayoutModel",
      "_view_count": null,
      "_view_module": "@jupyter-widgets/base",
      "_view_module_version": "1.2.0",
      "_view_name": "LayoutView",
      "align_content": null,
      "align_items": null,
      "align_self": null,
      "border": null,
      "bottom": null,
      "display": null,
      "flex": null,
      "flex_flow": null,
      "grid_area": null,
      "grid_auto_columns": null,
      "grid_auto_flow": null,
      "grid_auto_rows": null,
      "grid_column": null,
      "grid_gap": null,
      "grid_row": null,
      "grid_template_areas": null,
      "grid_template_columns": null,
      "grid_template_rows": null,
      "height": null,
      "justify_content": null,
      "justify_items": null,
      "left": null,
      "margin": null,
      "max_height": null,
      "max_width": null,
      "min_height": null,
      "min_width": null,
      "object_fit": null,
      "object_position": null,
      "order": null,
      "overflow": null,
      "overflow_x": null,
      "overflow_y": null,
      "padding": null,
      "right": null,
      "top": null,
      "visibility": null,
      "width": null
     }
    },
    "d3303725f39e4e5b801d377fb8ee6b63": {
     "model_module": "@jupyter-widgets/controls",
     "model_module_version": "1.5.0",
     "model_name": "DescriptionStyleModel",
     "state": {
      "_model_module": "@jupyter-widgets/controls",
      "_model_module_version": "1.5.0",
      "_model_name": "DescriptionStyleModel",
      "_view_count": null,
      "_view_module": "@jupyter-widgets/base",
      "_view_module_version": "1.2.0",
      "_view_name": "StyleView",
      "description_width": ""
     }
    },
    "d33f7ff6f21e40469d48e82dc5968f1c": {
     "model_module": "@jupyter-widgets/base",
     "model_module_version": "1.2.0",
     "model_name": "LayoutModel",
     "state": {
      "_model_module": "@jupyter-widgets/base",
      "_model_module_version": "1.2.0",
      "_model_name": "LayoutModel",
      "_view_count": null,
      "_view_module": "@jupyter-widgets/base",
      "_view_module_version": "1.2.0",
      "_view_name": "LayoutView",
      "align_content": null,
      "align_items": null,
      "align_self": null,
      "border": null,
      "bottom": null,
      "display": null,
      "flex": null,
      "flex_flow": null,
      "grid_area": null,
      "grid_auto_columns": null,
      "grid_auto_flow": null,
      "grid_auto_rows": null,
      "grid_column": null,
      "grid_gap": null,
      "grid_row": null,
      "grid_template_areas": null,
      "grid_template_columns": null,
      "grid_template_rows": null,
      "height": null,
      "justify_content": null,
      "justify_items": null,
      "left": null,
      "margin": null,
      "max_height": null,
      "max_width": null,
      "min_height": null,
      "min_width": null,
      "object_fit": null,
      "object_position": null,
      "order": null,
      "overflow": null,
      "overflow_x": null,
      "overflow_y": null,
      "padding": null,
      "right": null,
      "top": null,
      "visibility": null,
      "width": null
     }
    },
    "d4c2a9c9cc1e4494995c66f84bcf10ab": {
     "model_module": "@jupyter-widgets/controls",
     "model_module_version": "1.5.0",
     "model_name": "DescriptionStyleModel",
     "state": {
      "_model_module": "@jupyter-widgets/controls",
      "_model_module_version": "1.5.0",
      "_model_name": "DescriptionStyleModel",
      "_view_count": null,
      "_view_module": "@jupyter-widgets/base",
      "_view_module_version": "1.2.0",
      "_view_name": "StyleView",
      "description_width": ""
     }
    },
    "d775ce42e3ca4fccbf02b2b8eb0f5960": {
     "model_module": "@jupyter-widgets/controls",
     "model_module_version": "1.5.0",
     "model_name": "ProgressStyleModel",
     "state": {
      "_model_module": "@jupyter-widgets/controls",
      "_model_module_version": "1.5.0",
      "_model_name": "ProgressStyleModel",
      "_view_count": null,
      "_view_module": "@jupyter-widgets/base",
      "_view_module_version": "1.2.0",
      "_view_name": "StyleView",
      "bar_color": null,
      "description_width": ""
     }
    },
    "d9cc8f398cbb4504b77f7a6a08237d61": {
     "model_module": "@jupyter-widgets/base",
     "model_module_version": "1.2.0",
     "model_name": "LayoutModel",
     "state": {
      "_model_module": "@jupyter-widgets/base",
      "_model_module_version": "1.2.0",
      "_model_name": "LayoutModel",
      "_view_count": null,
      "_view_module": "@jupyter-widgets/base",
      "_view_module_version": "1.2.0",
      "_view_name": "LayoutView",
      "align_content": null,
      "align_items": null,
      "align_self": null,
      "border": null,
      "bottom": null,
      "display": null,
      "flex": null,
      "flex_flow": null,
      "grid_area": null,
      "grid_auto_columns": null,
      "grid_auto_flow": null,
      "grid_auto_rows": null,
      "grid_column": null,
      "grid_gap": null,
      "grid_row": null,
      "grid_template_areas": null,
      "grid_template_columns": null,
      "grid_template_rows": null,
      "height": null,
      "justify_content": null,
      "justify_items": null,
      "left": null,
      "margin": null,
      "max_height": null,
      "max_width": null,
      "min_height": null,
      "min_width": null,
      "object_fit": null,
      "object_position": null,
      "order": null,
      "overflow": null,
      "overflow_x": null,
      "overflow_y": null,
      "padding": null,
      "right": null,
      "top": null,
      "visibility": null,
      "width": null
     }
    },
    "db606defe7fb4e5f93ee1817dd7482d3": {
     "model_module": "@jupyter-widgets/controls",
     "model_module_version": "1.5.0",
     "model_name": "DescriptionStyleModel",
     "state": {
      "_model_module": "@jupyter-widgets/controls",
      "_model_module_version": "1.5.0",
      "_model_name": "DescriptionStyleModel",
      "_view_count": null,
      "_view_module": "@jupyter-widgets/base",
      "_view_module_version": "1.2.0",
      "_view_name": "StyleView",
      "description_width": ""
     }
    },
    "dd6ac68594a74a229954df0507eee9a4": {
     "model_module": "@jupyter-widgets/controls",
     "model_module_version": "1.5.0",
     "model_name": "HBoxModel",
     "state": {
      "_dom_classes": [],
      "_model_module": "@jupyter-widgets/controls",
      "_model_module_version": "1.5.0",
      "_model_name": "HBoxModel",
      "_view_count": null,
      "_view_module": "@jupyter-widgets/controls",
      "_view_module_version": "1.5.0",
      "_view_name": "HBoxView",
      "box_style": "",
      "children": [
       "IPY_MODEL_aeeb65ff000f4fb1a38668b853337ef6",
       "IPY_MODEL_a019e0e9cd00404fbec6faa5658a1b68",
       "IPY_MODEL_56001edf431f48e59b73a2c21689fbec"
      ],
      "layout": "IPY_MODEL_276dc3f03413470f91842f85d6d935c4"
     }
    },
    "de1c278efe7f4480b8bf335f271b2477": {
     "model_module": "@jupyter-widgets/base",
     "model_module_version": "1.2.0",
     "model_name": "LayoutModel",
     "state": {
      "_model_module": "@jupyter-widgets/base",
      "_model_module_version": "1.2.0",
      "_model_name": "LayoutModel",
      "_view_count": null,
      "_view_module": "@jupyter-widgets/base",
      "_view_module_version": "1.2.0",
      "_view_name": "LayoutView",
      "align_content": null,
      "align_items": null,
      "align_self": null,
      "border": null,
      "bottom": null,
      "display": null,
      "flex": null,
      "flex_flow": null,
      "grid_area": null,
      "grid_auto_columns": null,
      "grid_auto_flow": null,
      "grid_auto_rows": null,
      "grid_column": null,
      "grid_gap": null,
      "grid_row": null,
      "grid_template_areas": null,
      "grid_template_columns": null,
      "grid_template_rows": null,
      "height": null,
      "justify_content": null,
      "justify_items": null,
      "left": null,
      "margin": null,
      "max_height": null,
      "max_width": null,
      "min_height": null,
      "min_width": null,
      "object_fit": null,
      "object_position": null,
      "order": null,
      "overflow": null,
      "overflow_x": null,
      "overflow_y": null,
      "padding": null,
      "right": null,
      "top": null,
      "visibility": null,
      "width": null
     }
    },
    "e0dcc547c6a44de38519fd3ff275b2d8": {
     "model_module": "@jupyter-widgets/controls",
     "model_module_version": "1.5.0",
     "model_name": "FloatProgressModel",
     "state": {
      "_dom_classes": [],
      "_model_module": "@jupyter-widgets/controls",
      "_model_module_version": "1.5.0",
      "_model_name": "FloatProgressModel",
      "_view_count": null,
      "_view_module": "@jupyter-widgets/controls",
      "_view_module_version": "1.5.0",
      "_view_name": "ProgressView",
      "bar_style": "success",
      "description": "",
      "description_tooltip": null,
      "layout": "IPY_MODEL_f80a02ba65b241e4a7c0a9d4bac226b8",
      "max": 2195,
      "min": 0,
      "orientation": "horizontal",
      "style": "IPY_MODEL_fdd02c5f6bcb4a0ab235b834fad4d453",
      "value": 2195
     }
    },
    "e578f9d3e4744c5286c7a98e1089364b": {
     "model_module": "@jupyter-widgets/controls",
     "model_module_version": "1.5.0",
     "model_name": "FloatProgressModel",
     "state": {
      "_dom_classes": [],
      "_model_module": "@jupyter-widgets/controls",
      "_model_module_version": "1.5.0",
      "_model_name": "FloatProgressModel",
      "_view_count": null,
      "_view_module": "@jupyter-widgets/controls",
      "_view_module_version": "1.5.0",
      "_view_name": "ProgressView",
      "bar_style": "success",
      "description": "",
      "description_tooltip": null,
      "layout": "IPY_MODEL_56e67c2b4d224eaca14e42d5c3934adb",
      "max": 461,
      "min": 0,
      "orientation": "horizontal",
      "style": "IPY_MODEL_ed2becbb83674b4f9a336292833b3e47",
      "value": 461
     }
    },
    "e620cec3df894a15905c494940b54c80": {
     "model_module": "@jupyter-widgets/base",
     "model_module_version": "1.2.0",
     "model_name": "LayoutModel",
     "state": {
      "_model_module": "@jupyter-widgets/base",
      "_model_module_version": "1.2.0",
      "_model_name": "LayoutModel",
      "_view_count": null,
      "_view_module": "@jupyter-widgets/base",
      "_view_module_version": "1.2.0",
      "_view_name": "LayoutView",
      "align_content": null,
      "align_items": null,
      "align_self": null,
      "border": null,
      "bottom": null,
      "display": null,
      "flex": null,
      "flex_flow": null,
      "grid_area": null,
      "grid_auto_columns": null,
      "grid_auto_flow": null,
      "grid_auto_rows": null,
      "grid_column": null,
      "grid_gap": null,
      "grid_row": null,
      "grid_template_areas": null,
      "grid_template_columns": null,
      "grid_template_rows": null,
      "height": null,
      "justify_content": null,
      "justify_items": null,
      "left": null,
      "margin": null,
      "max_height": null,
      "max_width": null,
      "min_height": null,
      "min_width": null,
      "object_fit": null,
      "object_position": null,
      "order": null,
      "overflow": null,
      "overflow_x": null,
      "overflow_y": null,
      "padding": null,
      "right": null,
      "top": null,
      "visibility": null,
      "width": null
     }
    },
    "ebc2f057f3b342b487c8c758329c5d2e": {
     "model_module": "@jupyter-widgets/controls",
     "model_module_version": "1.5.0",
     "model_name": "HBoxModel",
     "state": {
      "_dom_classes": [],
      "_model_module": "@jupyter-widgets/controls",
      "_model_module_version": "1.5.0",
      "_model_name": "HBoxModel",
      "_view_count": null,
      "_view_module": "@jupyter-widgets/controls",
      "_view_module_version": "1.5.0",
      "_view_name": "HBoxView",
      "box_style": "",
      "children": [
       "IPY_MODEL_2daaf4c517cb4b96b41ab4f19045fa1a",
       "IPY_MODEL_edac328b6dd24eaeab78ea6fb2e2b995",
       "IPY_MODEL_6f68e4f8cf4e4a2c9a7109ab2d37b6ec"
      ],
      "layout": "IPY_MODEL_c4dbe5415cda4a6f96af44b179695081"
     }
    },
    "ec438dd936b74616af482053dc59f153": {
     "model_module": "@jupyter-widgets/controls",
     "model_module_version": "1.5.0",
     "model_name": "DescriptionStyleModel",
     "state": {
      "_model_module": "@jupyter-widgets/controls",
      "_model_module_version": "1.5.0",
      "_model_name": "DescriptionStyleModel",
      "_view_count": null,
      "_view_module": "@jupyter-widgets/base",
      "_view_module_version": "1.2.0",
      "_view_name": "StyleView",
      "description_width": ""
     }
    },
    "ecec42def5344b40b43c33d9b453f1e4": {
     "model_module": "@jupyter-widgets/base",
     "model_module_version": "1.2.0",
     "model_name": "LayoutModel",
     "state": {
      "_model_module": "@jupyter-widgets/base",
      "_model_module_version": "1.2.0",
      "_model_name": "LayoutModel",
      "_view_count": null,
      "_view_module": "@jupyter-widgets/base",
      "_view_module_version": "1.2.0",
      "_view_name": "LayoutView",
      "align_content": null,
      "align_items": null,
      "align_self": null,
      "border": null,
      "bottom": null,
      "display": null,
      "flex": null,
      "flex_flow": null,
      "grid_area": null,
      "grid_auto_columns": null,
      "grid_auto_flow": null,
      "grid_auto_rows": null,
      "grid_column": null,
      "grid_gap": null,
      "grid_row": null,
      "grid_template_areas": null,
      "grid_template_columns": null,
      "grid_template_rows": null,
      "height": null,
      "justify_content": null,
      "justify_items": null,
      "left": null,
      "margin": null,
      "max_height": null,
      "max_width": null,
      "min_height": null,
      "min_width": null,
      "object_fit": null,
      "object_position": null,
      "order": null,
      "overflow": null,
      "overflow_x": null,
      "overflow_y": null,
      "padding": null,
      "right": null,
      "top": null,
      "visibility": null,
      "width": null
     }
    },
    "ed2becbb83674b4f9a336292833b3e47": {
     "model_module": "@jupyter-widgets/controls",
     "model_module_version": "1.5.0",
     "model_name": "ProgressStyleModel",
     "state": {
      "_model_module": "@jupyter-widgets/controls",
      "_model_module_version": "1.5.0",
      "_model_name": "ProgressStyleModel",
      "_view_count": null,
      "_view_module": "@jupyter-widgets/base",
      "_view_module_version": "1.2.0",
      "_view_name": "StyleView",
      "bar_color": null,
      "description_width": ""
     }
    },
    "edac328b6dd24eaeab78ea6fb2e2b995": {
     "model_module": "@jupyter-widgets/controls",
     "model_module_version": "1.5.0",
     "model_name": "FloatProgressModel",
     "state": {
      "_dom_classes": [],
      "_model_module": "@jupyter-widgets/controls",
      "_model_module_version": "1.5.0",
      "_model_name": "FloatProgressModel",
      "_view_count": null,
      "_view_module": "@jupyter-widgets/controls",
      "_view_module_version": "1.5.0",
      "_view_name": "ProgressView",
      "bar_style": "success",
      "description": "",
      "description_tooltip": null,
      "layout": "IPY_MODEL_74d8f3ab92144c9dbfa0be301fa1c880",
      "max": 112,
      "min": 0,
      "orientation": "horizontal",
      "style": "IPY_MODEL_54471685cbde4c07b158de7a657a7fd9",
      "value": 112
     }
    },
    "edce1f06104146bb98b62cfd7c88e4d5": {
     "model_module": "@jupyter-widgets/controls",
     "model_module_version": "1.5.0",
     "model_name": "FloatProgressModel",
     "state": {
      "_dom_classes": [],
      "_model_module": "@jupyter-widgets/controls",
      "_model_module_version": "1.5.0",
      "_model_name": "FloatProgressModel",
      "_view_count": null,
      "_view_module": "@jupyter-widgets/controls",
      "_view_module_version": "1.5.0",
      "_view_name": "ProgressView",
      "bar_style": "success",
      "description": "",
      "description_tooltip": null,
      "layout": "IPY_MODEL_b88c6784a31a4e9cb43812ef13d90e97",
      "max": 5220781,
      "min": 0,
      "orientation": "horizontal",
      "style": "IPY_MODEL_171188a5fbdd4ec395c9205e6758f55e",
      "value": 5220781
     }
    },
    "ef77018625f8473fa24152424dce7786": {
     "model_module": "@jupyter-widgets/controls",
     "model_module_version": "1.5.0",
     "model_name": "DescriptionStyleModel",
     "state": {
      "_model_module": "@jupyter-widgets/controls",
      "_model_module_version": "1.5.0",
      "_model_name": "DescriptionStyleModel",
      "_view_count": null,
      "_view_module": "@jupyter-widgets/base",
      "_view_module_version": "1.2.0",
      "_view_name": "StyleView",
      "description_width": ""
     }
    },
    "ef9e36e0d0d74556a7ff3ff03bb3b4ff": {
     "model_module": "@jupyter-widgets/controls",
     "model_module_version": "1.5.0",
     "model_name": "ProgressStyleModel",
     "state": {
      "_model_module": "@jupyter-widgets/controls",
      "_model_module_version": "1.5.0",
      "_model_name": "ProgressStyleModel",
      "_view_count": null,
      "_view_module": "@jupyter-widgets/base",
      "_view_module_version": "1.2.0",
      "_view_name": "StyleView",
      "bar_color": null,
      "description_width": ""
     }
    },
    "f13a573b68364c8bb54b4ff572369cb8": {
     "model_module": "@jupyter-widgets/controls",
     "model_module_version": "1.5.0",
     "model_name": "DescriptionStyleModel",
     "state": {
      "_model_module": "@jupyter-widgets/controls",
      "_model_module_version": "1.5.0",
      "_model_name": "DescriptionStyleModel",
      "_view_count": null,
      "_view_module": "@jupyter-widgets/base",
      "_view_module_version": "1.2.0",
      "_view_name": "StyleView",
      "description_width": ""
     }
    },
    "f5c348ace47d486f9d407cfe7c34e6a5": {
     "model_module": "@jupyter-widgets/base",
     "model_module_version": "1.2.0",
     "model_name": "LayoutModel",
     "state": {
      "_model_module": "@jupyter-widgets/base",
      "_model_module_version": "1.2.0",
      "_model_name": "LayoutModel",
      "_view_count": null,
      "_view_module": "@jupyter-widgets/base",
      "_view_module_version": "1.2.0",
      "_view_name": "LayoutView",
      "align_content": null,
      "align_items": null,
      "align_self": null,
      "border": null,
      "bottom": null,
      "display": null,
      "flex": null,
      "flex_flow": null,
      "grid_area": null,
      "grid_auto_columns": null,
      "grid_auto_flow": null,
      "grid_auto_rows": null,
      "grid_column": null,
      "grid_gap": null,
      "grid_row": null,
      "grid_template_areas": null,
      "grid_template_columns": null,
      "grid_template_rows": null,
      "height": null,
      "justify_content": null,
      "justify_items": null,
      "left": null,
      "margin": null,
      "max_height": null,
      "max_width": null,
      "min_height": null,
      "min_width": null,
      "object_fit": null,
      "object_position": null,
      "order": null,
      "overflow": null,
      "overflow_x": null,
      "overflow_y": null,
      "padding": null,
      "right": null,
      "top": null,
      "visibility": null,
      "width": null
     }
    },
    "f80a02ba65b241e4a7c0a9d4bac226b8": {
     "model_module": "@jupyter-widgets/base",
     "model_module_version": "1.2.0",
     "model_name": "LayoutModel",
     "state": {
      "_model_module": "@jupyter-widgets/base",
      "_model_module_version": "1.2.0",
      "_model_name": "LayoutModel",
      "_view_count": null,
      "_view_module": "@jupyter-widgets/base",
      "_view_module_version": "1.2.0",
      "_view_name": "LayoutView",
      "align_content": null,
      "align_items": null,
      "align_self": null,
      "border": null,
      "bottom": null,
      "display": null,
      "flex": null,
      "flex_flow": null,
      "grid_area": null,
      "grid_auto_columns": null,
      "grid_auto_flow": null,
      "grid_auto_rows": null,
      "grid_column": null,
      "grid_gap": null,
      "grid_row": null,
      "grid_template_areas": null,
      "grid_template_columns": null,
      "grid_template_rows": null,
      "height": null,
      "justify_content": null,
      "justify_items": null,
      "left": null,
      "margin": null,
      "max_height": null,
      "max_width": null,
      "min_height": null,
      "min_width": null,
      "object_fit": null,
      "object_position": null,
      "order": null,
      "overflow": null,
      "overflow_x": null,
      "overflow_y": null,
      "padding": null,
      "right": null,
      "top": null,
      "visibility": null,
      "width": null
     }
    },
    "f9630bca2e7143be9ec0babd4d438a7f": {
     "model_module": "@jupyter-widgets/controls",
     "model_module_version": "1.5.0",
     "model_name": "DescriptionStyleModel",
     "state": {
      "_model_module": "@jupyter-widgets/controls",
      "_model_module_version": "1.5.0",
      "_model_name": "DescriptionStyleModel",
      "_view_count": null,
      "_view_module": "@jupyter-widgets/base",
      "_view_module_version": "1.2.0",
      "_view_name": "StyleView",
      "description_width": ""
     }
    },
    "fab307f32af645dfa909abdb7f9b237a": {
     "model_module": "@jupyter-widgets/controls",
     "model_module_version": "1.5.0",
     "model_name": "DescriptionStyleModel",
     "state": {
      "_model_module": "@jupyter-widgets/controls",
      "_model_module_version": "1.5.0",
      "_model_name": "DescriptionStyleModel",
      "_view_count": null,
      "_view_module": "@jupyter-widgets/base",
      "_view_module_version": "1.2.0",
      "_view_name": "StyleView",
      "description_width": ""
     }
    },
    "fb17d95eeee84d1b822684d337449b12": {
     "model_module": "@jupyter-widgets/base",
     "model_module_version": "1.2.0",
     "model_name": "LayoutModel",
     "state": {
      "_model_module": "@jupyter-widgets/base",
      "_model_module_version": "1.2.0",
      "_model_name": "LayoutModel",
      "_view_count": null,
      "_view_module": "@jupyter-widgets/base",
      "_view_module_version": "1.2.0",
      "_view_name": "LayoutView",
      "align_content": null,
      "align_items": null,
      "align_self": null,
      "border": null,
      "bottom": null,
      "display": null,
      "flex": null,
      "flex_flow": null,
      "grid_area": null,
      "grid_auto_columns": null,
      "grid_auto_flow": null,
      "grid_auto_rows": null,
      "grid_column": null,
      "grid_gap": null,
      "grid_row": null,
      "grid_template_areas": null,
      "grid_template_columns": null,
      "grid_template_rows": null,
      "height": null,
      "justify_content": null,
      "justify_items": null,
      "left": null,
      "margin": null,
      "max_height": null,
      "max_width": null,
      "min_height": null,
      "min_width": null,
      "object_fit": null,
      "object_position": null,
      "order": null,
      "overflow": null,
      "overflow_x": null,
      "overflow_y": null,
      "padding": null,
      "right": null,
      "top": null,
      "visibility": null,
      "width": null
     }
    },
    "fba504a372e24e0782cc883f6b4163fc": {
     "model_module": "@jupyter-widgets/controls",
     "model_module_version": "1.5.0",
     "model_name": "HTMLModel",
     "state": {
      "_dom_classes": [],
      "_model_module": "@jupyter-widgets/controls",
      "_model_module_version": "1.5.0",
      "_model_name": "HTMLModel",
      "_view_count": null,
      "_view_module": "@jupyter-widgets/controls",
      "_view_module_version": "1.5.0",
      "_view_name": "HTMLView",
      "description": "",
      "description_tooltip": null,
      "layout": "IPY_MODEL_a682d86c3a2542a3bc0d3a7dbd9edc1c",
      "placeholder": "​",
      "style": "IPY_MODEL_78e123de2ac94e048cf612121f04425e",
      "value": "2_Dense/config.json: 100%"
     }
    },
    "fdd02c5f6bcb4a0ab235b834fad4d453": {
     "model_module": "@jupyter-widgets/controls",
     "model_module_version": "1.5.0",
     "model_name": "ProgressStyleModel",
     "state": {
      "_model_module": "@jupyter-widgets/controls",
      "_model_module_version": "1.5.0",
      "_model_name": "ProgressStyleModel",
      "_view_count": null,
      "_view_module": "@jupyter-widgets/base",
      "_view_module_version": "1.2.0",
      "_view_name": "StyleView",
      "bar_color": null,
      "description_width": ""
     }
    }
   }
  }
 },
 "nbformat": 4,
 "nbformat_minor": 1
}
